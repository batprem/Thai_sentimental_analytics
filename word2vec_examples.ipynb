{
 "cells": [
  {
   "cell_type": "markdown",
   "metadata": {},
   "source": [
    "# Thai2Vec Embeddings Examples\n",
    "\n",
    "We use the embeddings from `v0.1` since it was trained specifically for word2vec as opposed to latter versions which garner to classification. The `thai2vec.bin` 51,556 word embeddings of 300 dimensions, in descending order by their frequencies (See `thai2vec.vocab`). The files are in word2vec format readable by `gensim`. Most common applications include word vector visualization, word arithmetic, word grouping, cosine similarity and sentence or document vectors. For sample code, see `thwiki_lm/word2vec_examples.ipynb`."
   ]
  },
  {
   "cell_type": "markdown",
   "metadata": {},
   "source": [
    "## Imports"
   ]
  },
  {
   "cell_type": "code",
   "execution_count": null,
   "metadata": {},
   "outputs": [],
   "source": [
    "# #uncomment if you are running from google colab\n",
    "# !pip install sklearn_crfsuite\n",
    "# !pip install https://github.com/PyThaiNLP/pythainlp/archive/dev.zip\n",
    "# !pip install fastai==1.0.46\n",
    "# !pip install emoji"
   ]
  },
  {
   "cell_type": "code",
   "execution_count": 1,
   "metadata": {
    "ExecuteTime": {
     "end_time": "2018-01-28T04:55:05.294165Z",
     "start_time": "2018-01-28T04:55:05.203078Z"
    }
   },
   "outputs": [],
   "source": [
    "%reload_ext autoreload\n",
    "%autoreload 2\n",
    "%matplotlib inline\n",
    "\n",
    "from pythainlp.tokenize import word_tokenize\n",
    "from gensim.models import KeyedVectors\n",
    "import numpy as np\n",
    "\n",
    "from sklearn.manifold import TSNE\n",
    "import matplotlib.pyplot as plt\n",
    "import matplotlib.font_manager as fm\n",
    "\n",
    "import dill as pickle\n",
    "import pandas as pd\n",
    "\n",
    "model_path = 'thwiki_data/models/'"
   ]
  },
  {
   "cell_type": "code",
   "execution_count": 2,
   "metadata": {},
   "outputs": [],
   "source": [
    "#load into gensim\n",
    "# model = KeyedVectors.load_word2vec_format(f'{model_path}thai2vec.bin',binary=True)\n",
    "from pythainlp import word_vector\n",
    "model = word_vector.get_model()"
   ]
  },
  {
   "cell_type": "code",
   "execution_count": 3,
   "metadata": {
    "ExecuteTime": {
     "end_time": "2018-01-28T04:58:27.057401Z",
     "start_time": "2018-01-28T04:58:09.721798Z"
    }
   },
   "outputs": [
    {
     "data": {
      "text/html": [
       "<div>\n",
       "<style scoped>\n",
       "    .dataframe tbody tr th:only-of-type {\n",
       "        vertical-align: middle;\n",
       "    }\n",
       "\n",
       "    .dataframe tbody tr th {\n",
       "        vertical-align: top;\n",
       "    }\n",
       "\n",
       "    .dataframe thead th {\n",
       "        text-align: right;\n",
       "    }\n",
       "</style>\n",
       "<table border=\"1\" class=\"dataframe\">\n",
       "  <thead>\n",
       "    <tr style=\"text-align: right;\">\n",
       "      <th></th>\n",
       "      <th>0</th>\n",
       "      <th>1</th>\n",
       "      <th>2</th>\n",
       "      <th>3</th>\n",
       "      <th>4</th>\n",
       "      <th>5</th>\n",
       "      <th>6</th>\n",
       "      <th>7</th>\n",
       "      <th>8</th>\n",
       "      <th>9</th>\n",
       "      <th>...</th>\n",
       "      <th>290</th>\n",
       "      <th>291</th>\n",
       "      <th>292</th>\n",
       "      <th>293</th>\n",
       "      <th>294</th>\n",
       "      <th>295</th>\n",
       "      <th>296</th>\n",
       "      <th>297</th>\n",
       "      <th>298</th>\n",
       "      <th>299</th>\n",
       "    </tr>\n",
       "  </thead>\n",
       "  <tbody>\n",
       "    <tr>\n",
       "      <th>ที่</th>\n",
       "      <td>0.308956</td>\n",
       "      <td>-0.097699</td>\n",
       "      <td>0.116745</td>\n",
       "      <td>0.215612</td>\n",
       "      <td>0.015768</td>\n",
       "      <td>-0.064163</td>\n",
       "      <td>0.062168</td>\n",
       "      <td>0.039649</td>\n",
       "      <td>0.864940</td>\n",
       "      <td>0.846904</td>\n",
       "      <td>...</td>\n",
       "      <td>-0.142418</td>\n",
       "      <td>0.033241</td>\n",
       "      <td>0.171581</td>\n",
       "      <td>-0.624864</td>\n",
       "      <td>-0.009358</td>\n",
       "      <td>0.449131</td>\n",
       "      <td>0.120130</td>\n",
       "      <td>-0.122195</td>\n",
       "      <td>-0.450617</td>\n",
       "      <td>-0.071318</td>\n",
       "    </tr>\n",
       "    <tr>\n",
       "      <th>และ</th>\n",
       "      <td>0.010751</td>\n",
       "      <td>-0.618971</td>\n",
       "      <td>0.129665</td>\n",
       "      <td>0.035460</td>\n",
       "      <td>-0.007560</td>\n",
       "      <td>0.027607</td>\n",
       "      <td>0.397824</td>\n",
       "      <td>0.026543</td>\n",
       "      <td>0.254075</td>\n",
       "      <td>0.168328</td>\n",
       "      <td>...</td>\n",
       "      <td>-0.105786</td>\n",
       "      <td>0.180930</td>\n",
       "      <td>-0.101630</td>\n",
       "      <td>0.070885</td>\n",
       "      <td>-0.037263</td>\n",
       "      <td>0.183606</td>\n",
       "      <td>-0.049088</td>\n",
       "      <td>-0.672288</td>\n",
       "      <td>-1.293044</td>\n",
       "      <td>0.592576</td>\n",
       "    </tr>\n",
       "    <tr>\n",
       "      <th>เป็น</th>\n",
       "      <td>-0.015736</td>\n",
       "      <td>-0.258926</td>\n",
       "      <td>0.052953</td>\n",
       "      <td>0.153728</td>\n",
       "      <td>-0.005985</td>\n",
       "      <td>-0.021081</td>\n",
       "      <td>0.041088</td>\n",
       "      <td>0.057312</td>\n",
       "      <td>1.633230</td>\n",
       "      <td>0.442729</td>\n",
       "      <td>...</td>\n",
       "      <td>-0.009408</td>\n",
       "      <td>-0.252576</td>\n",
       "      <td>-0.305512</td>\n",
       "      <td>0.372542</td>\n",
       "      <td>0.049151</td>\n",
       "      <td>0.568470</td>\n",
       "      <td>0.266586</td>\n",
       "      <td>0.400800</td>\n",
       "      <td>-0.784650</td>\n",
       "      <td>0.197369</td>\n",
       "    </tr>\n",
       "    <tr>\n",
       "      <th>ของ</th>\n",
       "      <td>-0.189711</td>\n",
       "      <td>-0.174774</td>\n",
       "      <td>0.171124</td>\n",
       "      <td>-0.186771</td>\n",
       "      <td>0.054294</td>\n",
       "      <td>-0.114150</td>\n",
       "      <td>-1.109456</td>\n",
       "      <td>-0.094466</td>\n",
       "      <td>-0.447015</td>\n",
       "      <td>0.042377</td>\n",
       "      <td>...</td>\n",
       "      <td>-0.168676</td>\n",
       "      <td>-0.148738</td>\n",
       "      <td>0.680404</td>\n",
       "      <td>0.097702</td>\n",
       "      <td>0.020270</td>\n",
       "      <td>0.182967</td>\n",
       "      <td>-0.083949</td>\n",
       "      <td>0.006287</td>\n",
       "      <td>-0.707434</td>\n",
       "      <td>-0.070234</td>\n",
       "    </tr>\n",
       "    <tr>\n",
       "      <th>มี</th>\n",
       "      <td>-0.156962</td>\n",
       "      <td>-0.231863</td>\n",
       "      <td>0.080312</td>\n",
       "      <td>0.323157</td>\n",
       "      <td>0.215695</td>\n",
       "      <td>0.055145</td>\n",
       "      <td>0.420794</td>\n",
       "      <td>0.016842</td>\n",
       "      <td>0.256759</td>\n",
       "      <td>0.832864</td>\n",
       "      <td>...</td>\n",
       "      <td>-0.044267</td>\n",
       "      <td>-0.147186</td>\n",
       "      <td>-0.105424</td>\n",
       "      <td>0.907078</td>\n",
       "      <td>0.009299</td>\n",
       "      <td>0.550953</td>\n",
       "      <td>0.139337</td>\n",
       "      <td>0.031696</td>\n",
       "      <td>-0.670379</td>\n",
       "      <td>-0.008048</td>\n",
       "    </tr>\n",
       "    <tr>\n",
       "      <th>ได้</th>\n",
       "      <td>-0.428813</td>\n",
       "      <td>-0.031194</td>\n",
       "      <td>0.041922</td>\n",
       "      <td>-0.036608</td>\n",
       "      <td>-0.008106</td>\n",
       "      <td>0.076470</td>\n",
       "      <td>-0.782270</td>\n",
       "      <td>0.033361</td>\n",
       "      <td>0.606864</td>\n",
       "      <td>0.440520</td>\n",
       "      <td>...</td>\n",
       "      <td>0.024458</td>\n",
       "      <td>-0.025031</td>\n",
       "      <td>0.103389</td>\n",
       "      <td>-0.078255</td>\n",
       "      <td>0.034323</td>\n",
       "      <td>0.459774</td>\n",
       "      <td>-0.748643</td>\n",
       "      <td>0.337775</td>\n",
       "      <td>-0.487408</td>\n",
       "      <td>-0.511535</td>\n",
       "    </tr>\n",
       "    <tr>\n",
       "      <th>\"\"\"\"</th>\n",
       "      <td>-0.287710</td>\n",
       "      <td>0.064193</td>\n",
       "      <td>0.205076</td>\n",
       "      <td>0.146356</td>\n",
       "      <td>-0.071343</td>\n",
       "      <td>-0.039451</td>\n",
       "      <td>-1.845461</td>\n",
       "      <td>0.163763</td>\n",
       "      <td>1.018096</td>\n",
       "      <td>0.272786</td>\n",
       "      <td>...</td>\n",
       "      <td>0.051024</td>\n",
       "      <td>-0.532856</td>\n",
       "      <td>-0.131856</td>\n",
       "      <td>-0.090323</td>\n",
       "      <td>-0.058895</td>\n",
       "      <td>0.151262</td>\n",
       "      <td>-0.420358</td>\n",
       "      <td>0.055971</td>\n",
       "      <td>-0.930814</td>\n",
       "      <td>0.163908</td>\n",
       "    </tr>\n",
       "    <tr>\n",
       "      <th>การ</th>\n",
       "      <td>0.239587</td>\n",
       "      <td>-0.303620</td>\n",
       "      <td>0.079953</td>\n",
       "      <td>-0.453045</td>\n",
       "      <td>-0.528826</td>\n",
       "      <td>-0.161692</td>\n",
       "      <td>0.235725</td>\n",
       "      <td>-0.099673</td>\n",
       "      <td>0.691668</td>\n",
       "      <td>0.536159</td>\n",
       "      <td>...</td>\n",
       "      <td>-0.110436</td>\n",
       "      <td>-0.297495</td>\n",
       "      <td>-0.217414</td>\n",
       "      <td>0.045158</td>\n",
       "      <td>0.066647</td>\n",
       "      <td>0.190095</td>\n",
       "      <td>-0.304333</td>\n",
       "      <td>-0.724927</td>\n",
       "      <td>-0.995488</td>\n",
       "      <td>-0.716609</td>\n",
       "    </tr>\n",
       "    <tr>\n",
       "      <th>(</th>\n",
       "      <td>-0.120522</td>\n",
       "      <td>-0.355783</td>\n",
       "      <td>0.168180</td>\n",
       "      <td>-0.377733</td>\n",
       "      <td>-0.158624</td>\n",
       "      <td>-0.047249</td>\n",
       "      <td>0.361140</td>\n",
       "      <td>0.161460</td>\n",
       "      <td>0.913314</td>\n",
       "      <td>0.345037</td>\n",
       "      <td>...</td>\n",
       "      <td>0.116285</td>\n",
       "      <td>-0.318218</td>\n",
       "      <td>-0.356664</td>\n",
       "      <td>0.519889</td>\n",
       "      <td>0.130475</td>\n",
       "      <td>0.125772</td>\n",
       "      <td>0.101328</td>\n",
       "      <td>-0.382658</td>\n",
       "      <td>-1.205359</td>\n",
       "      <td>0.340139</td>\n",
       "    </tr>\n",
       "    <tr>\n",
       "      <th>)</th>\n",
       "      <td>-0.086848</td>\n",
       "      <td>-0.155231</td>\n",
       "      <td>0.133015</td>\n",
       "      <td>-0.039913</td>\n",
       "      <td>0.183761</td>\n",
       "      <td>0.115142</td>\n",
       "      <td>-1.940854</td>\n",
       "      <td>-0.066565</td>\n",
       "      <td>-2.399744</td>\n",
       "      <td>0.146722</td>\n",
       "      <td>...</td>\n",
       "      <td>0.019406</td>\n",
       "      <td>-0.181474</td>\n",
       "      <td>0.099863</td>\n",
       "      <td>0.516092</td>\n",
       "      <td>0.201697</td>\n",
       "      <td>0.249139</td>\n",
       "      <td>0.252957</td>\n",
       "      <td>1.138815</td>\n",
       "      <td>-0.018209</td>\n",
       "      <td>0.232265</td>\n",
       "    </tr>\n",
       "  </tbody>\n",
       "</table>\n",
       "<p>10 rows × 300 columns</p>\n",
       "</div>"
      ],
      "text/plain": [
       "           0         1         2         3         4         5         6    \\\n",
       "ที่   0.308956 -0.097699  0.116745  0.215612  0.015768 -0.064163  0.062168   \n",
       "และ   0.010751 -0.618971  0.129665  0.035460 -0.007560  0.027607  0.397824   \n",
       "เป็น -0.015736 -0.258926  0.052953  0.153728 -0.005985 -0.021081  0.041088   \n",
       "ของ  -0.189711 -0.174774  0.171124 -0.186771  0.054294 -0.114150 -1.109456   \n",
       "มี   -0.156962 -0.231863  0.080312  0.323157  0.215695  0.055145  0.420794   \n",
       "ได้  -0.428813 -0.031194  0.041922 -0.036608 -0.008106  0.076470 -0.782270   \n",
       "\"\"\"\" -0.287710  0.064193  0.205076  0.146356 -0.071343 -0.039451 -1.845461   \n",
       "การ   0.239587 -0.303620  0.079953 -0.453045 -0.528826 -0.161692  0.235725   \n",
       "(    -0.120522 -0.355783  0.168180 -0.377733 -0.158624 -0.047249  0.361140   \n",
       ")    -0.086848 -0.155231  0.133015 -0.039913  0.183761  0.115142 -1.940854   \n",
       "\n",
       "           7         8         9    ...       290       291       292  \\\n",
       "ที่   0.039649  0.864940  0.846904  ... -0.142418  0.033241  0.171581   \n",
       "และ   0.026543  0.254075  0.168328  ... -0.105786  0.180930 -0.101630   \n",
       "เป็น  0.057312  1.633230  0.442729  ... -0.009408 -0.252576 -0.305512   \n",
       "ของ  -0.094466 -0.447015  0.042377  ... -0.168676 -0.148738  0.680404   \n",
       "มี    0.016842  0.256759  0.832864  ... -0.044267 -0.147186 -0.105424   \n",
       "ได้   0.033361  0.606864  0.440520  ...  0.024458 -0.025031  0.103389   \n",
       "\"\"\"\"  0.163763  1.018096  0.272786  ...  0.051024 -0.532856 -0.131856   \n",
       "การ  -0.099673  0.691668  0.536159  ... -0.110436 -0.297495 -0.217414   \n",
       "(     0.161460  0.913314  0.345037  ...  0.116285 -0.318218 -0.356664   \n",
       ")    -0.066565 -2.399744  0.146722  ...  0.019406 -0.181474  0.099863   \n",
       "\n",
       "           293       294       295       296       297       298       299  \n",
       "ที่  -0.624864 -0.009358  0.449131  0.120130 -0.122195 -0.450617 -0.071318  \n",
       "และ   0.070885 -0.037263  0.183606 -0.049088 -0.672288 -1.293044  0.592576  \n",
       "เป็น  0.372542  0.049151  0.568470  0.266586  0.400800 -0.784650  0.197369  \n",
       "ของ   0.097702  0.020270  0.182967 -0.083949  0.006287 -0.707434 -0.070234  \n",
       "มี    0.907078  0.009299  0.550953  0.139337  0.031696 -0.670379 -0.008048  \n",
       "ได้  -0.078255  0.034323  0.459774 -0.748643  0.337775 -0.487408 -0.511535  \n",
       "\"\"\"\" -0.090323 -0.058895  0.151262 -0.420358  0.055971 -0.930814  0.163908  \n",
       "การ   0.045158  0.066647  0.190095 -0.304333 -0.724927 -0.995488 -0.716609  \n",
       "(     0.519889  0.130475  0.125772  0.101328 -0.382658 -1.205359  0.340139  \n",
       ")     0.516092  0.201697  0.249139  0.252957  1.138815 -0.018209  0.232265  \n",
       "\n",
       "[10 rows x 300 columns]"
      ]
     },
     "execution_count": 3,
     "metadata": {},
     "output_type": "execute_result"
    }
   ],
   "source": [
    "#create dataframe\n",
    "thai2dict = {}\n",
    "for word in model.index2word:\n",
    "    thai2dict[word] = model[word]\n",
    "thai2vec = pd.DataFrame.from_dict(thai2dict,orient='index')\n",
    "thai2vec.head(10)"
   ]
  },
  {
   "cell_type": "markdown",
   "metadata": {},
   "source": [
    "Using t-SNE, we can compress the 300 dimensions of each word into a 2D plane and plot their relationships."
   ]
  },
  {
   "cell_type": "code",
   "execution_count": 8,
   "metadata": {},
   "outputs": [],
   "source": [
    "thai2plot = pickle.load(open(f'thai2plot.pkl','rb'))"
   ]
  },
  {
   "cell_type": "code",
   "execution_count": 4,
   "metadata": {
    "ExecuteTime": {
     "end_time": "2018-01-26T02:35:36.291285Z",
     "start_time": "2018-01-26T02:35:36.264520Z"
    }
   },
   "outputs": [
    {
     "ename": "FileNotFoundError",
     "evalue": "[Errno 2] No such file or directory: 'thwiki_data/models/thai2plot.pkl'",
     "output_type": "error",
     "traceback": [
      "\u001b[0;31m---------------------------------------------------------------------------\u001b[0m",
      "\u001b[0;31mFileNotFoundError\u001b[0m                         Traceback (most recent call last)",
      "\u001b[0;32m<ipython-input-4-9384f7868204>\u001b[0m in \u001b[0;36m<module>\u001b[0;34m\u001b[0m\n\u001b[1;32m      6\u001b[0m \u001b[0;31m# pickle.dump(thai2plot,open(f'{model_path}thai2plot.pkl','wb'))\u001b[0m\u001b[0;34m\u001b[0m\u001b[0;34m\u001b[0m\u001b[0m\n\u001b[1;32m      7\u001b[0m \u001b[0;34m\u001b[0m\u001b[0m\n\u001b[0;32m----> 8\u001b[0;31m \u001b[0mthai2plot\u001b[0m \u001b[0;34m=\u001b[0m \u001b[0mpickle\u001b[0m\u001b[0;34m.\u001b[0m\u001b[0mload\u001b[0m\u001b[0;34m(\u001b[0m\u001b[0mopen\u001b[0m\u001b[0;34m(\u001b[0m\u001b[0;34mf'{model_path}thai2plot.pkl'\u001b[0m\u001b[0;34m,\u001b[0m\u001b[0;34m'rb'\u001b[0m\u001b[0;34m)\u001b[0m\u001b[0;34m)\u001b[0m\u001b[0;34m\u001b[0m\u001b[0m\n\u001b[0m",
      "\u001b[0;31mFileNotFoundError\u001b[0m: [Errno 2] No such file or directory: 'thwiki_data/models/thai2plot.pkl'"
     ]
    }
   ],
   "source": [
    "labels = model.index2word\n",
    "\n",
    "# #tnse\n",
    "# tsne = TSNE(n_components=2, init='pca', n_iter=1000)\n",
    "# thai2plot = tsne.fit_transform(thai2vec)\n",
    "# pickle.dump(thai2plot,open(f'{model_path}thai2plot.pkl','wb'))\n",
    "try:\n",
    "    thai2plot = pickle.load(open(f'{model_path}thai2plot.pkl','rb'))\n",
    "except:\n",
    "    tsne = TSNE(n_components=2, init='pca', n_iter=1000)\n",
    "    thai2plot = tsne.fit_transform(thai2vec)\n",
    "    pickle.dump(thai2plot,open(f'{model_path}thai2plot.pkl','wb'))"
   ]
  },
  {
   "cell_type": "code",
   "execution_count": 7,
   "metadata": {},
   "outputs": [],
   "source": [
    "pickle.dump(thai2plot,open('thai2plot.pkl','wb'))"
   ]
  },
  {
   "cell_type": "code",
   "execution_count": 9,
   "metadata": {},
   "outputs": [
    {
     "data": {
      "text/plain": [
       "['ที่', 'และ', 'เป็น', 'ของ', 'มี', 'ได้', '\"\"\"\"', 'การ', '(', ')']"
      ]
     },
     "execution_count": 9,
     "metadata": {},
     "output_type": "execute_result"
    }
   ],
   "source": [
    "labels[:10]"
   ]
  },
  {
   "cell_type": "code",
   "execution_count": 13,
   "metadata": {},
   "outputs": [
    {
     "name": "stdout",
     "output_type": "stream",
     "text": [
      "Will not apply HSTS. The HSTS database must be a regular and non-world-writable file.\n",
      "ERROR: could not open HSTS store at '/home/batprem/.wget-hsts'. HSTS will be disabled.\n",
      "--2020-03-04 18:59:19--  https://www.f0nt.com/download/sipafonts/THSarabunNew.zip\n",
      "Resolving www.f0nt.com (www.f0nt.com)... 2401:5700:100:503::1821, 103.246.18.21\n",
      "Connecting to www.f0nt.com (www.f0nt.com)|2401:5700:100:503::1821|:443... connected.\n",
      "HTTP request sent, awaiting response... 302 Moved Temporarily\n",
      "Location: https://www.f0nt.com/files/sipafonts/THSarabunNew.zip [following]\n",
      "--2020-03-04 18:59:19--  https://www.f0nt.com/files/sipafonts/THSarabunNew.zip\n",
      "Reusing existing connection to [www.f0nt.com]:443.\n",
      "HTTP request sent, awaiting response... 200 OK\n",
      "Length: 434047 (424K) [application/zip]\n",
      "Saving to: ‘THSarabunNew.zip’\n",
      "\n",
      "THSarabunNew.zip    100%[===================>] 423.87K  --.-KB/s    in 0.06s   \n",
      "\n",
      "2020-03-04 18:59:19 (7.02 MB/s) - ‘THSarabunNew.zip’ saved [434047/434047]\n",
      "\n"
     ]
    }
   ],
   "source": [
    "!wget https://www.f0nt.com/download/sipafonts/THSarabunNew.zip"
   ]
  },
  {
   "cell_type": "code",
   "execution_count": 14,
   "metadata": {},
   "outputs": [],
   "source": [
    "from zipfile import ZipFile\n",
    "with ZipFile('THSarabunNew.zip', 'r') as zipObj:\n",
    "   # Extract all the contents of zip file in current directory\n",
    "   zipObj.extractall()"
   ]
  },
  {
   "cell_type": "code",
   "execution_count": 15,
   "metadata": {
    "ExecuteTime": {
     "end_time": "2018-01-26T02:35:39.610920Z",
     "start_time": "2018-01-26T02:35:38.469383Z"
    }
   },
   "outputs": [
    {
     "data": {
      "image/png": "[encoded data removed]",
      "text/plain": [
       "<Figure size 720x720 with 1 Axes>"
      ]
     },
     "metadata": {
      "needs_background": "light"
     },
     "output_type": "display_data"
    }
   ],
   "source": [
    "#stolen from https://blog.manash.me/how-to-use-pre-trained-word-vectors-from-facebooks-fasttext-a71e6d55f27\n",
    "def plot_with_labels(low_dim_embs, labels, filename=None, figsize=(10,10),\n",
    "                    axis_lims = None):\n",
    "    assert low_dim_embs.shape[0] >= len(labels), \"More labels than embeddings\"\n",
    "    plt.figure(figsize=figsize)  # in inches\n",
    "    for i, label in enumerate(labels):\n",
    "        x, y = low_dim_embs[i, :]\n",
    "        plt.scatter(x, y)\n",
    "        prop = fm.FontProperties(fname=f'THSarabunNew.ttf',size=20)\n",
    "        plt.annotate(label,\n",
    "                 fontproperties=prop,\n",
    "                 xy=(x, y),\n",
    "                 xytext=(5, 2),\n",
    "                 textcoords='offset points',\n",
    "                 ha='right',\n",
    "                 va='bottom')\n",
    "    if axis_lims is not None: plt.axis(axis_lims)\n",
    "    if filename: plt.savefig(filename)\n",
    "    \n",
    "plot_with_labels(thai2plot[200:500],labels[200:500],axis_lims = [0,30,0,30])"
   ]
  },
  {
   "cell_type": "markdown",
   "metadata": {},
   "source": [
    "## Word Arithmetic"
   ]
  },
  {
   "cell_type": "markdown",
   "metadata": {},
   "source": [
    "You can do simple \"arithmetic\" with words based on the word vectors such as:\n",
    "* ผู้หญิง + พระราชา - ผู้ชาย = พระราชินี\n",
    "* นายกรัฐมนตรี - อำนาจ = ประธานาธิบดี\n",
    "* กิ้งก่า + โบราณ = ไดโนเสาร์"
   ]
  },
  {
   "cell_type": "code",
   "execution_count": 16,
   "metadata": {
    "ExecuteTime": {
     "end_time": "2018-01-25T08:48:16.434798Z",
     "start_time": "2018-01-25T08:48:16.312043Z"
    }
   },
   "outputs": [
    {
     "data": {
      "text/plain": [
       "[('พระราชินี', 0.7954867482185364),\n",
       " ('กษัตริย์', 0.7382755279541016),\n",
       " ('พระเจ้า', 0.7046602368354797),\n",
       " ('เจ้าชาย', 0.6979373097419739),\n",
       " ('พระมหากษัตริย์', 0.6972416639328003),\n",
       " ('เจ้าฟ้าหญิง', 0.6871017217636108),\n",
       " ('พระเจ้าแผ่นดิน', 0.6827988624572754),\n",
       " ('พระพุทธเจ้า', 0.671796977519989),\n",
       " ('มกุฎราชกุมาร', 0.6711805462837219),\n",
       " ('นายพล', 0.6694187521934509)]"
      ]
     },
     "execution_count": 16,
     "metadata": {},
     "output_type": "execute_result"
    }
   ],
   "source": [
    "#word arithmetic\n",
    "model.most_similar_cosmul(positive=['พระราชา','ผู้หญิง'], negative=['ผู้ชาย'])"
   ]
  },
  {
   "cell_type": "code",
   "execution_count": 17,
   "metadata": {
    "ExecuteTime": {
     "end_time": "2018-01-25T08:48:18.493511Z",
     "start_time": "2018-01-25T08:48:18.104736Z"
    }
   },
   "outputs": [
    {
     "data": {
      "image/png": "[encoded data removed]",
      "text/plain": [
       "<Figure size 720x720 with 1 Axes>"
      ]
     },
     "metadata": {
      "needs_background": "light"
     },
     "output_type": "display_data"
    }
   ],
   "source": [
    "sample_words = ['ผู้หญิง','พระราชา','ผู้ชาย','พระราชินี']\n",
    "sample_idx = []\n",
    "for word in sample_words:\n",
    "    sample_idx.append(labels.index(word))\n",
    "sample_plot = thai2plot[sample_idx]\n",
    "plot_with_labels(sample_plot,sample_words)"
   ]
  },
  {
   "cell_type": "code",
   "execution_count": 18,
   "metadata": {
    "ExecuteTime": {
     "end_time": "2018-01-25T08:48:50.851735Z",
     "start_time": "2018-01-25T08:48:50.731913Z"
    }
   },
   "outputs": [
    {
     "data": {
      "text/plain": [
       "[('รองนายกรัฐมนตรี', 1.4945054054260254),\n",
       " ('รัฐมนตรี', 1.400755763053894),\n",
       " ('ประธานาธิบดี', 1.3626699447631836),\n",
       " ('พันเอก', 1.3437265157699585),\n",
       " ('ผู้บัญชาการทหารบก', 1.3405414819717407),\n",
       " ('ผู้กำกับภาพยนตร์', 1.3339321613311768),\n",
       " ('นักฟุตบอล', 1.331659197807312),\n",
       " ('เอกอัครราชทูต', 1.3306005001068115),\n",
       " ('แห้ง', 1.3243674039840698),\n",
       " ('สุภาพสตรี', 1.3231494426727295)]"
      ]
     },
     "execution_count": 18,
     "metadata": {},
     "output_type": "execute_result"
    }
   ],
   "source": [
    "model.most_similar_cosmul(positive=['นายกรัฐมนตรี'],negative=['อำนาจ'])"
   ]
  },
  {
   "cell_type": "code",
   "execution_count": 19,
   "metadata": {
    "ExecuteTime": {
     "end_time": "2018-01-25T08:48:51.481402Z",
     "start_time": "2018-01-25T08:48:51.158689Z"
    }
   },
   "outputs": [
    {
     "data": {
      "image/png": "[encoded data removed]",
      "text/plain": [
       "<Figure size 720x720 with 1 Axes>"
      ]
     },
     "metadata": {
      "needs_background": "light"
     },
     "output_type": "display_data"
    }
   ],
   "source": [
    "sample_words = ['นายกรัฐมนตรี','อำนาจ','รองนายกรัฐมนตรี']\n",
    "sample_idx = []\n",
    "for word in sample_words:\n",
    "    sample_idx.append(labels.index(word))\n",
    "sample_plot = thai2plot[sample_idx]\n",
    "plot_with_labels(sample_plot,sample_words)"
   ]
  },
  {
   "cell_type": "code",
   "execution_count": 20,
   "metadata": {
    "ExecuteTime": {
     "end_time": "2018-01-25T08:49:11.465639Z",
     "start_time": "2018-01-25T08:49:11.336707Z"
    }
   },
   "outputs": [
    {
     "data": {
      "text/plain": [
       "[('สิ่งมีชีวิต', 0.537461519241333),\n",
       " ('สัตว์เลี้ยงลูกด้วยนม', 0.5080005526542664),\n",
       " ('แมลง', 0.5048903226852417),\n",
       " ('ผลไม้', 0.4839756190776825),\n",
       " ('มนุษย์', 0.47641509771347046),\n",
       " ('ผัก', 0.46431201696395874),\n",
       " ('สัตว์น้ำ', 0.45941096544265747),\n",
       " ('ต้นไม้', 0.45185261964797974),\n",
       " ('พันธุ์ไม้', 0.4504697620868683),\n",
       " ('ไม้ยืนต้น', 0.44425833225250244)]"
      ]
     },
     "execution_count": 20,
     "metadata": {},
     "output_type": "execute_result"
    }
   ],
   "source": [
    "#word arithmetic\n",
    "model.most_similar_cosmul(positive=['สัตว์','พืช'], negative=[])"
   ]
  },
  {
   "cell_type": "code",
   "execution_count": 21,
   "metadata": {
    "ExecuteTime": {
     "end_time": "2018-01-25T08:49:12.202620Z",
     "start_time": "2018-01-25T08:49:11.835817Z"
    }
   },
   "outputs": [
    {
     "data": {
      "image/png": "[encoded data removed]",
      "text/plain": [
       "<Figure size 720x720 with 1 Axes>"
      ]
     },
     "metadata": {
      "needs_background": "light"
     },
     "output_type": "display_data"
    }
   ],
   "source": [
    "sample_words = ['สัตว์','พืช','สิ่งมีชีวิต']\n",
    "sample_idx = []\n",
    "for word in sample_words:\n",
    "    sample_idx.append(labels.index(word))\n",
    "sample_plot = thai2plot[sample_idx]\n",
    "plot_with_labels(sample_plot,sample_words)"
   ]
  },
  {
   "cell_type": "markdown",
   "metadata": {
    "heading_collapsed": true
   },
   "source": [
    "## Doesn't Match"
   ]
  },
  {
   "cell_type": "markdown",
   "metadata": {
    "hidden": true
   },
   "source": [
    "It can also be used to do word groupings. For instance:\n",
    "* อาหารเช้า อาหารสัตว์ อาหารเย็น อาหารกลางวัน - อาหารสัตว์ is type of food whereas others are meals in the day\n",
    "* ลาก ดึง ดูด ดัน - ดัน is pushing while the rest is pulling.\n",
    "* กด กัด กิน เคี้ยว - กด is not verbs for the eating process\n",
    "Note that this could be relying on a different \"take\" than you would expect. For example, you could have answered ลูกเขย in the second example because it  is the one associated with male gender."
   ]
  },
  {
   "cell_type": "code",
   "execution_count": 22,
   "metadata": {
    "ExecuteTime": {
     "end_time": "2018-01-26T02:35:24.619900Z",
     "start_time": "2018-01-26T02:35:24.505717Z"
    },
    "hidden": true
   },
   "outputs": [
    {
     "name": "stderr",
     "output_type": "stream",
     "text": [
      "/home/batprem/anaconda3/envs/DataSci/lib/python3.6/site-packages/gensim/models/keyedvectors.py:877: FutureWarning: arrays to stack must be passed as a \"sequence\" type such as list or tuple. Support for non-sequence iterables such as generators is deprecated as of NumPy 1.16 and will raise an error in the future.\n",
      "  vectors = vstack(self.word_vec(word, use_norm=True) for word in used_words).astype(REAL)\n"
     ]
    },
    {
     "data": {
      "text/plain": [
       "'อาหารสัตว์'"
      ]
     },
     "execution_count": 22,
     "metadata": {},
     "output_type": "execute_result"
    }
   ],
   "source": [
    "model.doesnt_match(\"อาหารเช้า อาหารสัตว์ อาหารเย็น อาหารกลางวัน\".split())"
   ]
  },
  {
   "cell_type": "code",
   "execution_count": 24,
   "metadata": {
    "ExecuteTime": {
     "end_time": "2018-01-26T02:35:46.163075Z",
     "start_time": "2018-01-26T02:35:45.838017Z"
    },
    "hidden": true
   },
   "outputs": [
    {
     "data": {
      "image/png": "[encoded data removed]",
      "text/plain": [
       "<Figure size 720x720 with 1 Axes>"
      ]
     },
     "metadata": {
      "needs_background": "light"
     },
     "output_type": "display_data"
    }
   ],
   "source": [
    "sample_words = \"อาหารเช้า อาหารสัตว์ อาหารเย็น อาหารกลางวัน\".split()\n",
    "sample_idx = []\n",
    "for word in sample_words:\n",
    "    sample_idx.append(labels.index(word))\n",
    "sample_plot = thai2plot[sample_idx]\n",
    "plot_with_labels(sample_plot,sample_words)"
   ]
  },
  {
   "cell_type": "code",
   "execution_count": 25,
   "metadata": {
    "ExecuteTime": {
     "end_time": "2018-01-25T09:03:55.915881Z",
     "start_time": "2018-01-25T09:03:55.811980Z"
    },
    "hidden": true
   },
   "outputs": [
    {
     "data": {
      "text/plain": [
       "'ดัน'"
      ]
     },
     "execution_count": 25,
     "metadata": {},
     "output_type": "execute_result"
    }
   ],
   "source": [
    "model.doesnt_match(\"ลาก ดึง ดูด ดัน\".split())"
   ]
  },
  {
   "cell_type": "code",
   "execution_count": 26,
   "metadata": {
    "ExecuteTime": {
     "end_time": "2018-01-25T09:03:57.111707Z",
     "start_time": "2018-01-25T09:03:56.766901Z"
    },
    "hidden": true
   },
   "outputs": [
    {
     "data": {
      "image/png": "[encoded data removed]",
      "text/plain": [
       "<Figure size 720x720 with 1 Axes>"
      ]
     },
     "metadata": {
      "needs_background": "light"
     },
     "output_type": "display_data"
    }
   ],
   "source": [
    "sample_words = \"ลาก ดึง ดูด ดัน\".split()\n",
    "sample_idx = []\n",
    "for word in sample_words:\n",
    "    sample_idx.append(labels.index(word))\n",
    "sample_plot = thai2plot[sample_idx]\n",
    "plot_with_labels(sample_plot,sample_words)"
   ]
  },
  {
   "cell_type": "code",
   "execution_count": 27,
   "metadata": {
    "ExecuteTime": {
     "end_time": "2018-01-25T09:00:04.040459Z",
     "start_time": "2018-01-25T09:00:03.917290Z"
    },
    "hidden": true
   },
   "outputs": [
    {
     "data": {
      "text/plain": [
       "'หมอ'"
      ]
     },
     "execution_count": 27,
     "metadata": {},
     "output_type": "execute_result"
    }
   ],
   "source": [
    "model.doesnt_match(\"แมว หมา หมู หมอ\".split())"
   ]
  },
  {
   "cell_type": "code",
   "execution_count": 28,
   "metadata": {
    "ExecuteTime": {
     "end_time": "2018-01-25T09:00:23.186752Z",
     "start_time": "2018-01-25T09:00:22.875191Z"
    },
    "hidden": true
   },
   "outputs": [
    {
     "data": {
      "image/png": "[encoded data removed]",
      "text/plain": [
       "<Figure size 720x720 with 1 Axes>"
      ]
     },
     "metadata": {
      "needs_background": "light"
     },
     "output_type": "display_data"
    }
   ],
   "source": [
    "sample_words = \"แมว หมา หมู หมอ\".split()\n",
    "sample_idx = []\n",
    "for word in sample_words:\n",
    "    sample_idx.append(labels.index(word))\n",
    "sample_plot = thai2plot[sample_idx]\n",
    "plot_with_labels(sample_plot,sample_words)"
   ]
  },
  {
   "cell_type": "markdown",
   "metadata": {},
   "source": [
    "## Cosine Similarity"
   ]
  },
  {
   "cell_type": "code",
   "execution_count": 29,
   "metadata": {
    "ExecuteTime": {
     "end_time": "2018-01-25T08:49:26.327610Z",
     "start_time": "2018-01-25T08:49:26.219002Z"
    }
   },
   "outputs": [
    {
     "name": "stdout",
     "output_type": "stream",
     "text": [
      "China + Beijing: 0.3135956\n",
      "Italy + Rome: 0.42819628\n",
      "Beijing + Rome: 0.27347285\n",
      "Italy + Beijing: 0.17900795\n",
      "China + Rome: 0.02666693\n",
      "China + Italy: 0.24352394\n"
     ]
    }
   ],
   "source": [
    "print('China + Beijing:', model.similarity('ปักกิ่ง', 'จีน'))\n",
    "print('Italy + Rome:', model.similarity('โรม','อิตาลี'))\n",
    "print('Beijing + Rome:', model.similarity('โรม', 'ปักกิ่ง'))\n",
    "print('Italy + Beijing:', model.similarity('ปักกิ่ง', 'อิตาลี'))\n",
    "print('China + Rome:', model.similarity('โรม','จีน'))\n",
    "print('China + Italy:', model.similarity('อิตาลี','จีน'))"
   ]
  },
  {
   "cell_type": "code",
   "execution_count": 30,
   "metadata": {
    "ExecuteTime": {
     "end_time": "2018-01-25T08:55:58.556210Z",
     "start_time": "2018-01-25T08:55:58.223988Z"
    }
   },
   "outputs": [
    {
     "data": {
      "image/png": "[encoded data removed]",
      "text/plain": [
       "<Figure size 720x720 with 1 Axes>"
      ]
     },
     "metadata": {
      "needs_background": "light"
     },
     "output_type": "display_data"
    }
   ],
   "source": [
    "sample_words = \"ปักกิ่ง จีน โรม อิตาลี โตเกียว ญี่ปุ่น\".split()\n",
    "sample_idx = []\n",
    "for word in sample_words:\n",
    "    sample_idx.append(labels.index(word))\n",
    "sample_plot = thai2plot[sample_idx]\n",
    "plot_with_labels(sample_plot,sample_words)"
   ]
  },
  {
   "cell_type": "code",
   "execution_count": 31,
   "metadata": {},
   "outputs": [
    {
     "data": {
      "text/plain": [
       "gensim.models.keyedvectors.Word2VecKeyedVectors"
      ]
     },
     "execution_count": 31,
     "metadata": {},
     "output_type": "execute_result"
    }
   ],
   "source": [
    "type(model)"
   ]
  },
  {
   "cell_type": "code",
   "execution_count": 34,
   "metadata": {},
   "outputs": [
    {
     "data": {
      "text/plain": [
       "True"
      ]
     },
     "execution_count": 34,
     "metadata": {},
     "output_type": "execute_result"
    }
   ],
   "source": [
    "'โค' in model"
   ]
  },
  {
   "cell_type": "code",
   "execution_count": null,
   "metadata": {},
   "outputs": [],
   "source": []
  },
  {
   "cell_type": "markdown",
   "metadata": {},
   "source": [
    "## Spellchecking"
   ]
  },
  {
   "cell_type": "markdown",
   "metadata": {},
   "source": [
    "Originally contributed by [Sakares ATV](https://github.com/sakares), adapted from [Kaggle Spell Checker using Word2vec by CPMP](https://www.kaggle.com/cpmpml/spell-checker-using-word2vec)."
   ]
  },
  {
   "cell_type": "code",
   "execution_count": 34,
   "metadata": {},
   "outputs": [],
   "source": [
    "words = model.index2word\n",
    "\n",
    "w_rank = {}\n",
    "for i,word in enumerate(words):\n",
    "    w_rank[word] = i\n",
    "\n",
    "WORDS = w_rank"
   ]
  },
  {
   "cell_type": "code",
   "execution_count": 35,
   "metadata": {},
   "outputs": [],
   "source": [
    "thai_letters = 'กขฃคฅฆงจฉชซฌญฎฏฐฑฒณดตถทธนบปผฝพฟภมยรฤฤๅลฦฦๅวศษสหฬอฮะัาำิีึืุูเแโใไ็่้๊๋์'\n",
    "\n",
    "def words(text): return re.findall(r'\\w+', text.lower())\n",
    "\n",
    "def P(word): \n",
    "    \"Probability of `word`.\"\n",
    "    # use inverse of rank as proxy\n",
    "    # returns 0 if the word isn't in the dictionary\n",
    "    return - WORDS.get(word, 0)\n",
    "\n",
    "def correction(word): \n",
    "    \"Most probable spelling correction for word.\"\n",
    "    return max(candidates(word), key=P)\n",
    "\n",
    "def candidates(word): \n",
    "    \"Generate possible spelling corrections for word.\"\n",
    "    return (known([word]) or known(edits1(word)) or known(edits2(word)) or [word])\n",
    "\n",
    "def known(words): \n",
    "    \"The subset of `words` that appear in the dictionary of WORDS.\"\n",
    "    return set(w for w in words if w in WORDS)\n",
    "\n",
    "def edits1(word):\n",
    "    \"All edits that are one edit away from `word`.\"\n",
    "    letters    = thai_letters\n",
    "    splits     = [(word[:i], word[i:])    for i in range(len(word) + 1)]\n",
    "    deletes    = [L + R[1:]               for L, R in splits if R]\n",
    "    transposes = [L + R[1] + R[0] + R[2:] for L, R in splits if len(R)>1]\n",
    "    replaces   = [L + c + R[1:]           for L, R in splits if R for c in letters]\n",
    "    inserts    = [L + c + R               for L, R in splits for c in letters]\n",
    "    return set(deletes + transposes + replaces + inserts)\n",
    "\n",
    "def edits2(word): \n",
    "    \"All edits that are two edits away from `word`.\"\n",
    "    return (e2 for e1 in edits1(word) for e2 in edits1(e1))"
   ]
  },
  {
   "cell_type": "code",
   "execution_count": 36,
   "metadata": {},
   "outputs": [
    {
     "data": {
      "text/plain": [
       "'พัฒนา'"
      ]
     },
     "execution_count": 36,
     "metadata": {},
     "output_type": "execute_result"
    }
   ],
   "source": [
    "correction('พัดนา')"
   ]
  },
  {
   "cell_type": "code",
   "execution_count": 37,
   "metadata": {},
   "outputs": [
    {
     "data": {
      "text/plain": [
       "'จริง'"
      ]
     },
     "execution_count": 37,
     "metadata": {},
     "output_type": "execute_result"
    }
   ],
   "source": [
    "correction('ขริง')"
   ]
  },
  {
   "cell_type": "code",
   "execution_count": 38,
   "metadata": {},
   "outputs": [
    {
     "data": {
      "text/plain": [
       "'จ้า'"
      ]
     },
     "execution_count": 38,
     "metadata": {},
     "output_type": "execute_result"
    }
   ],
   "source": [
    "correction('จย้า')"
   ]
  },
  {
   "cell_type": "code",
   "execution_count": 39,
   "metadata": {},
   "outputs": [
    {
     "data": {
      "text/plain": [
       "'นะคะ'"
      ]
     },
     "execution_count": 39,
     "metadata": {},
     "output_type": "execute_result"
    }
   ],
   "source": [
    "correction('นะค่ะ')"
   ]
  },
  {
   "cell_type": "code",
   "execution_count": 38,
   "metadata": {},
   "outputs": [
    {
     "data": {
      "application/vnd.plotly.v1+json": {
       "config": {
        "plotlyServerURL": "https://plot.ly"
       },
       "data": [
        {
         "type": "bar",
         "y": [
          2,
          3,
          1
         ]
        },
        {
         "mode": "lines",
         "name": "lines",
         "type": "scatter",
         "x": [
          0,
          0.010101010101010102,
          0.020202020202020204,
          0.030303030303030304,
          0.04040404040404041,
          0.05050505050505051,
          0.06060606060606061,
          0.07070707070707072,
          0.08080808080808081,
          0.09090909090909091,
          0.10101010101010102,
          0.11111111111111112,
          0.12121212121212122,
          0.13131313131313133,
          0.14141414141414144,
          0.15151515151515152,
          0.16161616161616163,
          0.17171717171717174,
          0.18181818181818182,
          0.19191919191919193,
          0.20202020202020204,
          0.21212121212121213,
          0.22222222222222224,
          0.23232323232323235,
          0.24242424242424243,
          0.25252525252525254,
          0.26262626262626265,
          0.27272727272727276,
          0.2828282828282829,
          0.29292929292929293,
          0.30303030303030304,
          0.31313131313131315,
          0.32323232323232326,
          0.33333333333333337,
          0.3434343434343435,
          0.3535353535353536,
          0.36363636363636365,
          0.37373737373737376,
          0.38383838383838387,
          0.393939393939394,
          0.4040404040404041,
          0.4141414141414142,
          0.42424242424242425,
          0.43434343434343436,
          0.4444444444444445,
          0.4545454545454546,
          0.4646464646464647,
          0.4747474747474748,
          0.48484848484848486,
          0.494949494949495,
          0.5050505050505051,
          0.5151515151515152,
          0.5252525252525253,
          0.5353535353535354,
          0.5454545454545455,
          0.5555555555555556,
          0.5656565656565657,
          0.5757575757575758,
          0.5858585858585859,
          0.595959595959596,
          0.6060606060606061,
          0.6161616161616162,
          0.6262626262626263,
          0.6363636363636365,
          0.6464646464646465,
          0.6565656565656566,
          0.6666666666666667,
          0.6767676767676768,
          0.686868686868687,
          0.696969696969697,
          0.7070707070707072,
          0.7171717171717172,
          0.7272727272727273,
          0.7373737373737375,
          0.7474747474747475,
          0.7575757575757577,
          0.7676767676767677,
          0.7777777777777778,
          0.787878787878788,
          0.797979797979798,
          0.8080808080808082,
          0.8181818181818182,
          0.8282828282828284,
          0.8383838383838385,
          0.8484848484848485,
          0.8585858585858587,
          0.8686868686868687,
          0.8787878787878789,
          0.888888888888889,
          0.8989898989898991,
          0.9090909090909092,
          0.9191919191919192,
          0.9292929292929294,
          0.9393939393939394,
          0.9494949494949496,
          0.9595959595959597,
          0.9696969696969697,
          0.9797979797979799,
          0.98989898989899,
          1
         ],
         "y": [
          6.097396646612307,
          4.418340853784625,
          3.260422651450617,
          7.866943282793866,
          5.438583548285201,
          4.964697226102316,
          4.728542027390063,
          6.382328844615476,
          5.073756542549223,
          7.4159887623207315,
          3.4274976604104466,
          5.280151420281425,
          4.020409114036125,
          3.054951685954417,
          4.62732325809781,
          4.903367757391796,
          4.817983573773495,
          2.327435234764191,
          4.565680666493058,
          4.44516026064696,
          3.71558556237835,
          6.017799052470357,
          4.993117292976446,
          6.359840443358107,
          3.5662653950470387,
          5.024716143729257,
          4.855443746895029,
          6.731598902694813,
          4.4771350471385,
          5.014252675082394,
          4.171763511003073,
          6.510792220613509,
          5.177754999396229,
          4.001863299685343,
          6.146346686349625,
          4.64799252528291,
          5.03532767698754,
          5.994172690339714,
          4.544628914744006,
          3.831445999301895,
          5.6909300444666275,
          5.728220483038292,
          5.009799595377021,
          6.427884588913148,
          4.717863494860882,
          2.525076646953302,
          5.310064505622285,
          4.114819835318341,
          4.554791062109829,
          3.7829615521737354,
          4.874630327695163,
          4.833958846820217,
          6.263029408995891,
          6.103519275405655,
          6.048003155516734,
          4.258123119774456,
          5.586330095313518,
          6.785591291715686,
          4.750652553270789,
          5.025656824401559,
          5.86409929967167,
          4.648947133563866,
          4.272435803438685,
          3.343124407409202,
          6.17342548551948,
          3.9600657815768585,
          5.784266892220401,
          5.384788310277756,
          4.490917158856489,
          4.4777699737116725,
          5.567102651384569,
          6.107224691773972,
          6.668124740262799,
          3.271445245620514,
          3.444023327055607,
          4.835451545478687,
          5.571555309320666,
          6.60564565639146,
          6.461520057596642,
          3.657724627064045,
          4.265490640472452,
          5.734348649773502,
          6.094136662696032,
          3.530505397636742,
          3.334398060126371,
          4.104480203534514,
          4.264329287647029,
          3.941965732539042,
          4.316117492631586,
          4.712529198354883,
          5.833480058285648,
          5.437387288158426,
          5.571223904229698,
          6.551403297041219,
          2.7498671282624274,
          4.234221327494864,
          4.824516498398071,
          2.985017967436391,
          4.136702980541832,
          5.721056943714438
         ]
        }
       ],
       "layout": {
        "template": {
         "data": {
          "bar": [
           {
            "error_x": {
             "color": "#2a3f5f"
            },
            "error_y": {
             "color": "#2a3f5f"
            },
            "marker": {
             "line": {
              "color": "#E5ECF6",
              "width": 0.5
             }
            },
            "type": "bar"
           }
          ],
          "barpolar": [
           {
            "marker": {
             "line": {
              "color": "#E5ECF6",
              "width": 0.5
             }
            },
            "type": "barpolar"
           }
          ],
          "carpet": [
           {
            "aaxis": {
             "endlinecolor": "#2a3f5f",
             "gridcolor": "white",
             "linecolor": "white",
             "minorgridcolor": "white",
             "startlinecolor": "#2a3f5f"
            },
            "baxis": {
             "endlinecolor": "#2a3f5f",
             "gridcolor": "white",
             "linecolor": "white",
             "minorgridcolor": "white",
             "startlinecolor": "#2a3f5f"
            },
            "type": "carpet"
           }
          ],
          "choropleth": [
           {
            "colorbar": {
             "outlinewidth": 0,
             "ticks": ""
            },
            "type": "choropleth"
           }
          ],
          "contour": [
           {
            "colorbar": {
             "outlinewidth": 0,
             "ticks": ""
            },
            "colorscale": [
             [
              0,
              "#0d0887"
             ],
             [
              0.1111111111111111,
              "#46039f"
             ],
             [
              0.2222222222222222,
              "#7201a8"
             ],
             [
              0.3333333333333333,
              "#9c179e"
             ],
             [
              0.4444444444444444,
              "#bd3786"
             ],
             [
              0.5555555555555556,
              "#d8576b"
             ],
             [
              0.6666666666666666,
              "#ed7953"
             ],
             [
              0.7777777777777778,
              "#fb9f3a"
             ],
             [
              0.8888888888888888,
              "#fdca26"
             ],
             [
              1,
              "#f0f921"
             ]
            ],
            "type": "contour"
           }
          ],
          "contourcarpet": [
           {
            "colorbar": {
             "outlinewidth": 0,
             "ticks": ""
            },
            "type": "contourcarpet"
           }
          ],
          "heatmap": [
           {
            "colorbar": {
             "outlinewidth": 0,
             "ticks": ""
            },
            "colorscale": [
             [
              0,
              "#0d0887"
             ],
             [
              0.1111111111111111,
              "#46039f"
             ],
             [
              0.2222222222222222,
              "#7201a8"
             ],
             [
              0.3333333333333333,
              "#9c179e"
             ],
             [
              0.4444444444444444,
              "#bd3786"
             ],
             [
              0.5555555555555556,
              "#d8576b"
             ],
             [
              0.6666666666666666,
              "#ed7953"
             ],
             [
              0.7777777777777778,
              "#fb9f3a"
             ],
             [
              0.8888888888888888,
              "#fdca26"
             ],
             [
              1,
              "#f0f921"
             ]
            ],
            "type": "heatmap"
           }
          ],
          "heatmapgl": [
           {
            "colorbar": {
             "outlinewidth": 0,
             "ticks": ""
            },
            "colorscale": [
             [
              0,
              "#0d0887"
             ],
             [
              0.1111111111111111,
              "#46039f"
             ],
             [
              0.2222222222222222,
              "#7201a8"
             ],
             [
              0.3333333333333333,
              "#9c179e"
             ],
             [
              0.4444444444444444,
              "#bd3786"
             ],
             [
              0.5555555555555556,
              "#d8576b"
             ],
             [
              0.6666666666666666,
              "#ed7953"
             ],
             [
              0.7777777777777778,
              "#fb9f3a"
             ],
             [
              0.8888888888888888,
              "#fdca26"
             ],
             [
              1,
              "#f0f921"
             ]
            ],
            "type": "heatmapgl"
           }
          ],
          "histogram": [
           {
            "marker": {
             "colorbar": {
              "outlinewidth": 0,
              "ticks": ""
             }
            },
            "type": "histogram"
           }
          ],
          "histogram2d": [
           {
            "colorbar": {
             "outlinewidth": 0,
             "ticks": ""
            },
            "colorscale": [
             [
              0,
              "#0d0887"
             ],
             [
              0.1111111111111111,
              "#46039f"
             ],
             [
              0.2222222222222222,
              "#7201a8"
             ],
             [
              0.3333333333333333,
              "#9c179e"
             ],
             [
              0.4444444444444444,
              "#bd3786"
             ],
             [
              0.5555555555555556,
              "#d8576b"
             ],
             [
              0.6666666666666666,
              "#ed7953"
             ],
             [
              0.7777777777777778,
              "#fb9f3a"
             ],
             [
              0.8888888888888888,
              "#fdca26"
             ],
             [
              1,
              "#f0f921"
             ]
            ],
            "type": "histogram2d"
           }
          ],
          "histogram2dcontour": [
           {
            "colorbar": {
             "outlinewidth": 0,
             "ticks": ""
            },
            "colorscale": [
             [
              0,
              "#0d0887"
             ],
             [
              0.1111111111111111,
              "#46039f"
             ],
             [
              0.2222222222222222,
              "#7201a8"
             ],
             [
              0.3333333333333333,
              "#9c179e"
             ],
             [
              0.4444444444444444,
              "#bd3786"
             ],
             [
              0.5555555555555556,
              "#d8576b"
             ],
             [
              0.6666666666666666,
              "#ed7953"
             ],
             [
              0.7777777777777778,
              "#fb9f3a"
             ],
             [
              0.8888888888888888,
              "#fdca26"
             ],
             [
              1,
              "#f0f921"
             ]
            ],
            "type": "histogram2dcontour"
           }
          ],
          "mesh3d": [
           {
            "colorbar": {
             "outlinewidth": 0,
             "ticks": ""
            },
            "type": "mesh3d"
           }
          ],
          "parcoords": [
           {
            "line": {
             "colorbar": {
              "outlinewidth": 0,
              "ticks": ""
             }
            },
            "type": "parcoords"
           }
          ],
          "pie": [
           {
            "automargin": true,
            "type": "pie"
           }
          ],
          "scatter": [
           {
            "marker": {
             "colorbar": {
              "outlinewidth": 0,
              "ticks": ""
             }
            },
            "type": "scatter"
           }
          ],
          "scatter3d": [
           {
            "line": {
             "colorbar": {
              "outlinewidth": 0,
              "ticks": ""
             }
            },
            "marker": {
             "colorbar": {
              "outlinewidth": 0,
              "ticks": ""
             }
            },
            "type": "scatter3d"
           }
          ],
          "scattercarpet": [
           {
            "marker": {
             "colorbar": {
              "outlinewidth": 0,
              "ticks": ""
             }
            },
            "type": "scattercarpet"
           }
          ],
          "scattergeo": [
           {
            "marker": {
             "colorbar": {
              "outlinewidth": 0,
              "ticks": ""
             }
            },
            "type": "scattergeo"
           }
          ],
          "scattergl": [
           {
            "marker": {
             "colorbar": {
              "outlinewidth": 0,
              "ticks": ""
             }
            },
            "type": "scattergl"
           }
          ],
          "scattermapbox": [
           {
            "marker": {
             "colorbar": {
              "outlinewidth": 0,
              "ticks": ""
             }
            },
            "type": "scattermapbox"
           }
          ],
          "scatterpolar": [
           {
            "marker": {
             "colorbar": {
              "outlinewidth": 0,
              "ticks": ""
             }
            },
            "type": "scatterpolar"
           }
          ],
          "scatterpolargl": [
           {
            "marker": {
             "colorbar": {
              "outlinewidth": 0,
              "ticks": ""
             }
            },
            "type": "scatterpolargl"
           }
          ],
          "scatterternary": [
           {
            "marker": {
             "colorbar": {
              "outlinewidth": 0,
              "ticks": ""
             }
            },
            "type": "scatterternary"
           }
          ],
          "surface": [
           {
            "colorbar": {
             "outlinewidth": 0,
             "ticks": ""
            },
            "colorscale": [
             [
              0,
              "#0d0887"
             ],
             [
              0.1111111111111111,
              "#46039f"
             ],
             [
              0.2222222222222222,
              "#7201a8"
             ],
             [
              0.3333333333333333,
              "#9c179e"
             ],
             [
              0.4444444444444444,
              "#bd3786"
             ],
             [
              0.5555555555555556,
              "#d8576b"
             ],
             [
              0.6666666666666666,
              "#ed7953"
             ],
             [
              0.7777777777777778,
              "#fb9f3a"
             ],
             [
              0.8888888888888888,
              "#fdca26"
             ],
             [
              1,
              "#f0f921"
             ]
            ],
            "type": "surface"
           }
          ],
          "table": [
           {
            "cells": {
             "fill": {
              "color": "#EBF0F8"
             },
             "line": {
              "color": "white"
             }
            },
            "header": {
             "fill": {
              "color": "#C8D4E3"
             },
             "line": {
              "color": "white"
             }
            },
            "type": "table"
           }
          ]
         },
         "layout": {
          "annotationdefaults": {
           "arrowcolor": "#2a3f5f",
           "arrowhead": 0,
           "arrowwidth": 1
          },
          "coloraxis": {
           "colorbar": {
            "outlinewidth": 0,
            "ticks": ""
           }
          },
          "colorscale": {
           "diverging": [
            [
             0,
             "#8e0152"
            ],
            [
             0.1,
             "#c51b7d"
            ],
            [
             0.2,
             "#de77ae"
            ],
            [
             0.3,
             "#f1b6da"
            ],
            [
             0.4,
             "#fde0ef"
            ],
            [
             0.5,
             "#f7f7f7"
            ],
            [
             0.6,
             "#e6f5d0"
            ],
            [
             0.7,
             "#b8e186"
            ],
            [
             0.8,
             "#7fbc41"
            ],
            [
             0.9,
             "#4d9221"
            ],
            [
             1,
             "#276419"
            ]
           ],
           "sequential": [
            [
             0,
             "#0d0887"
            ],
            [
             0.1111111111111111,
             "#46039f"
            ],
            [
             0.2222222222222222,
             "#7201a8"
            ],
            [
             0.3333333333333333,
             "#9c179e"
            ],
            [
             0.4444444444444444,
             "#bd3786"
            ],
            [
             0.5555555555555556,
             "#d8576b"
            ],
            [
             0.6666666666666666,
             "#ed7953"
            ],
            [
             0.7777777777777778,
             "#fb9f3a"
            ],
            [
             0.8888888888888888,
             "#fdca26"
            ],
            [
             1,
             "#f0f921"
            ]
           ],
           "sequentialminus": [
            [
             0,
             "#0d0887"
            ],
            [
             0.1111111111111111,
             "#46039f"
            ],
            [
             0.2222222222222222,
             "#7201a8"
            ],
            [
             0.3333333333333333,
             "#9c179e"
            ],
            [
             0.4444444444444444,
             "#bd3786"
            ],
            [
             0.5555555555555556,
             "#d8576b"
            ],
            [
             0.6666666666666666,
             "#ed7953"
            ],
            [
             0.7777777777777778,
             "#fb9f3a"
            ],
            [
             0.8888888888888888,
             "#fdca26"
            ],
            [
             1,
             "#f0f921"
            ]
           ]
          },
          "colorway": [
           "#636efa",
           "#EF553B",
           "#00cc96",
           "#ab63fa",
           "#FFA15A",
           "#19d3f3",
           "#FF6692",
           "#B6E880",
           "#FF97FF",
           "#FECB52"
          ],
          "font": {
           "color": "#2a3f5f"
          },
          "geo": {
           "bgcolor": "white",
           "lakecolor": "white",
           "landcolor": "#E5ECF6",
           "showlakes": true,
           "showland": true,
           "subunitcolor": "white"
          },
          "hoverlabel": {
           "align": "left"
          },
          "hovermode": "closest",
          "mapbox": {
           "style": "light"
          },
          "paper_bgcolor": "white",
          "plot_bgcolor": "#E5ECF6",
          "polar": {
           "angularaxis": {
            "gridcolor": "white",
            "linecolor": "white",
            "ticks": ""
           },
           "bgcolor": "#E5ECF6",
           "radialaxis": {
            "gridcolor": "white",
            "linecolor": "white",
            "ticks": ""
           }
          },
          "scene": {
           "xaxis": {
            "backgroundcolor": "#E5ECF6",
            "gridcolor": "white",
            "gridwidth": 2,
            "linecolor": "white",
            "showbackground": true,
            "ticks": "",
            "zerolinecolor": "white"
           },
           "yaxis": {
            "backgroundcolor": "#E5ECF6",
            "gridcolor": "white",
            "gridwidth": 2,
            "linecolor": "white",
            "showbackground": true,
            "ticks": "",
            "zerolinecolor": "white"
           },
           "zaxis": {
            "backgroundcolor": "#E5ECF6",
            "gridcolor": "white",
            "gridwidth": 2,
            "linecolor": "white",
            "showbackground": true,
            "ticks": "",
            "zerolinecolor": "white"
           }
          },
          "shapedefaults": {
           "line": {
            "color": "#2a3f5f"
           }
          },
          "ternary": {
           "aaxis": {
            "gridcolor": "white",
            "linecolor": "white",
            "ticks": ""
           },
           "baxis": {
            "gridcolor": "white",
            "linecolor": "white",
            "ticks": ""
           },
           "bgcolor": "#E5ECF6",
           "caxis": {
            "gridcolor": "white",
            "linecolor": "white",
            "ticks": ""
           }
          },
          "title": {
           "x": 0.05
          },
          "xaxis": {
           "automargin": true,
           "gridcolor": "white",
           "linecolor": "white",
           "ticks": "",
           "title": {
            "standoff": 15
           },
           "zerolinecolor": "white",
           "zerolinewidth": 2
          },
          "yaxis": {
           "automargin": true,
           "gridcolor": "white",
           "linecolor": "white",
           "ticks": "",
           "title": {
            "standoff": 15
           },
           "zerolinecolor": "white",
           "zerolinewidth": 2
          }
         }
        }
       }
      },
      "text/html": [
       "<div>\n",
       "        \n",
       "        \n",
       "            <div id=\"dc2bae61-d638-45ff-9538-60269704045c\" class=\"plotly-graph-div\" style=\"height:525px; width:100%;\"></div>\n",
       "            <script type=\"text/javascript\">\n",
       "                require([\"plotly\"], function(Plotly) {\n",
       "                    window.PLOTLYENV=window.PLOTLYENV || {};\n",
       "                    \n",
       "                if (document.getElementById(\"dc2bae61-d638-45ff-9538-60269704045c\")) {\n",
       "                    Plotly.newPlot(\n",
       "                        'dc2bae61-d638-45ff-9538-60269704045c',\n",
       "                        [{\"type\": \"bar\", \"y\": [2, 3, 1]}, {\"mode\": \"lines\", \"name\": \"lines\", \"type\": \"scatter\", \"x\": [0.0, 0.010101010101010102, 0.020202020202020204, 0.030303030303030304, 0.04040404040404041, 0.05050505050505051, 0.06060606060606061, 0.07070707070707072, 0.08080808080808081, 0.09090909090909091, 0.10101010101010102, 0.11111111111111112, 0.12121212121212122, 0.13131313131313133, 0.14141414141414144, 0.15151515151515152, 0.16161616161616163, 0.17171717171717174, 0.18181818181818182, 0.19191919191919193, 0.20202020202020204, 0.21212121212121213, 0.22222222222222224, 0.23232323232323235, 0.24242424242424243, 0.25252525252525254, 0.26262626262626265, 0.27272727272727276, 0.2828282828282829, 0.29292929292929293, 0.30303030303030304, 0.31313131313131315, 0.32323232323232326, 0.33333333333333337, 0.3434343434343435, 0.3535353535353536, 0.36363636363636365, 0.37373737373737376, 0.38383838383838387, 0.393939393939394, 0.4040404040404041, 0.4141414141414142, 0.42424242424242425, 0.43434343434343436, 0.4444444444444445, 0.4545454545454546, 0.4646464646464647, 0.4747474747474748, 0.48484848484848486, 0.494949494949495, 0.5050505050505051, 0.5151515151515152, 0.5252525252525253, 0.5353535353535354, 0.5454545454545455, 0.5555555555555556, 0.5656565656565657, 0.5757575757575758, 0.5858585858585859, 0.595959595959596, 0.6060606060606061, 0.6161616161616162, 0.6262626262626263, 0.6363636363636365, 0.6464646464646465, 0.6565656565656566, 0.6666666666666667, 0.6767676767676768, 0.686868686868687, 0.696969696969697, 0.7070707070707072, 0.7171717171717172, 0.7272727272727273, 0.7373737373737375, 0.7474747474747475, 0.7575757575757577, 0.7676767676767677, 0.7777777777777778, 0.787878787878788, 0.797979797979798, 0.8080808080808082, 0.8181818181818182, 0.8282828282828284, 0.8383838383838385, 0.8484848484848485, 0.8585858585858587, 0.8686868686868687, 0.8787878787878789, 0.888888888888889, 0.8989898989898991, 0.9090909090909092, 0.9191919191919192, 0.9292929292929294, 0.9393939393939394, 0.9494949494949496, 0.9595959595959597, 0.9696969696969697, 0.9797979797979799, 0.98989898989899, 1.0], \"y\": [6.097396646612307, 4.418340853784625, 3.260422651450617, 7.866943282793866, 5.438583548285201, 4.964697226102316, 4.728542027390063, 6.382328844615476, 5.073756542549223, 7.4159887623207315, 3.4274976604104466, 5.280151420281425, 4.020409114036125, 3.054951685954417, 4.62732325809781, 4.903367757391796, 4.817983573773495, 2.327435234764191, 4.565680666493058, 4.44516026064696, 3.71558556237835, 6.017799052470357, 4.993117292976446, 6.359840443358107, 3.5662653950470387, 5.024716143729257, 4.855443746895029, 6.731598902694813, 4.4771350471385, 5.014252675082394, 4.171763511003073, 6.510792220613509, 5.177754999396229, 4.001863299685343, 6.146346686349625, 4.64799252528291, 5.03532767698754, 5.994172690339714, 4.544628914744006, 3.831445999301895, 5.6909300444666275, 5.728220483038292, 5.009799595377021, 6.427884588913148, 4.717863494860882, 2.525076646953302, 5.310064505622285, 4.114819835318341, 4.554791062109829, 3.7829615521737354, 4.874630327695163, 4.833958846820217, 6.263029408995891, 6.103519275405655, 6.048003155516734, 4.258123119774456, 5.586330095313518, 6.785591291715686, 4.750652553270789, 5.025656824401559, 5.86409929967167, 4.648947133563866, 4.272435803438685, 3.343124407409202, 6.17342548551948, 3.9600657815768585, 5.784266892220401, 5.384788310277756, 4.490917158856489, 4.4777699737116725, 5.567102651384569, 6.107224691773972, 6.668124740262799, 3.271445245620514, 3.444023327055607, 4.835451545478687, 5.571555309320666, 6.60564565639146, 6.461520057596642, 3.657724627064045, 4.265490640472452, 5.734348649773502, 6.094136662696032, 3.530505397636742, 3.334398060126371, 4.104480203534514, 4.264329287647029, 3.941965732539042, 4.316117492631586, 4.712529198354883, 5.833480058285648, 5.437387288158426, 5.571223904229698, 6.551403297041219, 2.7498671282624274, 4.234221327494864, 4.824516498398071, 2.985017967436391, 4.136702980541832, 5.721056943714438]}],\n",
       "                        {\"template\": {\"data\": {\"bar\": [{\"error_x\": {\"color\": \"#2a3f5f\"}, \"error_y\": {\"color\": \"#2a3f5f\"}, \"marker\": {\"line\": {\"color\": \"#E5ECF6\", \"width\": 0.5}}, \"type\": \"bar\"}], \"barpolar\": [{\"marker\": {\"line\": {\"color\": \"#E5ECF6\", \"width\": 0.5}}, \"type\": \"barpolar\"}], \"carpet\": [{\"aaxis\": {\"endlinecolor\": \"#2a3f5f\", \"gridcolor\": \"white\", \"linecolor\": \"white\", \"minorgridcolor\": \"white\", \"startlinecolor\": \"#2a3f5f\"}, \"baxis\": {\"endlinecolor\": \"#2a3f5f\", \"gridcolor\": \"white\", \"linecolor\": \"white\", \"minorgridcolor\": \"white\", \"startlinecolor\": \"#2a3f5f\"}, \"type\": \"carpet\"}], \"choropleth\": [{\"colorbar\": {\"outlinewidth\": 0, \"ticks\": \"\"}, \"type\": \"choropleth\"}], \"contour\": [{\"colorbar\": {\"outlinewidth\": 0, \"ticks\": \"\"}, \"colorscale\": [[0.0, \"#0d0887\"], [0.1111111111111111, \"#46039f\"], [0.2222222222222222, \"#7201a8\"], [0.3333333333333333, \"#9c179e\"], [0.4444444444444444, \"#bd3786\"], [0.5555555555555556, \"#d8576b\"], [0.6666666666666666, \"#ed7953\"], [0.7777777777777778, \"#fb9f3a\"], [0.8888888888888888, \"#fdca26\"], [1.0, \"#f0f921\"]], \"type\": \"contour\"}], \"contourcarpet\": [{\"colorbar\": {\"outlinewidth\": 0, \"ticks\": \"\"}, \"type\": \"contourcarpet\"}], \"heatmap\": [{\"colorbar\": {\"outlinewidth\": 0, \"ticks\": \"\"}, \"colorscale\": [[0.0, \"#0d0887\"], [0.1111111111111111, \"#46039f\"], [0.2222222222222222, \"#7201a8\"], [0.3333333333333333, \"#9c179e\"], [0.4444444444444444, \"#bd3786\"], [0.5555555555555556, \"#d8576b\"], [0.6666666666666666, \"#ed7953\"], [0.7777777777777778, \"#fb9f3a\"], [0.8888888888888888, \"#fdca26\"], [1.0, \"#f0f921\"]], \"type\": \"heatmap\"}], \"heatmapgl\": [{\"colorbar\": {\"outlinewidth\": 0, \"ticks\": \"\"}, \"colorscale\": [[0.0, \"#0d0887\"], [0.1111111111111111, \"#46039f\"], [0.2222222222222222, \"#7201a8\"], [0.3333333333333333, \"#9c179e\"], [0.4444444444444444, \"#bd3786\"], [0.5555555555555556, \"#d8576b\"], [0.6666666666666666, \"#ed7953\"], [0.7777777777777778, \"#fb9f3a\"], [0.8888888888888888, \"#fdca26\"], [1.0, \"#f0f921\"]], \"type\": \"heatmapgl\"}], \"histogram\": [{\"marker\": {\"colorbar\": {\"outlinewidth\": 0, \"ticks\": \"\"}}, \"type\": \"histogram\"}], \"histogram2d\": [{\"colorbar\": {\"outlinewidth\": 0, \"ticks\": \"\"}, \"colorscale\": [[0.0, \"#0d0887\"], [0.1111111111111111, \"#46039f\"], [0.2222222222222222, \"#7201a8\"], [0.3333333333333333, \"#9c179e\"], [0.4444444444444444, \"#bd3786\"], [0.5555555555555556, \"#d8576b\"], [0.6666666666666666, \"#ed7953\"], [0.7777777777777778, \"#fb9f3a\"], [0.8888888888888888, \"#fdca26\"], [1.0, \"#f0f921\"]], \"type\": \"histogram2d\"}], \"histogram2dcontour\": [{\"colorbar\": {\"outlinewidth\": 0, \"ticks\": \"\"}, \"colorscale\": [[0.0, \"#0d0887\"], [0.1111111111111111, \"#46039f\"], [0.2222222222222222, \"#7201a8\"], [0.3333333333333333, \"#9c179e\"], [0.4444444444444444, \"#bd3786\"], [0.5555555555555556, \"#d8576b\"], [0.6666666666666666, \"#ed7953\"], [0.7777777777777778, \"#fb9f3a\"], [0.8888888888888888, \"#fdca26\"], [1.0, \"#f0f921\"]], \"type\": \"histogram2dcontour\"}], \"mesh3d\": [{\"colorbar\": {\"outlinewidth\": 0, \"ticks\": \"\"}, \"type\": \"mesh3d\"}], \"parcoords\": [{\"line\": {\"colorbar\": {\"outlinewidth\": 0, \"ticks\": \"\"}}, \"type\": \"parcoords\"}], \"pie\": [{\"automargin\": true, \"type\": \"pie\"}], \"scatter\": [{\"marker\": {\"colorbar\": {\"outlinewidth\": 0, \"ticks\": \"\"}}, \"type\": \"scatter\"}], \"scatter3d\": [{\"line\": {\"colorbar\": {\"outlinewidth\": 0, \"ticks\": \"\"}}, \"marker\": {\"colorbar\": {\"outlinewidth\": 0, \"ticks\": \"\"}}, \"type\": \"scatter3d\"}], \"scattercarpet\": [{\"marker\": {\"colorbar\": {\"outlinewidth\": 0, \"ticks\": \"\"}}, \"type\": \"scattercarpet\"}], \"scattergeo\": [{\"marker\": {\"colorbar\": {\"outlinewidth\": 0, \"ticks\": \"\"}}, \"type\": \"scattergeo\"}], \"scattergl\": [{\"marker\": {\"colorbar\": {\"outlinewidth\": 0, \"ticks\": \"\"}}, \"type\": \"scattergl\"}], \"scattermapbox\": [{\"marker\": {\"colorbar\": {\"outlinewidth\": 0, \"ticks\": \"\"}}, \"type\": \"scattermapbox\"}], \"scatterpolar\": [{\"marker\": {\"colorbar\": {\"outlinewidth\": 0, \"ticks\": \"\"}}, \"type\": \"scatterpolar\"}], \"scatterpolargl\": [{\"marker\": {\"colorbar\": {\"outlinewidth\": 0, \"ticks\": \"\"}}, \"type\": \"scatterpolargl\"}], \"scatterternary\": [{\"marker\": {\"colorbar\": {\"outlinewidth\": 0, \"ticks\": \"\"}}, \"type\": \"scatterternary\"}], \"surface\": [{\"colorbar\": {\"outlinewidth\": 0, \"ticks\": \"\"}, \"colorscale\": [[0.0, \"#0d0887\"], [0.1111111111111111, \"#46039f\"], [0.2222222222222222, \"#7201a8\"], [0.3333333333333333, \"#9c179e\"], [0.4444444444444444, \"#bd3786\"], [0.5555555555555556, \"#d8576b\"], [0.6666666666666666, \"#ed7953\"], [0.7777777777777778, \"#fb9f3a\"], [0.8888888888888888, \"#fdca26\"], [1.0, \"#f0f921\"]], \"type\": \"surface\"}], \"table\": [{\"cells\": {\"fill\": {\"color\": \"#EBF0F8\"}, \"line\": {\"color\": \"white\"}}, \"header\": {\"fill\": {\"color\": \"#C8D4E3\"}, \"line\": {\"color\": \"white\"}}, \"type\": \"table\"}]}, \"layout\": {\"annotationdefaults\": {\"arrowcolor\": \"#2a3f5f\", \"arrowhead\": 0, \"arrowwidth\": 1}, \"coloraxis\": {\"colorbar\": {\"outlinewidth\": 0, \"ticks\": \"\"}}, \"colorscale\": {\"diverging\": [[0, \"#8e0152\"], [0.1, \"#c51b7d\"], [0.2, \"#de77ae\"], [0.3, \"#f1b6da\"], [0.4, \"#fde0ef\"], [0.5, \"#f7f7f7\"], [0.6, \"#e6f5d0\"], [0.7, \"#b8e186\"], [0.8, \"#7fbc41\"], [0.9, \"#4d9221\"], [1, \"#276419\"]], \"sequential\": [[0.0, \"#0d0887\"], [0.1111111111111111, \"#46039f\"], [0.2222222222222222, \"#7201a8\"], [0.3333333333333333, \"#9c179e\"], [0.4444444444444444, \"#bd3786\"], [0.5555555555555556, \"#d8576b\"], [0.6666666666666666, \"#ed7953\"], [0.7777777777777778, \"#fb9f3a\"], [0.8888888888888888, \"#fdca26\"], [1.0, \"#f0f921\"]], \"sequentialminus\": [[0.0, \"#0d0887\"], [0.1111111111111111, \"#46039f\"], [0.2222222222222222, \"#7201a8\"], [0.3333333333333333, \"#9c179e\"], [0.4444444444444444, \"#bd3786\"], [0.5555555555555556, \"#d8576b\"], [0.6666666666666666, \"#ed7953\"], [0.7777777777777778, \"#fb9f3a\"], [0.8888888888888888, \"#fdca26\"], [1.0, \"#f0f921\"]]}, \"colorway\": [\"#636efa\", \"#EF553B\", \"#00cc96\", \"#ab63fa\", \"#FFA15A\", \"#19d3f3\", \"#FF6692\", \"#B6E880\", \"#FF97FF\", \"#FECB52\"], \"font\": {\"color\": \"#2a3f5f\"}, \"geo\": {\"bgcolor\": \"white\", \"lakecolor\": \"white\", \"landcolor\": \"#E5ECF6\", \"showlakes\": true, \"showland\": true, \"subunitcolor\": \"white\"}, \"hoverlabel\": {\"align\": \"left\"}, \"hovermode\": \"closest\", \"mapbox\": {\"style\": \"light\"}, \"paper_bgcolor\": \"white\", \"plot_bgcolor\": \"#E5ECF6\", \"polar\": {\"angularaxis\": {\"gridcolor\": \"white\", \"linecolor\": \"white\", \"ticks\": \"\"}, \"bgcolor\": \"#E5ECF6\", \"radialaxis\": {\"gridcolor\": \"white\", \"linecolor\": \"white\", \"ticks\": \"\"}}, \"scene\": {\"xaxis\": {\"backgroundcolor\": \"#E5ECF6\", \"gridcolor\": \"white\", \"gridwidth\": 2, \"linecolor\": \"white\", \"showbackground\": true, \"ticks\": \"\", \"zerolinecolor\": \"white\"}, \"yaxis\": {\"backgroundcolor\": \"#E5ECF6\", \"gridcolor\": \"white\", \"gridwidth\": 2, \"linecolor\": \"white\", \"showbackground\": true, \"ticks\": \"\", \"zerolinecolor\": \"white\"}, \"zaxis\": {\"backgroundcolor\": \"#E5ECF6\", \"gridcolor\": \"white\", \"gridwidth\": 2, \"linecolor\": \"white\", \"showbackground\": true, \"ticks\": \"\", \"zerolinecolor\": \"white\"}}, \"shapedefaults\": {\"line\": {\"color\": \"#2a3f5f\"}}, \"ternary\": {\"aaxis\": {\"gridcolor\": \"white\", \"linecolor\": \"white\", \"ticks\": \"\"}, \"baxis\": {\"gridcolor\": \"white\", \"linecolor\": \"white\", \"ticks\": \"\"}, \"bgcolor\": \"#E5ECF6\", \"caxis\": {\"gridcolor\": \"white\", \"linecolor\": \"white\", \"ticks\": \"\"}}, \"title\": {\"x\": 0.05}, \"xaxis\": {\"automargin\": true, \"gridcolor\": \"white\", \"linecolor\": \"white\", \"ticks\": \"\", \"title\": {\"standoff\": 15}, \"zerolinecolor\": \"white\", \"zerolinewidth\": 2}, \"yaxis\": {\"automargin\": true, \"gridcolor\": \"white\", \"linecolor\": \"white\", \"ticks\": \"\", \"title\": {\"standoff\": 15}, \"zerolinecolor\": \"white\", \"zerolinewidth\": 2}}}},\n",
       "                        {\"responsive\": true}\n",
       "                    ).then(function(){\n",
       "                            \n",
       "var gd = document.getElementById('dc2bae61-d638-45ff-9538-60269704045c');\n",
       "var x = new MutationObserver(function (mutations, observer) {{\n",
       "        var display = window.getComputedStyle(gd).display;\n",
       "        if (!display || display === 'none') {{\n",
       "            console.log([gd, 'removed!']);\n",
       "            Plotly.purge(gd);\n",
       "            observer.disconnect();\n",
       "        }}\n",
       "}});\n",
       "\n",
       "// Listen for the removal of the full notebook cells\n",
       "var notebookContainer = gd.closest('#notebook-container');\n",
       "if (notebookContainer) {{\n",
       "    x.observe(notebookContainer, {childList: true});\n",
       "}}\n",
       "\n",
       "// Listen for the clearing of the current output cell\n",
       "var outputEl = gd.closest('.output');\n",
       "if (outputEl) {{\n",
       "    x.observe(outputEl, {childList: true});\n",
       "}}\n",
       "\n",
       "                        })\n",
       "                };\n",
       "                });\n",
       "            </script>\n",
       "        </div>"
      ]
     },
     "metadata": {},
     "output_type": "display_data"
    }
   ],
   "source": [
    "import plotly.graph_objects as go\n",
    "fig = go.Figure(data=go.Bar(y=[2, 3, 1]))\n",
    "N = 100\n",
    "random_x = np.linspace(0, 1, N)\n",
    "random_y0 = np.random.randn(N) + 5\n",
    "fig.add_trace(go.Scatter(x=random_x, y=random_y0,\n",
    "                    mode='lines',\n",
    "                    name='lines'))\n",
    "fig.show()"
   ]
  },
  {
   "cell_type": "code",
   "execution_count": 42,
   "metadata": {},
   "outputs": [
    {
     "data": {
      "text/plain": [
       "[('ดีเยี่ยม', 0.7980571985244751),\n",
       " ('ไม่ดี', 0.6445922255516052),\n",
       " ('ดีกว่า', 0.6106875538825989),\n",
       " ('สม่ำเสมอ', 0.56279456615448),\n",
       " ('เป็นเลิศ', 0.5534172654151917),\n",
       " ('อย่างแม่นยำ', 0.5522693991661072),\n",
       " ('แม่นยำ', 0.5506165027618408),\n",
       " ('แย่', 0.5446343421936035),\n",
       " ('เยอะ', 0.5445661544799805),\n",
       " ('สมบูรณ์แบบ', 0.5400301218032837)]"
      ]
     },
     "execution_count": 42,
     "metadata": {},
     "output_type": "execute_result"
    }
   ],
   "source": [
    "model.most_similar(\"ดีมาก\")"
   ]
  },
  {
   "cell_type": "code",
   "execution_count": 43,
   "metadata": {},
   "outputs": [
    {
     "data": {
      "text/plain": [
       "array([ 9.545630e-01,  3.282700e-01,  6.476800e-02, -1.101690e-01,\n",
       "       -4.183740e-01,  7.059500e-02, -3.385460e-01,  4.462010e-01,\n",
       "       -3.131230e-01,  2.004730e-01, -1.828320e-01, -2.842340e-01,\n",
       "       -6.141000e-03,  3.767470e-01,  7.079740e-01,  2.668470e-01,\n",
       "       -3.577800e-01,  5.563300e-02, -2.355850e-01, -3.762060e-01,\n",
       "       -5.751890e-01,  1.819630e-01,  1.785640e-01,  9.531650e-01,\n",
       "        8.752310e-01, -4.181140e-01, -1.179510e-01,  2.516700e-01,\n",
       "       -1.434767e+00, -2.526280e-01,  7.632100e-02, -5.749200e-02,\n",
       "       -6.761640e-01, -6.830000e-03,  5.908000e-01, -4.186810e-01,\n",
       "        1.528410e-01,  1.213206e+00,  1.200670e-01, -7.343310e-01,\n",
       "       -2.774490e-01,  5.460920e-01,  5.204400e-01, -3.511400e-02,\n",
       "       -8.807050e-01, -4.913900e-02, -1.111510e-01,  2.273130e-01,\n",
       "        1.669410e-01,  7.235000e-03, -3.197740e-01, -3.607530e-01,\n",
       "        1.143350e-01,  1.580820e-01,  5.176510e-01,  2.199800e-02,\n",
       "        6.477340e-01,  1.818650e-01,  1.598110e-01, -2.206860e-01,\n",
       "       -4.019610e-01, -4.797340e-01, -1.079980e-01,  2.736690e-01,\n",
       "       -1.695700e-02, -5.342500e-02, -4.847000e-03, -1.762070e-01,\n",
       "        3.180280e-01,  1.069400e-02,  6.260760e-01,  5.693300e-02,\n",
       "        1.002450e-01, -6.844560e-01, -1.844900e-02,  1.252560e-01,\n",
       "       -1.256310e-01,  5.910550e-01, -5.749770e-01, -3.095590e-01,\n",
       "        8.076300e-02, -6.360040e-01,  4.145810e-01, -9.913200e-02,\n",
       "        1.073450e-01, -9.073470e-01, -3.032490e-01,  5.148220e-01,\n",
       "        3.183900e-02, -4.049320e-01,  8.038450e-01, -4.563660e-01,\n",
       "        8.072200e-02,  7.250800e-02, -4.327940e-01, -6.192100e-01,\n",
       "       -2.120480e-01, -1.637070e-01, -2.369950e-01, -4.664620e-01,\n",
       "        3.022100e-02,  1.125100e-01,  1.173380e-01, -2.031910e-01,\n",
       "       -9.040130e-01, -5.414010e-01, -1.296380e-01, -4.512710e-01,\n",
       "       -5.268420e-01, -4.046500e-02, -3.576980e-01, -6.221500e-02,\n",
       "       -2.577400e-01, -9.977800e-02, -4.683250e-01, -1.854400e-02,\n",
       "        9.076500e-02,  2.600140e-01,  7.509800e-02, -5.384100e-02,\n",
       "        3.075770e-01,  4.090540e-01, -3.536000e-02, -2.806240e-01,\n",
       "       -2.566100e-01,  2.070310e-01,  6.794540e-01,  3.481890e-01,\n",
       "       -5.079850e-01,  5.006690e-01,  9.298400e-02,  6.765000e-02,\n",
       "        5.117360e-01,  4.399730e-01, -4.918260e-01, -1.195800e-02,\n",
       "       -8.080700e-02, -1.545900e-02,  4.992800e-01, -1.083830e-01,\n",
       "       -3.573100e-01, -2.033510e-01, -2.545970e-01,  2.347710e-01,\n",
       "       -1.139533e+00,  4.150800e-01, -4.197170e-01,  3.988430e-01,\n",
       "       -3.753110e-01, -4.634140e-01,  3.786390e-01, -7.933900e-01,\n",
       "       -1.617960e-01,  1.391070e-01, -1.505440e-01,  3.053900e-02,\n",
       "        9.530940e-01,  3.267740e-01, -7.344100e-02,  6.133020e-01,\n",
       "       -8.260000e-02, -1.114710e+00,  5.574000e-02,  4.828350e-01,\n",
       "        3.285280e-01,  1.647620e-01,  4.063920e-01,  8.776200e-02,\n",
       "        7.415600e-02,  5.401380e-01, -2.064650e-01,  1.939400e-01,\n",
       "       -1.123170e-01, -1.266840e-01, -2.280840e-01, -6.078790e-01,\n",
       "        7.222030e-01,  3.491360e-01,  4.366070e-01,  1.350160e-01,\n",
       "       -1.617500e-01, -2.833200e-02,  6.353000e-01, -5.019500e-02,\n",
       "       -2.691030e-01, -2.631390e-01,  2.134770e-01, -1.317620e-01,\n",
       "        8.343090e-01,  4.354280e-01,  4.282220e-01, -1.852490e-01,\n",
       "        6.849400e-02, -2.219050e-01, -4.186400e-02, -3.639070e-01,\n",
       "        1.601370e-01,  1.420600e-02,  3.587060e-01,  7.002410e-01,\n",
       "       -4.847140e-01, -5.216590e-01,  1.532430e-01, -4.635740e-01,\n",
       "        3.504760e-01,  1.075610e-01,  9.524200e-02,  9.593900e-02,\n",
       "        1.861100e-02, -2.671630e-01,  4.468730e-01,  1.985100e-01,\n",
       "        3.408630e-01,  3.982390e-01,  4.909560e-01, -3.732540e-01,\n",
       "        5.725510e-01, -1.502870e-01,  8.877200e-02, -1.360970e-01,\n",
       "        7.179700e-02,  5.364660e-01,  2.059600e-01,  2.118260e-01,\n",
       "       -2.913850e-01, -1.384000e-01,  2.757340e-01, -3.389230e-01,\n",
       "        2.991140e-01,  8.047300e-02,  2.622200e-01,  2.933840e-01,\n",
       "        6.148310e-01,  6.102120e-01, -1.746370e-01, -7.166170e-01,\n",
       "       -5.702720e-01,  1.963530e-01, -2.908150e-01,  9.798530e-01,\n",
       "        1.961210e-01,  1.777020e-01, -2.708300e-01, -4.746700e-02,\n",
       "        2.696100e-01,  2.575030e-01,  1.849540e-01,  2.570570e-01,\n",
       "       -7.226520e-01,  1.449390e-01, -6.028700e-02,  4.088600e-01,\n",
       "       -3.612840e-01,  4.322100e-01,  2.268780e-01,  5.402100e-02,\n",
       "        1.257690e-01,  2.033550e-01,  5.068000e-01, -1.432030e-01,\n",
       "       -2.621680e-01,  2.793000e-02,  8.174000e-03,  1.290580e-01,\n",
       "        1.889520e-01,  5.775640e-01, -1.511590e-01, -5.767040e-01,\n",
       "       -1.903030e-01, -1.334300e-02, -5.743570e-01, -3.156360e-01,\n",
       "       -2.027790e-01, -1.682510e-01,  3.649000e-02,  8.461580e-01,\n",
       "        4.599000e-01, -2.655440e-01,  1.841250e-01,  2.196400e-02,\n",
       "       -1.460130e-01,  1.442710e-01,  1.041589e+00,  5.342530e-01,\n",
       "        3.367190e-01, -3.322050e-01, -3.040100e-01,  5.514990e-01,\n",
       "        4.754400e-02, -2.462090e-01,  4.249720e-01, -1.114150e-01,\n",
       "       -1.768910e-01,  1.334000e-03,  5.461600e-02,  2.543680e-01,\n",
       "       -3.900260e-01,  1.361360e-01, -1.663060e-01, -3.003210e-01],\n",
       "      dtype=float32)"
      ]
     },
     "execution_count": 43,
     "metadata": {},
     "output_type": "execute_result"
    }
   ],
   "source": [
    "model['ดี']"
   ]
  },
  {
   "cell_type": "code",
   "execution_count": null,
   "metadata": {},
   "outputs": [],
   "source": []
  }
 ],
 "metadata": {
  "kernelspec": {
   "display_name": "Python 3",
   "language": "python",
   "name": "python3"
  },
  "language_info": {
   "codemirror_mode": {
    "name": "ipython",
    "version": 3
   },
   "file_extension": ".py",
   "mimetype": "text/x-python",
   "name": "python",
   "nbconvert_exporter": "python",
   "pygments_lexer": "ipython3",
   "version": "3.6.6"
  },
  "varInspector": {
   "cols": {
    "lenName": 16,
    "lenType": 16,
    "lenVar": 40
   },
   "kernels_config": {
    "python": {
     "delete_cmd_postfix": "",
     "delete_cmd_prefix": "del ",
     "library": "var_list.py",
     "varRefreshCmd": "print(var_dic_list())"
    },
    "r": {
     "delete_cmd_postfix": ") ",
     "delete_cmd_prefix": "rm(",
     "library": "var_list.r",
     "varRefreshCmd": "cat(var_dic_list()) "
    }
   },
   "types_to_exclude": [
    "module",
    "function",
    "builtin_function_or_method",
    "instance",
    "_Feature"
   ],
   "window_display": false
  }
 },
 "nbformat": 4,
 "nbformat_minor": 2
}
