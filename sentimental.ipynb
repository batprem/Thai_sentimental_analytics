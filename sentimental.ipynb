{
 "cells": [
  {
   "cell_type": "code",
   "execution_count": 1,
   "metadata": {},
   "outputs": [],
   "source": [
    "from tltk import nlp, corpus\n",
    "from gensim.models import KeyedVectors,word2vec"
   ]
  },
  {
   "cell_type": "code",
   "execution_count": 2,
   "metadata": {},
   "outputs": [],
   "source": [
    "corpus.w2v_exist('อาหาร')\n",
    "model = corpus.w2v_model.wv"
   ]
  },
  {
   "cell_type": "code",
   "execution_count": 3,
   "metadata": {},
   "outputs": [],
   "source": [
    "import pandas as pd"
   ]
  },
  {
   "cell_type": "code",
   "execution_count": 4,
   "metadata": {},
   "outputs": [],
   "source": [
    "review_data  = pd.read_csv('review_shopping.csv', header = None, sep ='\t', names = ['text','tag'])"
   ]
  },
  {
   "cell_type": "code",
   "execution_count": 5,
   "metadata": {},
   "outputs": [
    {
     "data": {
      "text/html": [
       "<div>\n",
       "<style scoped>\n",
       "    .dataframe tbody tr th:only-of-type {\n",
       "        vertical-align: middle;\n",
       "    }\n",
       "\n",
       "    .dataframe tbody tr th {\n",
       "        vertical-align: top;\n",
       "    }\n",
       "\n",
       "    .dataframe thead th {\n",
       "        text-align: right;\n",
       "    }\n",
       "</style>\n",
       "<table border=\"1\" class=\"dataframe\">\n",
       "  <thead>\n",
       "    <tr style=\"text-align: right;\">\n",
       "      <th></th>\n",
       "      <th>text</th>\n",
       "      <th>tag</th>\n",
       "    </tr>\n",
       "  </thead>\n",
       "  <tbody>\n",
       "    <tr>\n",
       "      <th>0</th>\n",
       "      <td>เกลียด ชอบหลอกให้สั่งซื้อ ที่ไหนได้ไม่มีสิ้นค้า</td>\n",
       "      <td>neg</td>\n",
       "    </tr>\n",
       "    <tr>\n",
       "      <th>1</th>\n",
       "      <td>สินค้าด้อยคุณภาพ</td>\n",
       "      <td>neg</td>\n",
       "    </tr>\n",
       "    <tr>\n",
       "      <th>2</th>\n",
       "      <td>สินค้าหมดทำไมไม่แจ้งขึ้นว่าหมดอะ.กดใส่ตะกร้าไป...</td>\n",
       "      <td>neg</td>\n",
       "    </tr>\n",
       "    <tr>\n",
       "      <th>3</th>\n",
       "      <td>อย่าทำแบบนี้กับใครอีกนะค่ะแย่มากค่ะ</td>\n",
       "      <td>neg</td>\n",
       "    </tr>\n",
       "    <tr>\n",
       "      <th>4</th>\n",
       "      <td>คือเเบบผิดหวังมาก เเย่ที่สุดได้ของมาฝาเเตก เเต...</td>\n",
       "      <td>neg</td>\n",
       "    </tr>\n",
       "    <tr>\n",
       "      <th>...</th>\n",
       "      <td>...</td>\n",
       "      <td>...</td>\n",
       "    </tr>\n",
       "    <tr>\n",
       "      <th>123</th>\n",
       "      <td>สินค้ามีตำหนิ แย่มากๆ ไม่ไหวๆเลย ถ้ามีตำหนิก็บ...</td>\n",
       "      <td>neg</td>\n",
       "    </tr>\n",
       "    <tr>\n",
       "      <th>124</th>\n",
       "      <td>เปราะบางมากความแข็งแรงน้อย มันง่ายต่อการแตกหัก</td>\n",
       "      <td>neg</td>\n",
       "    </tr>\n",
       "    <tr>\n",
       "      <th>125</th>\n",
       "      <td>ขนส่งก็ช้าสินค้ามีตำหนิแพ็คสินค้าไม่ดีมีรอยบุบ</td>\n",
       "      <td>neg</td>\n",
       "    </tr>\n",
       "    <tr>\n",
       "      <th>126</th>\n",
       "      <td>สินค้าเหมือนของปลอม เนื่อครีมเหมือนซอง 10 บาท ...</td>\n",
       "      <td>neg</td>\n",
       "    </tr>\n",
       "    <tr>\n",
       "      <th>127</th>\n",
       "      <td>รายการไม่ดี ที่จับไม่ดีและสั้น</td>\n",
       "      <td>neg</td>\n",
       "    </tr>\n",
       "  </tbody>\n",
       "</table>\n",
       "<p>128 rows × 2 columns</p>\n",
       "</div>"
      ],
      "text/plain": [
       "                                                  text  tag\n",
       "0      เกลียด ชอบหลอกให้สั่งซื้อ ที่ไหนได้ไม่มีสิ้นค้า  neg\n",
       "1                                     สินค้าด้อยคุณภาพ  neg\n",
       "2    สินค้าหมดทำไมไม่แจ้งขึ้นว่าหมดอะ.กดใส่ตะกร้าไป...  neg\n",
       "3                  อย่าทำแบบนี้กับใครอีกนะค่ะแย่มากค่ะ  neg\n",
       "4    คือเเบบผิดหวังมาก เเย่ที่สุดได้ของมาฝาเเตก เเต...  neg\n",
       "..                                                 ...  ...\n",
       "123  สินค้ามีตำหนิ แย่มากๆ ไม่ไหวๆเลย ถ้ามีตำหนิก็บ...  neg\n",
       "124     เปราะบางมากความแข็งแรงน้อย มันง่ายต่อการแตกหัก  neg\n",
       "125     ขนส่งก็ช้าสินค้ามีตำหนิแพ็คสินค้าไม่ดีมีรอยบุบ  neg\n",
       "126  สินค้าเหมือนของปลอม เนื่อครีมเหมือนซอง 10 บาท ...  neg\n",
       "127                     รายการไม่ดี ที่จับไม่ดีและสั้น  neg\n",
       "\n",
       "[128 rows x 2 columns]"
      ]
     },
     "execution_count": 5,
     "metadata": {},
     "output_type": "execute_result"
    }
   ],
   "source": [
    "review_data"
   ]
  },
  {
   "cell_type": "code",
   "execution_count": 6,
   "metadata": {},
   "outputs": [
    {
     "data": {
      "text/plain": [
       "[[('เกลียด', 'NOUN'), ('<s/>', 'PUNCT')],\n",
       " [('ชอบ', 'VERB'),\n",
       "  ('หลอก', 'VERB'),\n",
       "  ('ให้', 'VERB'),\n",
       "  ('สั่งซื้อ', 'NOUN'),\n",
       "  ('<s/>', 'PUNCT')],\n",
       " [('ที่ไหน', 'PRON'),\n",
       "  ('ได้', 'AUX'),\n",
       "  ('ไม่', 'PART'),\n",
       "  ('มี', 'VERB'),\n",
       "  ('สิ้น', 'NOUN'),\n",
       "  ('ค้า', 'VERB'),\n",
       "  ('<s/>', 'PUNCT')]]"
      ]
     },
     "execution_count": 6,
     "metadata": {},
     "output_type": "execute_result"
    }
   ],
   "source": [
    "nlp.pos_tag('เกลียด ชอบหลอกให้สั่งซื้อ ที่ไหนได้ไม่มีสิ้นค้า')"
   ]
  },
  {
   "cell_type": "code",
   "execution_count": 7,
   "metadata": {},
   "outputs": [
    {
     "data": {
      "text/plain": [
       "'เกลียด|ชอบ|หลอก|ให้|สั่งซื้อ|ที่ไหน|ได้|ไม่|มี|สิ้น|ค้า|'"
      ]
     },
     "execution_count": 7,
     "metadata": {},
     "output_type": "execute_result"
    }
   ],
   "source": [
    "nlp.word_segment('เกลียด ชอบหลอกให้สั่งซื้อ ที่ไหนได้ไม่มีสิ้นค้า').replace('<s/>','')"
   ]
  },
  {
   "cell_type": "code",
   "execution_count": 9,
   "metadata": {},
   "outputs": [],
   "source": [
    "review_data ['text'] = review_data['text'].apply(lambda x : nlp.word_segment(x).replace('<s/>',''))"
   ]
  },
  {
   "cell_type": "code",
   "execution_count": 10,
   "metadata": {},
   "outputs": [],
   "source": [
    "review_data.loc[0,'t'] = 2"
   ]
  },
  {
   "cell_type": "code",
   "execution_count": 11,
   "metadata": {},
   "outputs": [],
   "source": [
    "review_data['tag'] = review_data['tag'].apply(lambda x: x == 'pos')"
   ]
  },
  {
   "cell_type": "code",
   "execution_count": 26,
   "metadata": {},
   "outputs": [],
   "source": [
    "import numpy as np\n",
    "with open(\"positive-sentiment-words.txt\",'r') as pos_word, open(\"negative-sentiment-words.txt\",'r') as neg_word:\n",
    "    pos_words = np.array([line.split('\\n') for line in pos_word.readlines()])[:,0]\n",
    "    neg_words = np.array([line.split('\\n') for line in neg_word.readlines()])[:,0]"
   ]
  },
  {
   "cell_type": "code",
   "execution_count": 39,
   "metadata": {},
   "outputs": [
    {
     "data": {
      "text/plain": [
       "True"
      ]
     },
     "execution_count": 39,
     "metadata": {},
     "output_type": "execute_result"
    }
   ],
   "source": [
    "'ด้อย'in neg_words"
   ]
  },
  {
   "cell_type": "code",
   "execution_count": 36,
   "metadata": {},
   "outputs": [
    {
     "data": {
      "text/plain": [
       "[[('คุณภาพ', 'NOUN'), ('เฟี้ยว', 'NOUN'), ('<s/>', 'PUNCT')]]"
      ]
     },
     "execution_count": 36,
     "metadata": {},
     "output_type": "execute_result"
    }
   ],
   "source": [
    "#nlp.chunk('คุณภาพเฟี้ยว')\n",
    "nlp.pos_tag('คุณภาพเฟี้ยว')"
   ]
  },
  {
   "cell_type": "code",
   "execution_count": 40,
   "metadata": {},
   "outputs": [
    {
     "data": {
      "text/plain": [
       "text    สินค้า|ด้อยคุณภาพ|\n",
       "tag                  False\n",
       "t                      NaN\n",
       "Name: 1, dtype: object"
      ]
     },
     "execution_count": 40,
     "metadata": {},
     "output_type": "execute_result"
    }
   ],
   "source": [
    "review_data.iloc[1]"
   ]
  },
  {
   "cell_type": "code",
   "execution_count": 44,
   "metadata": {},
   "outputs": [
    {
     "data": {
      "text/plain": [
       "'ด้อยคุณภาพ|<s/>'"
      ]
     },
     "execution_count": 44,
     "metadata": {},
     "output_type": "execute_result"
    }
   ],
   "source": [
    "nlp.word_segment('ด้อยคุณภาพ')"
   ]
  },
  {
   "cell_type": "code",
   "execution_count": 45,
   "metadata": {},
   "outputs": [
    {
     "name": "stdout",
     "output_type": "stream",
     "text": [
      "Collecting pythainlp\n",
      "\u001b[?25l  Downloading https://files.pythonhosted.org/packages/cb/14/b80930a2cc09ed6b5f8a22da9be6ece56939839ae66d921d9c7123034ba0/pythainlp-2.1.4-py3-none-any.whl (11.1MB)\n",
      "\u001b[K     |████████████████████████████████| 11.1MB 4.3MB/s eta 0:00:01\n",
      "\u001b[?25hRequirement already satisfied, skipping upgrade: tqdm>=4.1 in /opt/anaconda3/envs/buddy/lib/python3.8/site-packages (from pythainlp) (4.41.1)\n",
      "Requirement already satisfied, skipping upgrade: requests>=2.22.0 in /opt/anaconda3/envs/buddy/lib/python3.8/site-packages (from pythainlp) (2.22.0)\n",
      "Collecting tinydb>=3.0\n",
      "  Downloading https://files.pythonhosted.org/packages/22/11/c3adfc1b367d1955461f82a4a0a8ffffd37b193e98f2fe89338cdd4a8a6a/tinydb-3.15.2-py2.py3-none-any.whl\n",
      "Requirement already satisfied, skipping upgrade: nltk>=3.3 in /opt/anaconda3/envs/buddy/lib/python3.8/site-packages (from pythainlp) (3.4.5)\n",
      "Collecting dill>=0.3.0\n",
      "\u001b[?25l  Downloading https://files.pythonhosted.org/packages/c7/11/345f3173809cea7f1a193bfbf02403fff250a3360e0e118a1630985e547d/dill-0.3.1.1.tar.gz (151kB)\n",
      "\u001b[K     |████████████████████████████████| 153kB 4.0MB/s eta 0:00:01\n",
      "\u001b[?25hRequirement already satisfied, skipping upgrade: urllib3!=1.25.0,!=1.25.1,<1.26,>=1.21.1 in /opt/anaconda3/envs/buddy/lib/python3.8/site-packages (from requests>=2.22.0->pythainlp) (1.25.7)\n",
      "Requirement already satisfied, skipping upgrade: chardet<3.1.0,>=3.0.2 in /opt/anaconda3/envs/buddy/lib/python3.8/site-packages (from requests>=2.22.0->pythainlp) (3.0.4)\n",
      "Requirement already satisfied, skipping upgrade: idna<2.9,>=2.5 in /opt/anaconda3/envs/buddy/lib/python3.8/site-packages (from requests>=2.22.0->pythainlp) (2.8)\n",
      "Requirement already satisfied, skipping upgrade: certifi>=2017.4.17 in /opt/anaconda3/envs/buddy/lib/python3.8/site-packages (from requests>=2.22.0->pythainlp) (2019.11.28)\n",
      "Requirement already satisfied, skipping upgrade: six in /opt/anaconda3/envs/buddy/lib/python3.8/site-packages (from nltk>=3.3->pythainlp) (1.13.0)\n",
      "Building wheels for collected packages: dill\n",
      "  Building wheel for dill (setup.py) ... \u001b[?25ldone\n",
      "\u001b[?25h  Created wheel for dill: filename=dill-0.3.1.1-cp38-none-any.whl size=78533 sha256=b52f418a7e6922b7e69d681b0c832cd8a0906d6483c4849aa0c2dbfa2538427a\n",
      "  Stored in directory: /Users/batprem/Library/Caches/pip/wheels/59/b1/91/f02e76c732915c4015ab4010f3015469866c1eb9b14058d8e7\n",
      "Successfully built dill\n",
      "Installing collected packages: tinydb, dill, pythainlp\n",
      "Successfully installed dill-0.3.1.1 pythainlp-2.1.4 tinydb-3.15.2\n"
     ]
    }
   ],
   "source": [
    "!pip install --upgrade --pre pythainlp"
   ]
  },
  {
   "cell_type": "code",
   "execution_count": 54,
   "metadata": {},
   "outputs": [
    {
     "name": "stdout",
     "output_type": "stream",
     "text": [
      "Requirement already satisfied: pythainlp[ner] in /opt/anaconda3/envs/buddy/lib/python3.8/site-packages (2.1.4)\n",
      "Requirement already satisfied: tqdm>=4.1 in /opt/anaconda3/envs/buddy/lib/python3.8/site-packages (from pythainlp[ner]) (4.41.1)\n",
      "Requirement already satisfied: dill>=0.3.0 in /opt/anaconda3/envs/buddy/lib/python3.8/site-packages (from pythainlp[ner]) (0.3.1.1)\n",
      "Requirement already satisfied: tinydb>=3.0 in /opt/anaconda3/envs/buddy/lib/python3.8/site-packages (from pythainlp[ner]) (3.15.2)\n",
      "Requirement already satisfied: nltk>=3.3 in /opt/anaconda3/envs/buddy/lib/python3.8/site-packages (from pythainlp[ner]) (3.4.5)\n",
      "Requirement already satisfied: requests>=2.22.0 in /opt/anaconda3/envs/buddy/lib/python3.8/site-packages (from pythainlp[ner]) (2.22.0)\n",
      "Requirement already satisfied: sklearn-crfsuite>=0.3.6; extra == \"ner\" in /opt/anaconda3/envs/buddy/lib/python3.8/site-packages (from pythainlp[ner]) (0.3.6)\n",
      "Requirement already satisfied: six in /opt/anaconda3/envs/buddy/lib/python3.8/site-packages (from nltk>=3.3->pythainlp[ner]) (1.13.0)\n",
      "Requirement already satisfied: urllib3!=1.25.0,!=1.25.1,<1.26,>=1.21.1 in /opt/anaconda3/envs/buddy/lib/python3.8/site-packages (from requests>=2.22.0->pythainlp[ner]) (1.25.7)\n",
      "Requirement already satisfied: certifi>=2017.4.17 in /opt/anaconda3/envs/buddy/lib/python3.8/site-packages (from requests>=2.22.0->pythainlp[ner]) (2019.11.28)\n",
      "Requirement already satisfied: idna<2.9,>=2.5 in /opt/anaconda3/envs/buddy/lib/python3.8/site-packages (from requests>=2.22.0->pythainlp[ner]) (2.8)\n",
      "Requirement already satisfied: chardet<3.1.0,>=3.0.2 in /opt/anaconda3/envs/buddy/lib/python3.8/site-packages (from requests>=2.22.0->pythainlp[ner]) (3.0.4)\n",
      "Requirement already satisfied: tabulate in /opt/anaconda3/envs/buddy/lib/python3.8/site-packages (from sklearn-crfsuite>=0.3.6; extra == \"ner\"->pythainlp[ner]) (0.8.6)\n",
      "Requirement already satisfied: python-crfsuite>=0.8.3 in /opt/anaconda3/envs/buddy/lib/python3.8/site-packages (from sklearn-crfsuite>=0.3.6; extra == \"ner\"->pythainlp[ner]) (0.9.6)\n"
     ]
    }
   ],
   "source": [
    "!pip install pythainlp[ner]"
   ]
  },
  {
   "cell_type": "code",
   "execution_count": 1,
   "metadata": {},
   "outputs": [],
   "source": [
    "import pythainlp"
   ]
  },
  {
   "cell_type": "code",
   "execution_count": 60,
   "metadata": {},
   "outputs": [
    {
     "ename": "SyntaxError",
     "evalue": "unexpected EOF while parsing (<ipython-input-60-1b0ab3d987a7>, line 1)",
     "output_type": "error",
     "traceback": [
      "\u001b[0;36m  File \u001b[0;32m\"<ipython-input-60-1b0ab3d987a7>\"\u001b[0;36m, line \u001b[0;32m1\u001b[0m\n\u001b[0;31m    type(pythainlp.\u001b[0m\n\u001b[0m                   ^\u001b[0m\n\u001b[0;31mSyntaxError\u001b[0m\u001b[0;31m:\u001b[0m unexpected EOF while parsing\n"
     ]
    }
   ],
   "source": []
  },
  {
   "cell_type": "code",
   "execution_count": 51,
   "metadata": {},
   "outputs": [
    {
     "data": {
      "text/plain": [
       "['สินค้า', 'ด้อย', 'คุณภาพ']"
      ]
     },
     "execution_count": 51,
     "metadata": {},
     "output_type": "execute_result"
    }
   ],
   "source": [
    "attacut.tokenize('สินค้าด้อยคุณภาพ')"
   ]
  },
  {
   "cell_type": "code",
   "execution_count": null,
   "metadata": {},
   "outputs": [],
   "source": []
  },
  {
   "cell_type": "code",
   "execution_count": null,
   "metadata": {},
   "outputs": [],
   "source": []
  }
 ],
 "metadata": {
  "kernelspec": {
   "display_name": "Python 3",
   "language": "python",
   "name": "python3"
  },
  "language_info": {
   "codemirror_mode": {
    "name": "ipython",
    "version": 3
   },
   "file_extension": ".py",
   "mimetype": "text/x-python",
   "name": "python",
   "nbconvert_exporter": "python",
   "pygments_lexer": "ipython3",
   "version": "3.8.0"
  },
  "varInspector": {
   "cols": {
    "lenName": 16,
    "lenType": 16,
    "lenVar": 40
   },
   "kernels_config": {
    "python": {
     "delete_cmd_postfix": "",
     "delete_cmd_prefix": "del ",
     "library": "var_list.py",
     "varRefreshCmd": "print(var_dic_list())"
    },
    "r": {
     "delete_cmd_postfix": ") ",
     "delete_cmd_prefix": "rm(",
     "library": "var_list.r",
     "varRefreshCmd": "cat(var_dic_list()) "
    }
   },
   "types_to_exclude": [
    "module",
    "function",
    "builtin_function_or_method",
    "instance",
    "_Feature"
   ],
   "window_display": false
  }
 },
 "nbformat": 4,
 "nbformat_minor": 2
}
