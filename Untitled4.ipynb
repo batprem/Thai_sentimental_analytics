{
 "cells": [
  {
   "cell_type": "code",
   "execution_count": 1,
   "metadata": {},
   "outputs": [],
   "source": [
    "from tltk import nlp, corpus"
   ]
  },
  {
   "cell_type": "code",
   "execution_count": null,
   "metadata": {},
   "outputs": [],
   "source": [
    "corpus.w2v_exist('อาหาร')"
   ]
  },
  {
   "cell_type": "code",
   "execution_count": 4,
   "metadata": {},
   "outputs": [
    {
     "data": {
      "text/plain": [
       "array([ 4.3417077e+00,  2.7017918e+00,  2.4149504e+00, -1.3729613e+00,\n",
       "        1.2849796e+00, -3.1696767e-01,  1.6111651e-01, -8.4592506e-02,\n",
       "       -1.3102694e+00,  2.1613088e+00, -4.5822494e-02,  9.2299187e-01,\n",
       "        4.8927337e-01, -2.7081797e+00, -1.5683790e+00, -3.5793822e+00,\n",
       "        1.1854382e+00,  1.2072237e+00, -2.8199282e+00,  8.1384224e-01,\n",
       "       -9.5724291e-01, -8.4144580e-01,  3.6350479e-03, -1.4165610e+00,\n",
       "       -1.3814044e+00, -1.5249868e-01, -7.6264876e-01,  1.1604714e+00,\n",
       "       -1.7034299e+00,  7.1920228e-01, -7.7075046e-01,  1.6867928e-01,\n",
       "        7.8255266e-01,  1.4846981e-01, -4.5913595e-01,  1.5470924e+00,\n",
       "        1.2224985e+00, -3.0264008e-01,  1.4823226e+00, -3.9652774e+00,\n",
       "        4.1482028e-01, -2.5117238e+00, -3.3764346e+00,  1.6185311e+00,\n",
       "       -3.0816844e-01,  6.2843096e-01,  1.4276540e+00, -2.1361227e+00,\n",
       "       -1.6863720e+00, -4.9999332e-01, -2.9121704e+00, -1.1751316e+00,\n",
       "        1.3813881e+00, -6.7971396e-01, -4.7005069e-01,  7.0379263e-01,\n",
       "       -2.5676668e+00,  2.0066826e+00,  2.1951535e+00, -2.4967481e-01,\n",
       "        2.9371526e+00,  3.1974855e-01, -1.1167825e+00,  2.4619203e+00,\n",
       "        5.7074370e+00,  2.6490037e+00,  6.3457257e-01, -5.5030054e-01,\n",
       "       -2.1223004e+00,  3.0241759e+00,  5.0534570e-01, -1.9811098e-01,\n",
       "        1.9266390e+00,  1.2086208e+00, -1.9692454e+00,  1.7822068e+00,\n",
       "        2.1649783e+00, -7.6464576e-01,  1.5524454e+00,  4.8831753e-02,\n",
       "       -2.7157364e+00,  3.0496805e+00, -4.0100858e-01, -1.3411735e-01,\n",
       "        1.0090605e+00, -1.5810804e+00,  1.9433684e+00, -1.4536141e+00,\n",
       "       -3.2374492e-01,  9.7367394e-01,  3.1406291e+00, -1.7739613e-01,\n",
       "        6.0097158e-01, -1.8989509e+00,  1.1133108e+00, -1.6805365e+00,\n",
       "        2.7923937e+00, -2.2459819e+00,  3.5241194e-02, -9.8198241e-01],\n",
       "      dtype=float32)"
      ]
     },
     "execution_count": 4,
     "metadata": {},
     "output_type": "execute_result"
    }
   ],
   "source": [
    "corpus.w2v('อาหาร')"
   ]
  },
  {
   "cell_type": "code",
   "execution_count": 5,
   "metadata": {},
   "outputs": [],
   "source": [
    "from pythainlp import word_vector\n",
    "model = word_vector.get_model()"
   ]
  },
  {
   "cell_type": "code",
   "execution_count": 7,
   "metadata": {},
   "outputs": [
    {
     "data": {
      "text/plain": [
       "300"
      ]
     },
     "execution_count": 7,
     "metadata": {},
     "output_type": "execute_result"
    }
   ],
   "source": [
    "len(model['อาหาร'])"
   ]
  },
  {
   "cell_type": "code",
   "execution_count": 16,
   "metadata": {},
   "outputs": [
    {
     "data": {
      "text/plain": [
       "True"
      ]
     },
     "execution_count": 16,
     "metadata": {},
     "output_type": "execute_result"
    }
   ],
   "source": [
    "type(model) == type(corpus.w2v_model.wv)"
   ]
  },
  {
   "cell_type": "code",
   "execution_count": 78,
   "metadata": {},
   "outputs": [
    {
     "data": {
      "text/plain": [
       "<gensim.models.word2vec.Word2Vec at 0x7fe066cfb828>"
      ]
     },
     "execution_count": 78,
     "metadata": {},
     "output_type": "execute_result"
    }
   ],
   "source": [
    "corpus.w2v_model"
   ]
  },
  {
   "cell_type": "code",
   "execution_count": 17,
   "metadata": {},
   "outputs": [],
   "source": [
    "import gensim"
   ]
  },
  {
   "cell_type": "code",
   "execution_count": 28,
   "metadata": {},
   "outputs": [
    {
     "data": {
      "text/plain": [
       "<function gensim.models.base_any2vec.BaseWordEmbeddingsModel.build_vocab(self, sentences=None, corpus_file=None, update=False, progress_per=10000, keep_raw_vocab=False, trim_rule=None, **kwargs)>"
      ]
     },
     "execution_count": 28,
     "metadata": {},
     "output_type": "execute_result"
    }
   ],
   "source": [
    "gensim.models.word2vec.Word2Vec.build_vocab"
   ]
  },
  {
   "cell_type": "code",
   "execution_count": 32,
   "metadata": {},
   "outputs": [
    {
     "ename": "AttributeError",
     "evalue": "type object 'Word2Vec' has no attribute 'vocabulary'",
     "output_type": "error",
     "traceback": [
      "\u001b[0;31m---------------------------------------------------------------------------\u001b[0m",
      "\u001b[0;31mAttributeError\u001b[0m                            Traceback (most recent call last)",
      "\u001b[0;32m<ipython-input-32-191502a5c0ba>\u001b[0m in \u001b[0;36m<module>\u001b[0;34m\u001b[0m\n\u001b[1;32m      1\u001b[0m \u001b[0mmodel\u001b[0m\u001b[0;34m.\u001b[0m\u001b[0mbuild_vocab\u001b[0m \u001b[0;34m=\u001b[0m \u001b[0mgensim\u001b[0m\u001b[0;34m.\u001b[0m\u001b[0mmodels\u001b[0m\u001b[0;34m.\u001b[0m\u001b[0mword2vec\u001b[0m\u001b[0;34m.\u001b[0m\u001b[0mWord2Vec\u001b[0m\u001b[0;34m.\u001b[0m\u001b[0mbuild_vocab\u001b[0m\u001b[0;34m\u001b[0m\u001b[0m\n\u001b[0;32m----> 2\u001b[0;31m \u001b[0mmodel\u001b[0m\u001b[0;34m.\u001b[0m\u001b[0mvocabulary\u001b[0m \u001b[0;34m=\u001b[0m \u001b[0mgensim\u001b[0m\u001b[0;34m.\u001b[0m\u001b[0mmodels\u001b[0m\u001b[0;34m.\u001b[0m\u001b[0mword2vec\u001b[0m\u001b[0;34m.\u001b[0m\u001b[0mWord2Vec\u001b[0m\u001b[0;34m.\u001b[0m\u001b[0mvocabulary\u001b[0m\u001b[0;34m\u001b[0m\u001b[0m\n\u001b[0m",
      "\u001b[0;31mAttributeError\u001b[0m: type object 'Word2Vec' has no attribute 'vocabulary'"
     ]
    }
   ],
   "source": [
    "model.build_vocab = gensim.models.word2vec.Word2Vec.build_vocab\n",
    "model.vocabulary = gensim.models.word2vec.Word2Vec.vocabulary"
   ]
  },
  {
   "cell_type": "code",
   "execution_count": 58,
   "metadata": {},
   "outputs": [
    {
     "ename": "AttributeError",
     "evalue": "'Word2VecKeyedVectors' object has no attribute 'vocabulary'",
     "output_type": "error",
     "traceback": [
      "\u001b[0;31m---------------------------------------------------------------------------\u001b[0m",
      "\u001b[0;31mAttributeError\u001b[0m                            Traceback (most recent call last)",
      "\u001b[0;32m<ipython-input-58-3f4ee45cc50a>\u001b[0m in \u001b[0;36m<module>\u001b[0;34m\u001b[0m\n\u001b[0;32m----> 1\u001b[0;31m \u001b[0mmodel\u001b[0m\u001b[0;34m.\u001b[0m\u001b[0mbuild_vocab\u001b[0m\u001b[0;34m(\u001b[0m\u001b[0mmodel\u001b[0m\u001b[0;34m,\u001b[0m\u001b[0;34m[\u001b[0m\u001b[0;34m[\u001b[0m\u001b[0;34m'XXX'\u001b[0m\u001b[0;34m]\u001b[0m\u001b[0;34m]\u001b[0m\u001b[0;34m,\u001b[0m \u001b[0mupdate\u001b[0m\u001b[0;34m=\u001b[0m\u001b[0;32mTrue\u001b[0m\u001b[0;34m)\u001b[0m\u001b[0;34m\u001b[0m\u001b[0m\n\u001b[0m",
      "\u001b[0;32m~/anaconda3/envs/DataSci/lib/python3.6/site-packages/gensim/models/base_any2vec.py\u001b[0m in \u001b[0;36mbuild_vocab\u001b[0;34m(self, sentences, corpus_file, update, progress_per, keep_raw_vocab, trim_rule, **kwargs)\u001b[0m\n\u001b[1;32m    933\u001b[0m \u001b[0;34m\u001b[0m\u001b[0m\n\u001b[1;32m    934\u001b[0m         \"\"\"\n\u001b[0;32m--> 935\u001b[0;31m         total_words, corpus_count = self.vocabulary.scan_vocab(\n\u001b[0m\u001b[1;32m    936\u001b[0m             sentences=sentences, corpus_file=corpus_file, progress_per=progress_per, trim_rule=trim_rule)\n\u001b[1;32m    937\u001b[0m         \u001b[0mself\u001b[0m\u001b[0;34m.\u001b[0m\u001b[0mcorpus_count\u001b[0m \u001b[0;34m=\u001b[0m \u001b[0mcorpus_count\u001b[0m\u001b[0;34m\u001b[0m\u001b[0m\n",
      "\u001b[0;31mAttributeError\u001b[0m: 'Word2VecKeyedVectors' object has no attribute 'vocabulary'"
     ]
    }
   ],
   "source": [
    "model.build_vocab([['XXX']], update=True)"
   ]
  },
  {
   "cell_type": "code",
   "execution_count": 45,
   "metadata": {},
   "outputs": [],
   "source": [
    "model.train = gensim.models.word2vec.Word2Vec.train"
   ]
  },
  {
   "cell_type": "code",
   "execution_count": 46,
   "metadata": {},
   "outputs": [
    {
     "ename": "TypeError",
     "evalue": "super(type, obj): obj must be an instance or subtype of type",
     "output_type": "error",
     "traceback": [
      "\u001b[0;31m---------------------------------------------------------------------------\u001b[0m",
      "\u001b[0;31mTypeError\u001b[0m                                 Traceback (most recent call last)",
      "\u001b[0;32m<ipython-input-46-f7a5d30f3e0c>\u001b[0m in \u001b[0;36m<module>\u001b[0;34m\u001b[0m\n\u001b[0;32m----> 1\u001b[0;31m \u001b[0mmodel\u001b[0m\u001b[0;34m.\u001b[0m\u001b[0mtrain\u001b[0m\u001b[0;34m(\u001b[0m\u001b[0;34m[\u001b[0m\u001b[0;34m[\u001b[0m\u001b[0;34m\"hello\"\u001b[0m\u001b[0;34m,\u001b[0m \u001b[0;34m\"world\"\u001b[0m\u001b[0;34m]\u001b[0m\u001b[0;34m]\u001b[0m\u001b[0;34m,\u001b[0m \u001b[0mtotal_examples\u001b[0m\u001b[0;34m=\u001b[0m\u001b[0;36m1\u001b[0m\u001b[0;34m,\u001b[0m \u001b[0mepochs\u001b[0m\u001b[0;34m=\u001b[0m\u001b[0;36m1\u001b[0m\u001b[0;34m)\u001b[0m\u001b[0;34m\u001b[0m\u001b[0m\n\u001b[0m",
      "\u001b[0;32m~/anaconda3/envs/DataSci/lib/python3.6/site-packages/gensim/models/word2vec.py\u001b[0m in \u001b[0;36mtrain\u001b[0;34m(self, sentences, corpus_file, total_examples, total_words, epochs, start_alpha, end_alpha, word_count, queue_factor, report_delay, compute_loss, callbacks)\u001b[0m\n\u001b[1;32m    905\u001b[0m \u001b[0;34m\u001b[0m\u001b[0m\n\u001b[1;32m    906\u001b[0m         \"\"\"\n\u001b[0;32m--> 907\u001b[0;31m         return super(Word2Vec, self).train(\n\u001b[0m\u001b[1;32m    908\u001b[0m             \u001b[0msentences\u001b[0m\u001b[0;34m=\u001b[0m\u001b[0msentences\u001b[0m\u001b[0;34m,\u001b[0m \u001b[0mcorpus_file\u001b[0m\u001b[0;34m=\u001b[0m\u001b[0mcorpus_file\u001b[0m\u001b[0;34m,\u001b[0m \u001b[0mtotal_examples\u001b[0m\u001b[0;34m=\u001b[0m\u001b[0mtotal_examples\u001b[0m\u001b[0;34m,\u001b[0m \u001b[0mtotal_words\u001b[0m\u001b[0;34m=\u001b[0m\u001b[0mtotal_words\u001b[0m\u001b[0;34m,\u001b[0m\u001b[0;34m\u001b[0m\u001b[0m\n\u001b[1;32m    909\u001b[0m             \u001b[0mepochs\u001b[0m\u001b[0;34m=\u001b[0m\u001b[0mepochs\u001b[0m\u001b[0;34m,\u001b[0m \u001b[0mstart_alpha\u001b[0m\u001b[0;34m=\u001b[0m\u001b[0mstart_alpha\u001b[0m\u001b[0;34m,\u001b[0m \u001b[0mend_alpha\u001b[0m\u001b[0;34m=\u001b[0m\u001b[0mend_alpha\u001b[0m\u001b[0;34m,\u001b[0m \u001b[0mword_count\u001b[0m\u001b[0;34m=\u001b[0m\u001b[0mword_count\u001b[0m\u001b[0;34m,\u001b[0m\u001b[0;34m\u001b[0m\u001b[0m\n",
      "\u001b[0;31mTypeError\u001b[0m: super(type, obj): obj must be an instance or subtype of type"
     ]
    }
   ],
   "source": [
    "model.train([[\"hello\", \"world\"]], total_examples=1, epochs=1)"
   ]
  },
  {
   "cell_type": "code",
   "execution_count": 39,
   "metadata": {},
   "outputs": [],
   "source": [
    "temp = [key for key in model.__dir__() if key in new_model.__dir__()]"
   ]
  },
  {
   "cell_type": "code",
   "execution_count": 54,
   "metadata": {},
   "outputs": [
    {
     "data": {
      "text/plain": [
       "gensim.models.keyedvectors.Word2VecKeyedVectors"
      ]
     },
     "execution_count": 54,
     "metadata": {},
     "output_type": "execute_result"
    }
   ],
   "source": [
    "model.__class__\n",
    "#new_model.__class__"
   ]
  },
  {
   "cell_type": "code",
   "execution_count": 62,
   "metadata": {},
   "outputs": [
    {
     "name": "stderr",
     "output_type": "stream",
     "text": [
      "/home/batprem/.local/lib/python3.6/site-packages/ipykernel_launcher.py:1: DeprecationWarning: Call to deprecated `wv` (Attribute will be removed in 4.0.0, use self instead).\n",
      "  \"\"\"Entry point for launching an IPython kernel.\n"
     ]
    },
    {
     "data": {
      "text/plain": [
       "['vectors',\n",
       " 'vocab',\n",
       " 'vector_size',\n",
       " 'index2word',\n",
       " 'vectors_norm',\n",
       " 'build_vocab',\n",
       " 'train',\n",
       " '__module__',\n",
       " '__doc__',\n",
       " 'save_word2vec_format',\n",
       " 'load_word2vec_format',\n",
       " 'get_keras_embedding',\n",
       " 'load',\n",
       " '__init__',\n",
       " 'wv',\n",
       " 'index2entity',\n",
       " 'syn0',\n",
       " 'syn0norm',\n",
       " '__contains__',\n",
       " 'save',\n",
       " 'word_vec',\n",
       " 'get_vector',\n",
       " 'words_closer_than',\n",
       " 'most_similar',\n",
       " 'similar_by_word',\n",
       " 'similar_by_vector',\n",
       " 'similarity_matrix',\n",
       " 'wmdistance',\n",
       " 'most_similar_cosmul',\n",
       " 'doesnt_match',\n",
       " 'cosine_similarities',\n",
       " 'distances',\n",
       " 'distance',\n",
       " 'similarity',\n",
       " 'n_similarity',\n",
       " '_log_evaluate_word_analogies',\n",
       " 'evaluate_word_analogies',\n",
       " 'log_accuracy',\n",
       " 'accuracy',\n",
       " 'log_evaluate_word_pairs',\n",
       " 'evaluate_word_pairs',\n",
       " 'init_sims',\n",
       " 'relative_cosine_similarity',\n",
       " 'add',\n",
       " '__setitem__',\n",
       " '__getitem__',\n",
       " 'most_similar_to_given',\n",
       " 'closer_than',\n",
       " 'rank',\n",
       " '_load_specials',\n",
       " '_adapt_by_suffix',\n",
       " '_smart_save',\n",
       " '_save_specials',\n",
       " '__dict__',\n",
       " '__weakref__',\n",
       " '__repr__',\n",
       " '__hash__',\n",
       " '__str__',\n",
       " '__getattribute__',\n",
       " '__setattr__',\n",
       " '__delattr__',\n",
       " '__lt__',\n",
       " '__le__',\n",
       " '__eq__',\n",
       " '__ne__',\n",
       " '__gt__',\n",
       " '__ge__',\n",
       " '__new__',\n",
       " '__reduce_ex__',\n",
       " '__reduce__',\n",
       " '__subclasshook__',\n",
       " '__init_subclass__',\n",
       " '__format__',\n",
       " '__sizeof__',\n",
       " '__dir__',\n",
       " '__class__']"
      ]
     },
     "execution_count": 62,
     "metadata": {},
     "output_type": "execute_result"
    }
   ],
   "source": [
    "model.wv.__dir__()"
   ]
  },
  {
   "cell_type": "code",
   "execution_count": 70,
   "metadata": {},
   "outputs": [
    {
     "data": {
      "text/plain": [
       "[('มันดี', 0.6340276598930359),\n",
       " ('ง่าย', 0.5803779363632202),\n",
       " ('รู้มาก', 0.5516334176063538),\n",
       " ('เก่ง', 0.5389705896377563),\n",
       " ('มาก', 0.5260185599327087),\n",
       " ('ดีแล้ว', 0.5242905616760254),\n",
       " ('สบายใจ', 0.5149126052856445),\n",
       " ('ฉลาด', 0.48961907625198364),\n",
       " ('คุ้มค่า', 0.4858206808567047),\n",
       " ('สมบูรณ์แบบ', 0.4826832413673401)]"
      ]
     },
     "execution_count": 70,
     "metadata": {},
     "output_type": "execute_result"
    }
   ],
   "source": [
    "corpus.w2v_model.wv.most_similar([\"ดี\"])"
   ]
  },
  {
   "cell_type": "code",
   "execution_count": 71,
   "metadata": {},
   "outputs": [
    {
     "data": {
      "text/plain": [
       "['max_final_vocab',\n",
       " 'callbacks',\n",
       " 'load',\n",
       " 'wv',\n",
       " 'vocabulary',\n",
       " 'trainables',\n",
       " 'sg',\n",
       " 'alpha',\n",
       " 'window',\n",
       " 'random',\n",
       " 'min_alpha',\n",
       " 'hs',\n",
       " 'negative',\n",
       " 'ns_exponent',\n",
       " 'cbow_mean',\n",
       " 'compute_loss',\n",
       " 'running_training_loss',\n",
       " 'min_alpha_yet_reached',\n",
       " 'corpus_count',\n",
       " 'corpus_total_words',\n",
       " 'vector_size',\n",
       " 'workers',\n",
       " 'epochs',\n",
       " 'train_count',\n",
       " 'total_train_time',\n",
       " 'batch_words',\n",
       " 'model_trimmed_post_training',\n",
       " '__module__',\n",
       " '__doc__',\n",
       " '__init__',\n",
       " '_do_train_epoch',\n",
       " '_do_train_job',\n",
       " '_clear_post_train',\n",
       " '_set_train_params',\n",
       " 'train',\n",
       " 'score',\n",
       " 'clear_sims',\n",
       " 'intersect_word2vec_format',\n",
       " '__getitem__',\n",
       " '__contains__',\n",
       " 'predict_output_word',\n",
       " 'init_sims',\n",
       " 'reset_from',\n",
       " 'log_accuracy',\n",
       " 'accuracy',\n",
       " '__str__',\n",
       " 'delete_temporary_training_data',\n",
       " 'save',\n",
       " 'get_latest_training_loss',\n",
       " '_minimize_model',\n",
       " 'load_word2vec_format',\n",
       " 'save_word2vec_format',\n",
       " 'iter',\n",
       " 'syn1',\n",
       " 'syn1neg',\n",
       " 'syn0_lockf',\n",
       " 'layer1_size',\n",
       " 'hashfxn',\n",
       " 'sample',\n",
       " 'min_count',\n",
       " 'cum_table',\n",
       " 'build_vocab',\n",
       " 'build_vocab_from_freq',\n",
       " 'estimate_memory',\n",
       " '_get_job_params',\n",
       " '_update_job_params',\n",
       " '_get_thread_working_mem',\n",
       " '_raw_word_count',\n",
       " '_check_training_sanity',\n",
       " '_log_progress',\n",
       " '_log_epoch_end',\n",
       " '_log_train_end',\n",
       " 'most_similar',\n",
       " 'wmdistance',\n",
       " 'most_similar_cosmul',\n",
       " 'similar_by_word',\n",
       " 'similar_by_vector',\n",
       " 'doesnt_match',\n",
       " 'similarity',\n",
       " 'n_similarity',\n",
       " 'evaluate_word_pairs',\n",
       " '_check_input_data_sanity',\n",
       " '_worker_loop_corpusfile',\n",
       " '_worker_loop',\n",
       " '_job_producer',\n",
       " '_log_epoch_progress',\n",
       " '_train_epoch_corpusfile',\n",
       " '_train_epoch',\n",
       " '_load_specials',\n",
       " '_adapt_by_suffix',\n",
       " '_smart_save',\n",
       " '_save_specials',\n",
       " '__dict__',\n",
       " '__weakref__',\n",
       " '__repr__',\n",
       " '__hash__',\n",
       " '__getattribute__',\n",
       " '__setattr__',\n",
       " '__delattr__',\n",
       " '__lt__',\n",
       " '__le__',\n",
       " '__eq__',\n",
       " '__ne__',\n",
       " '__gt__',\n",
       " '__ge__',\n",
       " '__new__',\n",
       " '__reduce_ex__',\n",
       " '__reduce__',\n",
       " '__subclasshook__',\n",
       " '__init_subclass__',\n",
       " '__format__',\n",
       " '__sizeof__',\n",
       " '__dir__',\n",
       " '__class__']"
      ]
     },
     "execution_count": 71,
     "metadata": {},
     "output_type": "execute_result"
    }
   ],
   "source": [
    "new_model."
   ]
  },
  {
   "cell_type": "code",
   "execution_count": 76,
   "metadata": {},
   "outputs": [],
   "source": [
    "new_model.init_sims(model)"
   ]
  },
  {
   "cell_type": "code",
   "execution_count": 81,
   "metadata": {},
   "outputs": [],
   "source": [
    "new_model.wv = model"
   ]
  },
  {
   "cell_type": "code",
   "execution_count": 85,
   "metadata": {},
   "outputs": [
    {
     "ename": "ValueError",
     "evalue": "negative dimensions are not allowed",
     "output_type": "error",
     "traceback": [
      "\u001b[0;31m---------------------------------------------------------------------------\u001b[0m",
      "\u001b[0;31mValueError\u001b[0m                                Traceback (most recent call last)",
      "\u001b[0;32m<ipython-input-85-14d567e60dfc>\u001b[0m in \u001b[0;36m<module>\u001b[0;34m\u001b[0m\n\u001b[0;32m----> 1\u001b[0;31m \u001b[0mnew_model\u001b[0m\u001b[0;34m.\u001b[0m\u001b[0mbuild_vocab\u001b[0m\u001b[0;34m(\u001b[0m\u001b[0;34m[\u001b[0m\u001b[0;34m[\u001b[0m\u001b[0;34m'covid'\u001b[0m\u001b[0;34m]\u001b[0m\u001b[0;34m]\u001b[0m\u001b[0;34m,\u001b[0m \u001b[0mupdate\u001b[0m \u001b[0;34m=\u001b[0m \u001b[0;32mTrue\u001b[0m\u001b[0;34m)\u001b[0m\u001b[0;34m\u001b[0m\u001b[0m\n\u001b[0m",
      "\u001b[0;32m~/anaconda3/envs/DataSci/lib/python3.6/site-packages/gensim/models/base_any2vec.py\u001b[0m in \u001b[0;36mbuild_vocab\u001b[0;34m(self, sentences, corpus_file, update, progress_per, keep_raw_vocab, trim_rule, **kwargs)\u001b[0m\n\u001b[1;32m    941\u001b[0m             trim_rule=trim_rule, **kwargs)\n\u001b[1;32m    942\u001b[0m         \u001b[0mreport_values\u001b[0m\u001b[0;34m[\u001b[0m\u001b[0;34m'memory'\u001b[0m\u001b[0;34m]\u001b[0m \u001b[0;34m=\u001b[0m \u001b[0mself\u001b[0m\u001b[0;34m.\u001b[0m\u001b[0mestimate_memory\u001b[0m\u001b[0;34m(\u001b[0m\u001b[0mvocab_size\u001b[0m\u001b[0;34m=\u001b[0m\u001b[0mreport_values\u001b[0m\u001b[0;34m[\u001b[0m\u001b[0;34m'num_retained_words'\u001b[0m\u001b[0;34m]\u001b[0m\u001b[0;34m)\u001b[0m\u001b[0;34m\u001b[0m\u001b[0m\n\u001b[0;32m--> 943\u001b[0;31m         \u001b[0mself\u001b[0m\u001b[0;34m.\u001b[0m\u001b[0mtrainables\u001b[0m\u001b[0;34m.\u001b[0m\u001b[0mprepare_weights\u001b[0m\u001b[0;34m(\u001b[0m\u001b[0mself\u001b[0m\u001b[0;34m.\u001b[0m\u001b[0mhs\u001b[0m\u001b[0;34m,\u001b[0m \u001b[0mself\u001b[0m\u001b[0;34m.\u001b[0m\u001b[0mnegative\u001b[0m\u001b[0;34m,\u001b[0m \u001b[0mself\u001b[0m\u001b[0;34m.\u001b[0m\u001b[0mwv\u001b[0m\u001b[0;34m,\u001b[0m \u001b[0mupdate\u001b[0m\u001b[0;34m=\u001b[0m\u001b[0mupdate\u001b[0m\u001b[0;34m,\u001b[0m \u001b[0mvocabulary\u001b[0m\u001b[0;34m=\u001b[0m\u001b[0mself\u001b[0m\u001b[0;34m.\u001b[0m\u001b[0mvocabulary\u001b[0m\u001b[0;34m)\u001b[0m\u001b[0;34m\u001b[0m\u001b[0m\n\u001b[0m\u001b[1;32m    944\u001b[0m \u001b[0;34m\u001b[0m\u001b[0m\n\u001b[1;32m    945\u001b[0m     \u001b[0;32mdef\u001b[0m \u001b[0mbuild_vocab_from_freq\u001b[0m\u001b[0;34m(\u001b[0m\u001b[0mself\u001b[0m\u001b[0;34m,\u001b[0m \u001b[0mword_freq\u001b[0m\u001b[0;34m,\u001b[0m \u001b[0mkeep_raw_vocab\u001b[0m\u001b[0;34m=\u001b[0m\u001b[0;32mFalse\u001b[0m\u001b[0;34m,\u001b[0m \u001b[0mcorpus_count\u001b[0m\u001b[0;34m=\u001b[0m\u001b[0;32mNone\u001b[0m\u001b[0;34m,\u001b[0m \u001b[0mtrim_rule\u001b[0m\u001b[0;34m=\u001b[0m\u001b[0;32mNone\u001b[0m\u001b[0;34m,\u001b[0m \u001b[0mupdate\u001b[0m\u001b[0;34m=\u001b[0m\u001b[0;32mFalse\u001b[0m\u001b[0;34m)\u001b[0m\u001b[0;34m:\u001b[0m\u001b[0;34m\u001b[0m\u001b[0m\n",
      "\u001b[0;32m~/anaconda3/envs/DataSci/lib/python3.6/site-packages/gensim/models/word2vec.py\u001b[0m in \u001b[0;36mprepare_weights\u001b[0;34m(self, hs, negative, wv, update, vocabulary)\u001b[0m\n\u001b[1;32m   1876\u001b[0m             \u001b[0mself\u001b[0m\u001b[0;34m.\u001b[0m\u001b[0mreset_weights\u001b[0m\u001b[0;34m(\u001b[0m\u001b[0mhs\u001b[0m\u001b[0;34m,\u001b[0m \u001b[0mnegative\u001b[0m\u001b[0;34m,\u001b[0m \u001b[0mwv\u001b[0m\u001b[0;34m)\u001b[0m\u001b[0;34m\u001b[0m\u001b[0m\n\u001b[1;32m   1877\u001b[0m         \u001b[0;32melse\u001b[0m\u001b[0;34m:\u001b[0m\u001b[0;34m\u001b[0m\u001b[0m\n\u001b[0;32m-> 1878\u001b[0;31m             \u001b[0mself\u001b[0m\u001b[0;34m.\u001b[0m\u001b[0mupdate_weights\u001b[0m\u001b[0;34m(\u001b[0m\u001b[0mhs\u001b[0m\u001b[0;34m,\u001b[0m \u001b[0mnegative\u001b[0m\u001b[0;34m,\u001b[0m \u001b[0mwv\u001b[0m\u001b[0;34m)\u001b[0m\u001b[0;34m\u001b[0m\u001b[0m\n\u001b[0m\u001b[1;32m   1879\u001b[0m \u001b[0;34m\u001b[0m\u001b[0m\n\u001b[1;32m   1880\u001b[0m     \u001b[0;32mdef\u001b[0m \u001b[0mseeded_vector\u001b[0m\u001b[0;34m(\u001b[0m\u001b[0mself\u001b[0m\u001b[0;34m,\u001b[0m \u001b[0mseed_string\u001b[0m\u001b[0;34m,\u001b[0m \u001b[0mvector_size\u001b[0m\u001b[0;34m)\u001b[0m\u001b[0;34m:\u001b[0m\u001b[0;34m\u001b[0m\u001b[0m\n",
      "\u001b[0;32m~/anaconda3/envs/DataSci/lib/python3.6/site-packages/gensim/models/word2vec.py\u001b[0m in \u001b[0;36mupdate_weights\u001b[0;34m(self, hs, negative, wv)\u001b[0m\n\u001b[1;32m   1904\u001b[0m         \u001b[0mlogger\u001b[0m\u001b[0;34m.\u001b[0m\u001b[0minfo\u001b[0m\u001b[0;34m(\u001b[0m\u001b[0;34m\"updating layer weights\"\u001b[0m\u001b[0;34m)\u001b[0m\u001b[0;34m\u001b[0m\u001b[0m\n\u001b[1;32m   1905\u001b[0m         \u001b[0mgained_vocab\u001b[0m \u001b[0;34m=\u001b[0m \u001b[0mlen\u001b[0m\u001b[0;34m(\u001b[0m\u001b[0mwv\u001b[0m\u001b[0;34m.\u001b[0m\u001b[0mvocab\u001b[0m\u001b[0;34m)\u001b[0m \u001b[0;34m-\u001b[0m \u001b[0mlen\u001b[0m\u001b[0;34m(\u001b[0m\u001b[0mwv\u001b[0m\u001b[0;34m.\u001b[0m\u001b[0mvectors\u001b[0m\u001b[0;34m)\u001b[0m\u001b[0;34m\u001b[0m\u001b[0m\n\u001b[0;32m-> 1906\u001b[0;31m         \u001b[0mnewvectors\u001b[0m \u001b[0;34m=\u001b[0m \u001b[0mempty\u001b[0m\u001b[0;34m(\u001b[0m\u001b[0;34m(\u001b[0m\u001b[0mgained_vocab\u001b[0m\u001b[0;34m,\u001b[0m \u001b[0mwv\u001b[0m\u001b[0;34m.\u001b[0m\u001b[0mvector_size\u001b[0m\u001b[0;34m)\u001b[0m\u001b[0;34m,\u001b[0m \u001b[0mdtype\u001b[0m\u001b[0;34m=\u001b[0m\u001b[0mREAL\u001b[0m\u001b[0;34m)\u001b[0m\u001b[0;34m\u001b[0m\u001b[0m\n\u001b[0m\u001b[1;32m   1907\u001b[0m \u001b[0;34m\u001b[0m\u001b[0m\n\u001b[1;32m   1908\u001b[0m         \u001b[0;31m# randomize the remaining words\u001b[0m\u001b[0;34m\u001b[0m\u001b[0;34m\u001b[0m\u001b[0m\n",
      "\u001b[0;31mValueError\u001b[0m: negative dimensions are not allowed"
     ]
    }
   ],
   "source": [
    "new_model.build_vocab([['covid']], update = True)"
   ]
  },
  {
   "cell_type": "code",
   "execution_count": 86,
   "metadata": {},
   "outputs": [],
   "source": [
    "corpus.w2v_model.build_vocab([['covid']], update = True)"
   ]
  },
  {
   "cell_type": "code",
   "execution_count": 91,
   "metadata": {},
   "outputs": [
    {
     "name": "stderr",
     "output_type": "stream",
     "text": [
      "/home/batprem/.local/lib/python3.6/site-packages/ipykernel_launcher.py:1: DeprecationWarning: Call to deprecated `iter` (Attribute will be removed in 4.0.0, use self.epochs instead).\n",
      "  \"\"\"Entry point for launching an IPython kernel.\n"
     ]
    },
    {
     "data": {
      "text/plain": [
       "(5, 10)"
      ]
     },
     "execution_count": 91,
     "metadata": {},
     "output_type": "execute_result"
    }
   ],
   "source": [
    "corpus.w2v_model.train([['covid'],['ติด']], total_examples=2, epochs=corpus.w2v_model.iter)\n"
   ]
  },
  {
   "cell_type": "code",
   "execution_count": 94,
   "metadata": {},
   "outputs": [
    {
     "ename": "ValueError",
     "evalue": "You must specify either total_examples or total_words, for proper job parameters updationand progress calculations. The usual value is total_examples=model.corpus_count.",
     "output_type": "error",
     "traceback": [
      "\u001b[0;31m---------------------------------------------------------------------------\u001b[0m",
      "\u001b[0;31mValueError\u001b[0m                                Traceback (most recent call last)",
      "\u001b[0;32m<ipython-input-94-92f29c08dcea>\u001b[0m in \u001b[0;36m<module>\u001b[0;34m\u001b[0m\n\u001b[1;32m      1\u001b[0m \u001b[0mcorpus\u001b[0m\u001b[0;34m.\u001b[0m\u001b[0mw2v_model\u001b[0m\u001b[0;34m.\u001b[0m\u001b[0mbuild_vocab\u001b[0m\u001b[0;34m(\u001b[0m\u001b[0;34m[\u001b[0m\u001b[0;34m[\u001b[0m\u001b[0;34m'covid'\u001b[0m\u001b[0;34m]\u001b[0m\u001b[0;34m,\u001b[0m\u001b[0;34m[\u001b[0m\u001b[0;34m'ติด'\u001b[0m\u001b[0;34m]\u001b[0m\u001b[0;34m]\u001b[0m\u001b[0;34m,\u001b[0m \u001b[0mupdate\u001b[0m \u001b[0;34m=\u001b[0m \u001b[0;32mTrue\u001b[0m\u001b[0;34m)\u001b[0m\u001b[0;34m\u001b[0m\u001b[0m\n\u001b[0;32m----> 2\u001b[0;31m \u001b[0mcorpus\u001b[0m\u001b[0;34m.\u001b[0m\u001b[0mw2v_model\u001b[0m\u001b[0;34m.\u001b[0m\u001b[0mtrain\u001b[0m\u001b[0;34m(\u001b[0m\u001b[0;34m[\u001b[0m\u001b[0;34m[\u001b[0m\u001b[0;34m'covid'\u001b[0m\u001b[0;34m]\u001b[0m\u001b[0;34m,\u001b[0m\u001b[0;34m[\u001b[0m\u001b[0;34m'ติด'\u001b[0m\u001b[0;34m]\u001b[0m\u001b[0;34m]\u001b[0m\u001b[0;34m)\u001b[0m\u001b[0;34m\u001b[0m\u001b[0m\n\u001b[0m",
      "\u001b[0;32m~/anaconda3/envs/DataSci/lib/python3.6/site-packages/gensim/models/word2vec.py\u001b[0m in \u001b[0;36mtrain\u001b[0;34m(self, sentences, corpus_file, total_examples, total_words, epochs, start_alpha, end_alpha, word_count, queue_factor, report_delay, compute_loss, callbacks)\u001b[0m\n\u001b[1;32m    908\u001b[0m             \u001b[0msentences\u001b[0m\u001b[0;34m=\u001b[0m\u001b[0msentences\u001b[0m\u001b[0;34m,\u001b[0m \u001b[0mcorpus_file\u001b[0m\u001b[0;34m=\u001b[0m\u001b[0mcorpus_file\u001b[0m\u001b[0;34m,\u001b[0m \u001b[0mtotal_examples\u001b[0m\u001b[0;34m=\u001b[0m\u001b[0mtotal_examples\u001b[0m\u001b[0;34m,\u001b[0m \u001b[0mtotal_words\u001b[0m\u001b[0;34m=\u001b[0m\u001b[0mtotal_words\u001b[0m\u001b[0;34m,\u001b[0m\u001b[0;34m\u001b[0m\u001b[0m\n\u001b[1;32m    909\u001b[0m             \u001b[0mepochs\u001b[0m\u001b[0;34m=\u001b[0m\u001b[0mepochs\u001b[0m\u001b[0;34m,\u001b[0m \u001b[0mstart_alpha\u001b[0m\u001b[0;34m=\u001b[0m\u001b[0mstart_alpha\u001b[0m\u001b[0;34m,\u001b[0m \u001b[0mend_alpha\u001b[0m\u001b[0;34m=\u001b[0m\u001b[0mend_alpha\u001b[0m\u001b[0;34m,\u001b[0m \u001b[0mword_count\u001b[0m\u001b[0;34m=\u001b[0m\u001b[0mword_count\u001b[0m\u001b[0;34m,\u001b[0m\u001b[0;34m\u001b[0m\u001b[0m\n\u001b[0;32m--> 910\u001b[0;31m             queue_factor=queue_factor, report_delay=report_delay, compute_loss=compute_loss, callbacks=callbacks)\n\u001b[0m\u001b[1;32m    911\u001b[0m \u001b[0;34m\u001b[0m\u001b[0m\n\u001b[1;32m    912\u001b[0m     \u001b[0;32mdef\u001b[0m \u001b[0mscore\u001b[0m\u001b[0;34m(\u001b[0m\u001b[0mself\u001b[0m\u001b[0;34m,\u001b[0m \u001b[0msentences\u001b[0m\u001b[0;34m,\u001b[0m \u001b[0mtotal_sentences\u001b[0m\u001b[0;34m=\u001b[0m\u001b[0mint\u001b[0m\u001b[0;34m(\u001b[0m\u001b[0;36m1e6\u001b[0m\u001b[0;34m)\u001b[0m\u001b[0;34m,\u001b[0m \u001b[0mchunksize\u001b[0m\u001b[0;34m=\u001b[0m\u001b[0;36m100\u001b[0m\u001b[0;34m,\u001b[0m \u001b[0mqueue_factor\u001b[0m\u001b[0;34m=\u001b[0m\u001b[0;36m2\u001b[0m\u001b[0;34m,\u001b[0m \u001b[0mreport_delay\u001b[0m\u001b[0;34m=\u001b[0m\u001b[0;36m1\u001b[0m\u001b[0;34m)\u001b[0m\u001b[0;34m:\u001b[0m\u001b[0;34m\u001b[0m\u001b[0m\n",
      "\u001b[0;32m~/anaconda3/envs/DataSci/lib/python3.6/site-packages/gensim/models/base_any2vec.py\u001b[0m in \u001b[0;36mtrain\u001b[0;34m(self, sentences, corpus_file, total_examples, total_words, epochs, start_alpha, end_alpha, word_count, queue_factor, report_delay, compute_loss, callbacks, **kwargs)\u001b[0m\n\u001b[1;32m   1079\u001b[0m             \u001b[0mtotal_words\u001b[0m\u001b[0;34m=\u001b[0m\u001b[0mtotal_words\u001b[0m\u001b[0;34m,\u001b[0m \u001b[0mepochs\u001b[0m\u001b[0;34m=\u001b[0m\u001b[0mepochs\u001b[0m\u001b[0;34m,\u001b[0m \u001b[0mstart_alpha\u001b[0m\u001b[0;34m=\u001b[0m\u001b[0mstart_alpha\u001b[0m\u001b[0;34m,\u001b[0m \u001b[0mend_alpha\u001b[0m\u001b[0;34m=\u001b[0m\u001b[0mend_alpha\u001b[0m\u001b[0;34m,\u001b[0m \u001b[0mword_count\u001b[0m\u001b[0;34m=\u001b[0m\u001b[0mword_count\u001b[0m\u001b[0;34m,\u001b[0m\u001b[0;34m\u001b[0m\u001b[0m\n\u001b[1;32m   1080\u001b[0m             \u001b[0mqueue_factor\u001b[0m\u001b[0;34m=\u001b[0m\u001b[0mqueue_factor\u001b[0m\u001b[0;34m,\u001b[0m \u001b[0mreport_delay\u001b[0m\u001b[0;34m=\u001b[0m\u001b[0mreport_delay\u001b[0m\u001b[0;34m,\u001b[0m \u001b[0mcompute_loss\u001b[0m\u001b[0;34m=\u001b[0m\u001b[0mcompute_loss\u001b[0m\u001b[0;34m,\u001b[0m \u001b[0mcallbacks\u001b[0m\u001b[0;34m=\u001b[0m\u001b[0mcallbacks\u001b[0m\u001b[0;34m,\u001b[0m\u001b[0;34m\u001b[0m\u001b[0m\n\u001b[0;32m-> 1081\u001b[0;31m             **kwargs)\n\u001b[0m\u001b[1;32m   1082\u001b[0m \u001b[0;34m\u001b[0m\u001b[0m\n\u001b[1;32m   1083\u001b[0m     \u001b[0;32mdef\u001b[0m \u001b[0m_get_job_params\u001b[0m\u001b[0;34m(\u001b[0m\u001b[0mself\u001b[0m\u001b[0;34m,\u001b[0m \u001b[0mcur_epoch\u001b[0m\u001b[0;34m)\u001b[0m\u001b[0;34m:\u001b[0m\u001b[0;34m\u001b[0m\u001b[0m\n",
      "\u001b[0;32m~/anaconda3/envs/DataSci/lib/python3.6/site-packages/gensim/models/base_any2vec.py\u001b[0m in \u001b[0;36mtrain\u001b[0;34m(self, data_iterable, corpus_file, epochs, total_examples, total_words, queue_factor, report_delay, callbacks, **kwargs)\u001b[0m\n\u001b[1;32m    534\u001b[0m             \u001b[0mepochs\u001b[0m\u001b[0;34m=\u001b[0m\u001b[0mepochs\u001b[0m\u001b[0;34m,\u001b[0m\u001b[0;34m\u001b[0m\u001b[0m\n\u001b[1;32m    535\u001b[0m             \u001b[0mtotal_examples\u001b[0m\u001b[0;34m=\u001b[0m\u001b[0mtotal_examples\u001b[0m\u001b[0;34m,\u001b[0m\u001b[0;34m\u001b[0m\u001b[0m\n\u001b[0;32m--> 536\u001b[0;31m             total_words=total_words, **kwargs)\n\u001b[0m\u001b[1;32m    537\u001b[0m \u001b[0;34m\u001b[0m\u001b[0m\n\u001b[1;32m    538\u001b[0m         \u001b[0;32mfor\u001b[0m \u001b[0mcallback\u001b[0m \u001b[0;32min\u001b[0m \u001b[0mself\u001b[0m\u001b[0;34m.\u001b[0m\u001b[0mcallbacks\u001b[0m\u001b[0;34m:\u001b[0m\u001b[0;34m\u001b[0m\u001b[0m\n",
      "\u001b[0;32m~/anaconda3/envs/DataSci/lib/python3.6/site-packages/gensim/models/base_any2vec.py\u001b[0m in \u001b[0;36m_check_training_sanity\u001b[0;34m(self, epochs, total_examples, total_words, **kwargs)\u001b[0m\n\u001b[1;32m   1198\u001b[0m         \u001b[0;32mif\u001b[0m \u001b[0mtotal_words\u001b[0m \u001b[0;32mis\u001b[0m \u001b[0;32mNone\u001b[0m \u001b[0;32mand\u001b[0m \u001b[0mtotal_examples\u001b[0m \u001b[0;32mis\u001b[0m \u001b[0;32mNone\u001b[0m\u001b[0;34m:\u001b[0m\u001b[0;34m\u001b[0m\u001b[0m\n\u001b[1;32m   1199\u001b[0m             raise ValueError(\n\u001b[0;32m-> 1200\u001b[0;31m                 \u001b[0;34m\"You must specify either total_examples or total_words, for proper job parameters updation\"\u001b[0m\u001b[0;34m\u001b[0m\u001b[0m\n\u001b[0m\u001b[1;32m   1201\u001b[0m                 \u001b[0;34m\"and progress calculations. \"\u001b[0m\u001b[0;34m\u001b[0m\u001b[0m\n\u001b[1;32m   1202\u001b[0m                 \u001b[0;34m\"The usual value is total_examples=model.corpus_count.\"\u001b[0m\u001b[0;34m\u001b[0m\u001b[0m\n",
      "\u001b[0;31mValueError\u001b[0m: You must specify either total_examples or total_words, for proper job parameters updationand progress calculations. The usual value is total_examples=model.corpus_count."
     ]
    }
   ],
   "source": [
    "corpus.w2v_model.build_vocab([['covid'],['ติด']], update = True)\n",
    "corpus.w2v_model.train([['covid'],['ติด']])"
   ]
  },
  {
   "cell_type": "code",
   "execution_count": 103,
   "metadata": {},
   "outputs": [
    {
     "data": {
      "text/html": [
       "<div>\n",
       "<style scoped>\n",
       "    .dataframe tbody tr th:only-of-type {\n",
       "        vertical-align: middle;\n",
       "    }\n",
       "\n",
       "    .dataframe tbody tr th {\n",
       "        vertical-align: top;\n",
       "    }\n",
       "\n",
       "    .dataframe thead th {\n",
       "        text-align: right;\n",
       "    }\n",
       "</style>\n",
       "<table border=\"1\" class=\"dataframe\">\n",
       "  <thead>\n",
       "    <tr style=\"text-align: right;\">\n",
       "      <th></th>\n",
       "      <th>0</th>\n",
       "      <th>1</th>\n",
       "      <th>2</th>\n",
       "      <th>3</th>\n",
       "      <th>4</th>\n",
       "      <th>5</th>\n",
       "      <th>6</th>\n",
       "      <th>7</th>\n",
       "      <th>8</th>\n",
       "      <th>9</th>\n",
       "      <th>...</th>\n",
       "      <th>90</th>\n",
       "      <th>91</th>\n",
       "      <th>92</th>\n",
       "      <th>93</th>\n",
       "      <th>94</th>\n",
       "      <th>95</th>\n",
       "      <th>96</th>\n",
       "      <th>97</th>\n",
       "      <th>98</th>\n",
       "      <th>99</th>\n",
       "    </tr>\n",
       "  </thead>\n",
       "  <tbody>\n",
       "    <tr>\n",
       "      <th>สมเด็จพระเทพรัตนราชสุดา</th>\n",
       "      <td>-0.106435</td>\n",
       "      <td>0.070398</td>\n",
       "      <td>0.659389</td>\n",
       "      <td>0.313430</td>\n",
       "      <td>-0.219083</td>\n",
       "      <td>1.938172</td>\n",
       "      <td>-0.300211</td>\n",
       "      <td>1.339408</td>\n",
       "      <td>-0.855862</td>\n",
       "      <td>0.788721</td>\n",
       "      <td>...</td>\n",
       "      <td>1.096211</td>\n",
       "      <td>-1.073300</td>\n",
       "      <td>0.226067</td>\n",
       "      <td>-0.400042</td>\n",
       "      <td>0.160031</td>\n",
       "      <td>-0.785467</td>\n",
       "      <td>0.341061</td>\n",
       "      <td>-0.049276</td>\n",
       "      <td>-2.105382</td>\n",
       "      <td>0.340509</td>\n",
       "    </tr>\n",
       "    <tr>\n",
       "      <th>ฯ</th>\n",
       "      <td>-1.185092</td>\n",
       "      <td>-1.173981</td>\n",
       "      <td>-0.327261</td>\n",
       "      <td>-0.609052</td>\n",
       "      <td>-0.222599</td>\n",
       "      <td>-0.664468</td>\n",
       "      <td>0.015474</td>\n",
       "      <td>-3.811167</td>\n",
       "      <td>2.226418</td>\n",
       "      <td>-1.419563</td>\n",
       "      <td>...</td>\n",
       "      <td>0.019513</td>\n",
       "      <td>2.418313</td>\n",
       "      <td>-2.248412</td>\n",
       "      <td>-0.159210</td>\n",
       "      <td>0.669833</td>\n",
       "      <td>0.104805</td>\n",
       "      <td>-1.311087</td>\n",
       "      <td>2.536903</td>\n",
       "      <td>-1.682617</td>\n",
       "      <td>-1.003693</td>\n",
       "    </tr>\n",
       "    <tr>\n",
       "      <th>สยามบรมราชกุมารี</th>\n",
       "      <td>-0.198080</td>\n",
       "      <td>-0.052046</td>\n",
       "      <td>0.098862</td>\n",
       "      <td>0.029872</td>\n",
       "      <td>-0.124259</td>\n",
       "      <td>0.451064</td>\n",
       "      <td>0.082795</td>\n",
       "      <td>0.394136</td>\n",
       "      <td>-0.158339</td>\n",
       "      <td>0.161638</td>\n",
       "      <td>...</td>\n",
       "      <td>0.129778</td>\n",
       "      <td>-0.208632</td>\n",
       "      <td>-0.063413</td>\n",
       "      <td>-0.332642</td>\n",
       "      <td>0.153537</td>\n",
       "      <td>-0.020169</td>\n",
       "      <td>0.049864</td>\n",
       "      <td>0.124709</td>\n",
       "      <td>-0.559552</td>\n",
       "      <td>0.048707</td>\n",
       "    </tr>\n",
       "    <tr>\n",
       "      <th>เสด็จพระราชดำเนิน</th>\n",
       "      <td>-1.935842</td>\n",
       "      <td>-0.039642</td>\n",
       "      <td>-0.242797</td>\n",
       "      <td>1.149467</td>\n",
       "      <td>0.095979</td>\n",
       "      <td>-0.364176</td>\n",
       "      <td>1.416966</td>\n",
       "      <td>0.948905</td>\n",
       "      <td>-0.333425</td>\n",
       "      <td>-0.679227</td>\n",
       "      <td>...</td>\n",
       "      <td>0.667447</td>\n",
       "      <td>-0.322964</td>\n",
       "      <td>0.876735</td>\n",
       "      <td>-0.656556</td>\n",
       "      <td>-0.339141</td>\n",
       "      <td>-0.643988</td>\n",
       "      <td>-1.068710</td>\n",
       "      <td>-0.011682</td>\n",
       "      <td>-2.758675</td>\n",
       "      <td>0.306707</td>\n",
       "    </tr>\n",
       "    <tr>\n",
       "      <th>ไป</th>\n",
       "      <td>5.687265</td>\n",
       "      <td>2.305024</td>\n",
       "      <td>-0.913958</td>\n",
       "      <td>-1.646111</td>\n",
       "      <td>2.468485</td>\n",
       "      <td>-4.328710</td>\n",
       "      <td>-1.139392</td>\n",
       "      <td>-1.691409</td>\n",
       "      <td>0.422948</td>\n",
       "      <td>-3.986894</td>\n",
       "      <td>...</td>\n",
       "      <td>2.479021</td>\n",
       "      <td>-0.978847</td>\n",
       "      <td>-0.931755</td>\n",
       "      <td>0.223637</td>\n",
       "      <td>1.312083</td>\n",
       "      <td>-0.444267</td>\n",
       "      <td>-0.621898</td>\n",
       "      <td>0.642208</td>\n",
       "      <td>0.848280</td>\n",
       "      <td>0.411722</td>\n",
       "    </tr>\n",
       "    <tr>\n",
       "      <th>ทอดพระเนตร</th>\n",
       "      <td>-0.236583</td>\n",
       "      <td>0.403382</td>\n",
       "      <td>0.539281</td>\n",
       "      <td>0.023422</td>\n",
       "      <td>-1.179216</td>\n",
       "      <td>-0.744634</td>\n",
       "      <td>1.586668</td>\n",
       "      <td>1.223778</td>\n",
       "      <td>-0.009709</td>\n",
       "      <td>0.001542</td>\n",
       "      <td>...</td>\n",
       "      <td>-0.531646</td>\n",
       "      <td>-0.473195</td>\n",
       "      <td>-0.457179</td>\n",
       "      <td>-1.763031</td>\n",
       "      <td>-0.618828</td>\n",
       "      <td>-0.650536</td>\n",
       "      <td>-0.995295</td>\n",
       "      <td>-0.389632</td>\n",
       "      <td>-2.492200</td>\n",
       "      <td>0.629455</td>\n",
       "    </tr>\n",
       "    <tr>\n",
       "      <th>การ</th>\n",
       "      <td>0.339741</td>\n",
       "      <td>1.080713</td>\n",
       "      <td>-1.943208</td>\n",
       "      <td>-0.943055</td>\n",
       "      <td>1.438326</td>\n",
       "      <td>-0.939706</td>\n",
       "      <td>-2.401559</td>\n",
       "      <td>-4.407472</td>\n",
       "      <td>-2.793225</td>\n",
       "      <td>-1.740466</td>\n",
       "      <td>...</td>\n",
       "      <td>1.646990</td>\n",
       "      <td>-1.580540</td>\n",
       "      <td>0.528027</td>\n",
       "      <td>1.673488</td>\n",
       "      <td>-1.870724</td>\n",
       "      <td>-0.263791</td>\n",
       "      <td>1.155806</td>\n",
       "      <td>2.366034</td>\n",
       "      <td>-5.991735</td>\n",
       "      <td>0.361666</td>\n",
       "    </tr>\n",
       "    <tr>\n",
       "      <th>จัด</th>\n",
       "      <td>-0.082455</td>\n",
       "      <td>-2.041720</td>\n",
       "      <td>-0.716040</td>\n",
       "      <td>-0.509828</td>\n",
       "      <td>-2.480247</td>\n",
       "      <td>1.634605</td>\n",
       "      <td>-0.289339</td>\n",
       "      <td>-2.815706</td>\n",
       "      <td>-3.792020</td>\n",
       "      <td>0.396906</td>\n",
       "      <td>...</td>\n",
       "      <td>1.480165</td>\n",
       "      <td>-1.086305</td>\n",
       "      <td>-1.966042</td>\n",
       "      <td>1.379126</td>\n",
       "      <td>1.929012</td>\n",
       "      <td>-2.061153</td>\n",
       "      <td>1.288963</td>\n",
       "      <td>-0.714465</td>\n",
       "      <td>1.073477</td>\n",
       "      <td>0.216788</td>\n",
       "    </tr>\n",
       "    <tr>\n",
       "      <th>แสดง</th>\n",
       "      <td>0.545015</td>\n",
       "      <td>1.249628</td>\n",
       "      <td>-0.531528</td>\n",
       "      <td>-0.922883</td>\n",
       "      <td>-1.894689</td>\n",
       "      <td>0.499874</td>\n",
       "      <td>0.576684</td>\n",
       "      <td>-3.277345</td>\n",
       "      <td>-1.298954</td>\n",
       "      <td>0.447369</td>\n",
       "      <td>...</td>\n",
       "      <td>0.868246</td>\n",
       "      <td>0.315685</td>\n",
       "      <td>-1.352607</td>\n",
       "      <td>-2.634742</td>\n",
       "      <td>-2.863534</td>\n",
       "      <td>0.849518</td>\n",
       "      <td>-0.399530</td>\n",
       "      <td>1.080121</td>\n",
       "      <td>-1.209405</td>\n",
       "      <td>1.391059</td>\n",
       "    </tr>\n",
       "    <tr>\n",
       "      <th>นิทรรศการ</th>\n",
       "      <td>-1.577099</td>\n",
       "      <td>1.163541</td>\n",
       "      <td>0.705957</td>\n",
       "      <td>-0.668392</td>\n",
       "      <td>-0.524165</td>\n",
       "      <td>0.889264</td>\n",
       "      <td>-0.563310</td>\n",
       "      <td>1.740348</td>\n",
       "      <td>-1.059311</td>\n",
       "      <td>0.060685</td>\n",
       "      <td>...</td>\n",
       "      <td>-0.113669</td>\n",
       "      <td>-2.291017</td>\n",
       "      <td>-0.400159</td>\n",
       "      <td>1.218242</td>\n",
       "      <td>-0.163557</td>\n",
       "      <td>-1.332072</td>\n",
       "      <td>-0.733444</td>\n",
       "      <td>1.518086</td>\n",
       "      <td>-2.100934</td>\n",
       "      <td>1.449742</td>\n",
       "    </tr>\n",
       "  </tbody>\n",
       "</table>\n",
       "<p>10 rows × 100 columns</p>\n",
       "</div>"
      ],
      "text/plain": [
       "                               0         1         2         3         4   \\\n",
       "สมเด็จพระเทพรัตนราชสุดา -0.106435  0.070398  0.659389  0.313430 -0.219083   \n",
       "ฯ                       -1.185092 -1.173981 -0.327261 -0.609052 -0.222599   \n",
       "สยามบรมราชกุมารี        -0.198080 -0.052046  0.098862  0.029872 -0.124259   \n",
       "เสด็จพระราชดำเนิน       -1.935842 -0.039642 -0.242797  1.149467  0.095979   \n",
       "ไป                       5.687265  2.305024 -0.913958 -1.646111  2.468485   \n",
       "ทอดพระเนตร              -0.236583  0.403382  0.539281  0.023422 -1.179216   \n",
       "การ                      0.339741  1.080713 -1.943208 -0.943055  1.438326   \n",
       "จัด                     -0.082455 -2.041720 -0.716040 -0.509828 -2.480247   \n",
       "แสดง                     0.545015  1.249628 -0.531528 -0.922883 -1.894689   \n",
       "นิทรรศการ               -1.577099  1.163541  0.705957 -0.668392 -0.524165   \n",
       "\n",
       "                               5         6         7         8         9   \\\n",
       "สมเด็จพระเทพรัตนราชสุดา  1.938172 -0.300211  1.339408 -0.855862  0.788721   \n",
       "ฯ                       -0.664468  0.015474 -3.811167  2.226418 -1.419563   \n",
       "สยามบรมราชกุมารี         0.451064  0.082795  0.394136 -0.158339  0.161638   \n",
       "เสด็จพระราชดำเนิน       -0.364176  1.416966  0.948905 -0.333425 -0.679227   \n",
       "ไป                      -4.328710 -1.139392 -1.691409  0.422948 -3.986894   \n",
       "ทอดพระเนตร              -0.744634  1.586668  1.223778 -0.009709  0.001542   \n",
       "การ                     -0.939706 -2.401559 -4.407472 -2.793225 -1.740466   \n",
       "จัด                      1.634605 -0.289339 -2.815706 -3.792020  0.396906   \n",
       "แสดง                     0.499874  0.576684 -3.277345 -1.298954  0.447369   \n",
       "นิทรรศการ                0.889264 -0.563310  1.740348 -1.059311  0.060685   \n",
       "\n",
       "                         ...        90        91        92        93  \\\n",
       "สมเด็จพระเทพรัตนราชสุดา  ...  1.096211 -1.073300  0.226067 -0.400042   \n",
       "ฯ                        ...  0.019513  2.418313 -2.248412 -0.159210   \n",
       "สยามบรมราชกุมารี         ...  0.129778 -0.208632 -0.063413 -0.332642   \n",
       "เสด็จพระราชดำเนิน        ...  0.667447 -0.322964  0.876735 -0.656556   \n",
       "ไป                       ...  2.479021 -0.978847 -0.931755  0.223637   \n",
       "ทอดพระเนตร               ... -0.531646 -0.473195 -0.457179 -1.763031   \n",
       "การ                      ...  1.646990 -1.580540  0.528027  1.673488   \n",
       "จัด                      ...  1.480165 -1.086305 -1.966042  1.379126   \n",
       "แสดง                     ...  0.868246  0.315685 -1.352607 -2.634742   \n",
       "นิทรรศการ                ... -0.113669 -2.291017 -0.400159  1.218242   \n",
       "\n",
       "                               94        95        96        97        98  \\\n",
       "สมเด็จพระเทพรัตนราชสุดา  0.160031 -0.785467  0.341061 -0.049276 -2.105382   \n",
       "ฯ                        0.669833  0.104805 -1.311087  2.536903 -1.682617   \n",
       "สยามบรมราชกุมารี         0.153537 -0.020169  0.049864  0.124709 -0.559552   \n",
       "เสด็จพระราชดำเนิน       -0.339141 -0.643988 -1.068710 -0.011682 -2.758675   \n",
       "ไป                       1.312083 -0.444267 -0.621898  0.642208  0.848280   \n",
       "ทอดพระเนตร              -0.618828 -0.650536 -0.995295 -0.389632 -2.492200   \n",
       "การ                     -1.870724 -0.263791  1.155806  2.366034 -5.991735   \n",
       "จัด                      1.929012 -2.061153  1.288963 -0.714465  1.073477   \n",
       "แสดง                    -2.863534  0.849518 -0.399530  1.080121 -1.209405   \n",
       "นิทรรศการ               -0.163557 -1.332072 -0.733444  1.518086 -2.100934   \n",
       "\n",
       "                               99  \n",
       "สมเด็จพระเทพรัตนราชสุดา  0.340509  \n",
       "ฯ                       -1.003693  \n",
       "สยามบรมราชกุมารี         0.048707  \n",
       "เสด็จพระราชดำเนิน        0.306707  \n",
       "ไป                       0.411722  \n",
       "ทอดพระเนตร               0.629455  \n",
       "การ                      0.361666  \n",
       "จัด                      0.216788  \n",
       "แสดง                     1.391059  \n",
       "นิทรรศการ                1.449742  \n",
       "\n",
       "[10 rows x 100 columns]"
      ]
     },
     "execution_count": 103,
     "metadata": {},
     "output_type": "execute_result"
    }
   ],
   "source": [
    "#create dataframe\n",
    "thai2dict = {}\n",
    "import pandas as pd\n",
    "#for word in model.index2word:\n",
    "#    thai2dict[word] = corpus.w2v_model.wv[word]\n",
    "\n",
    "thai2vec = pd.DataFrame.from_dict({word: corpus.w2v_model.wv[word] for word in corpus.w2v_model.wv.vocab}\n",
    "                                   ,orient='index')\n",
    "\n",
    "thai2vec.head(10)"
   ]
  },
  {
   "cell_type": "code",
   "execution_count": 124,
   "metadata": {},
   "outputs": [
    {
     "data": {
      "image/png": "[encoded data removed]",
      "text/plain": [
       "<Figure size 720x720 with 1 Axes>"
      ]
     },
     "metadata": {
      "needs_background": "light"
     },
     "output_type": "display_data"
    }
   ],
   "source": [
    "from sklearn.manifold import TSNE\n",
    "\n",
    "tsne = TSNE(n_components=2, init='pca', n_iter=1000)\n",
    "thai2plot = tsne.fit_transform(thai2vec)\n",
    "#pickle.dump(thai2plot,open(f'{model_path}thai2plot.pkl','wb'))\n",
    "\n",
    "def plot_with_labels(low_dim_embs, labels, filename=None, figsize=(10,10),\n",
    "                    axis_lims = None):\n",
    "    assert low_dim_embs.shape[0] >= len(labels), \"More labels than embeddings\"\n",
    "    plt.figure(figsize=figsize)  # in inches\n",
    "    for i, label in enumerate(labels):\n",
    "        x, y = low_dim_embs[i, :]\n",
    "        plt.scatter(x, y)\n",
    "        prop = fm.FontProperties(fname=f'THSarabunNew.ttf',size=20)\n",
    "        plt.annotate(label,\n",
    "                 fontproperties=prop,\n",
    "                 xy=(x, y),\n",
    "                 xytext=(5, 2),\n",
    "                 textcoords='offset points',\n",
    "                 ha='right',\n",
    "                 va='bottom')\n",
    "    if axis_lims is not None: plt.axis(axis_lims)\n",
    "    if filename: plt.savefig(filename)\n",
    "    \n",
    "plot_with_labels(thai2plot[200:500],labels[200:500],axis_lims = [0,30,0,30])"
   ]
  },
  {
   "cell_type": "code",
   "execution_count": 125,
   "metadata": {},
   "outputs": [
    {
     "data": {
      "image/png": "[encoded data removed]",
      "text/plain": [
       "<Figure size 720x720 with 1 Axes>"
      ]
     },
     "metadata": {
      "needs_background": "light"
     },
     "output_type": "display_data"
    }
   ],
   "source": [
    "plot_with_labels(thai2plot[200:500],labels[200:500])"
   ]
  },
  {
   "cell_type": "code",
   "execution_count": 121,
   "metadata": {},
   "outputs": [],
   "source": [
    "x = thai2plot[200:500,0]\n",
    "y = thai2plot[200:500,1]\n",
    "l = labels[200:500]"
   ]
  },
  {
   "cell_type": "code",
   "execution_count": 123,
   "metadata": {},
   "outputs": [
    {
     "data": {
      "application/vnd.plotly.v1+json": {
       "config": {
        "plotlyServerURL": "https://plot.ly"
       },
       "data": [
        {
         "hoverlabel": {
          "namelength": 0
         },
         "hovertemplate": "x=%{x}<br>y=%{y}<br>text=%{text}",
         "legendgroup": "",
         "marker": {
          "color": "#636efa",
          "symbol": "circle"
         },
         "mode": "markers+text",
         "name": "",
         "showlegend": false,
         "text": [
          "ถาม",
          "บ้าง",
          "พิจารณา",
          "อำนาจ",
          "’",
          "รัก",
          "วันที่",
          "ภาพ",
          "ตา",
          "ค่า",
          "ผ่าน",
          "ห้อง",
          "หนังสือ",
          "๓",
          "ข้อมูล",
          "ยิ่ง",
          "ดัง",
          "เพิ่ม",
          "ทรง",
          "ตั้งแต่",
          "พ่อ",
          "ต่อไป",
          "สำคัญ",
          "เศรษฐกิจ",
          "เปิด",
          "ไหน",
          "กระทำ",
          "ตั้ง",
          "เข้าใจ",
          "ชอบ",
          "ภาษา",
          "ตรง",
          "เรียน",
          "ตอน",
          "‘",
          "รัฐ",
          "การศึกษา",
          "ก็ได้",
          "รู้สึก",
          "ขนาด",
          "เท่านั้น",
          "นั่ง",
          "เดือน",
          "ชื่อ",
          "ชาติ",
          "ผิด",
          "รัฐบาล",
          "หลัก",
          "นาน",
          "รถ",
          "จีน",
          "ฟัง",
          "เล็ก",
          "ภายใน",
          "แต่ละ",
          "ละ",
          "ต้องการ",
          "ตาย",
          "มือ",
          "หญิง",
          "เรียก",
          "รูป",
          "บาท",
          "ประชาชน",
          "ยา",
          "มนุษย์",
          "สาม",
          "ลด",
          "ผลิต",
          "ซื้อ",
          "เล่น",
          "หมด",
          "การเมือง",
          "ขาย",
          "เสนอ",
          "ปฏิบัติ",
          "ชาว",
          "พร้อม",
          "มัก",
          "รักษา",
          "เลือก",
          "อ่าน",
          "อย่างไร",
          "เขียน",
          "ก็คือ",
          "ล่ะ",
          "ระยะ",
          "ค่ะ",
          "ตลอด",
          "สู่",
          "ความคิด",
          "หรือไม่",
          "หน้าที่",
          "ราคา",
          "ประชุม",
          "๕",
          "ผู้หญิง",
          "ติด",
          "ใส่",
          "ศึกษา",
          "เก็บ",
          "ชั้น",
          "เดียวกัน",
          "สิทธิ",
          "ประโยชน์",
          "คณะกรรมการ",
          "แค่",
          "เปลี่ยน",
          "ปัจจุบัน",
          "เจ้า",
          "คะ",
          "พื้นที่",
          "๔",
          "วิธี",
          "ตำแหน่ง",
          "ทำไม",
          "ประจำ",
          "พยายาม",
          "เนื่องจาก",
          "โอกาส",
          "แม้",
          "สมัย",
          "อย่า",
          "ประเภท",
          "สัมพันธ์",
          "เหตุ",
          "ตอบ",
          "วัฒนธรรม",
          "ตนเอง",
          "นั่น",
          "สัก",
          "สินค้า",
          "เดิม",
          "จำเป็น",
          "เปลี่ยนแปลง",
          "ถือ",
          "เล่า",
          "ประกอบ",
          "ชนิด",
          "กระทรวง",
          "ปรากฏ",
          "แล้วก็",
          "ชาย",
          "ดำเนินการ",
          "รอบ",
          "บริษัท",
          "จังหวัด",
          "ใบ",
          "นอน",
          "ทั้งหมด",
          "สุข",
          "เกิน",
          "ครู",
          "รู้จัก",
          "โดยเฉพาะ",
          "ดังนั้น",
          "ร้าน",
          "บริการ",
          "ทราบ",
          "ประมาณ",
          "จุด",
          "ง่าย",
          "โครงการ",
          "ตัวอย่าง",
          "ข้าง",
          "ภาค",
          "เรียกว่า",
          "คืน",
          "หรอก",
          "โรค",
          "อาการ",
          "อายุ",
          "เหล่านี้",
          "พา",
          "แก",
          "แตกต่าง",
          "วิธีการ",
          "น้อง",
          "หมอ",
          "ความรู้สึก",
          "แทน",
          "ที่อยู่",
          "เชื่อ",
          "ล้าน",
          "ยาว",
          "ราชการ",
          "ครอบครัว",
          "ไหม",
          "นา",
          "เดินทาง",
          "โรงเรียน",
          "คณะ",
          "สภา",
          "สภาพ",
          "ที",
          "พรรค",
          "วัด",
          "ประกาศ",
          "นาง",
          "หัว",
          "กลาง",
          "แรง",
          "คู่",
          "ตลาด",
          "กลายเป็น",
          "จับ",
          "วิจัย",
          "แนว",
          "ข้าว",
          "หัน",
          "ไม่ว่า",
          "เฉพาะ",
          "ยก",
          "อาศัย",
          "ย่อม",
          "ชุด",
          "หนู",
          "นโยบาย",
          "/",
          "น่ะ",
          "ความรู้",
          "เท่า",
          "ยอม",
          "ราย",
          "ควบคุม",
          "ธรรมชาติ",
          "วาง",
          "ส่วนใหญ่",
          "ปกติ",
          "บริหาร",
          "ยืน",
          "ประการ",
          "สัญญา",
          "สมาชิก",
          "นิยม",
          "รอ",
          "หลังจาก",
          "ต้น",
          "สิ",
          "อนุญาต",
          "ร่าง",
          "สอน",
          "ญี่ปุ่น",
          "ทางการ",
          "เปล่า",
          "ใกล้",
          "สิบ",
          "แก้ไข",
          "เพลง",
          "พิเศษ",
          "จัดการ",
          "ปาก",
          "เป็นต้น",
          "ความหมาย",
          "บริเวณ",
          "ยิ้ม",
          "ทั้งนี้",
          "ยุค",
          "สัตว์",
          "บท",
          "รวมทั้ง",
          "เขต",
          "นอก",
          "ดูแล",
          "หาย",
          "ไม้",
          "บังคับ",
          "ยาก",
          "สาย",
          "อัตรา",
          "ได้แก่",
          "เชิง",
          "ตรวจ",
          "วันนี้",
          "สำนักงาน",
          "สัมภาษณ์",
          "จบ",
          "ทันที",
          "เจอ",
          "ยอมรับ",
          "เจ้าของ",
          "ผู้ชาย",
          "นอกจาก",
          "ชุมชน",
          "ขาด",
          "ทั่ว",
          "ยังไง",
          "อา",
          "ไง",
          "สวย",
          "เจ้าหน้าที่",
          "รายงาน",
          "ข่าว",
          "ฉบับ",
          "มิ",
          "ฐานะ",
          "สถาบัน",
          "ประธาน",
          "ปรับ",
          "โต"
         ],
         "type": "scatter",
         "x": [
          8.763360023498535,
          -26.794153213500977,
          -49.44420623779297,
          1.2928524017333984,
          -10.25096607208252,
          1.7408154010772705,
          16.358739852905273,
          -15.981894493103027,
          -23.034910202026367,
          -24.236190795898438,
          -47.78615951538086,
          5.814393043518066,
          -19.38551902770996,
          3.2568931579589844,
          16.592294692993164,
          -47.71657943725586,
          -29.794795989990234,
          -51.75701141357422,
          -36.9753532409668,
          -13.734818458557129,
          -37.75021743774414,
          -35.975650787353516,
          -20.0120906829834,
          1.6997644901275635,
          -15.682258605957031,
          -12.438044548034668,
          -8.409900665283203,
          6.973441123962402,
          -4.366988182067871,
          -5.061403274536133,
          -5.114589214324951,
          -10.228529930114746,
          17.31352996826172,
          23.798173904418945,
          -23.771717071533203,
          -30.896268844604492,
          -27.80602264404297,
          -4.60415506362915,
          -27.040796279907227,
          -22.16888999938965,
          -32.378013610839844,
          -38.919010162353516,
          -23.35828971862793,
          -2.706547975540161,
          -23.875221252441406,
          -3.98661470413208,
          -37.10975646972656,
          -21.6052303314209,
          -50.702701568603516,
          5.258954048156738,
          -22.15165901184082,
          -23.484106063842773,
          6.713720321655273,
          -23.84475326538086,
          -5.7319722175598145,
          -6.981082916259766,
          -23.55617904663086,
          -16.772947311401367,
          -34.01045227050781,
          -20.28274154663086,
          -22.541189193725586,
          -37.094242095947266,
          -8.441023826599121,
          -22.426454544067383,
          13.66195297241211,
          -14.060726165771484,
          -7.457376480102539,
          15.242393493652344,
          -47.74229431152344,
          7.160102367401123,
          -22.838106155395508,
          -23.070274353027344,
          -36.318294525146484,
          -23.949851989746094,
          0.5386059284210205,
          -19.2227725982666,
          -26.96804428100586,
          -12.061164855957031,
          -32.665985107421875,
          -22.237579345703125,
          -31.257949829101562,
          -30.940887451171875,
          -19.567489624023438,
          2.8812577724456787,
          -21.389938354492188,
          -2.7320358753204346,
          -20.514604568481445,
          -15.687280654907227,
          -29.764568328857422,
          7.598056793212891,
          -7.525217056274414,
          19.591594696044922,
          -32.532203674316406,
          -26.743526458740234,
          -26.87895393371582,
          14.999857902526855,
          14.914616584777832,
          3.9155490398406982,
          -34.86279296875,
          -31.78310775756836,
          7.717966079711914,
          12.120267868041992,
          -34.936431884765625,
          -13.663856506347656,
          9.714640617370605,
          -20.456314086914062,
          -26.253036499023438,
          -17.86043930053711,
          -25.42658042907715,
          -19.087600708007812,
          -16.948291778564453,
          -4.341126441955566,
          -38.23193359375,
          -11.346832275390625,
          -21.219440460205078,
          -38.728824615478516,
          -16.433794021606445,
          -34.096981048583984,
          -10.923089027404785,
          -22.336088180541992,
          -4.091999053955078,
          18.30171012878418,
          17.29513168334961,
          -4.701668739318848,
          -13.667532920837402,
          -35.77210998535156,
          18.068330764770508,
          -39.629581451416016,
          -41.580142974853516,
          -29.055477142333984,
          -24.147642135620117,
          -27.090564727783203,
          -24.355106353759766,
          17.057430267333984,
          3.212913751602173,
          -3.0666656494140625,
          -33.22956466674805,
          24.946462631225586,
          -48.16621398925781,
          24.9398136138916,
          2.4176135063171387,
          17.42908477783203,
          10.833611488342285,
          -40.81962203979492,
          20.32337760925293,
          -7.5578789710998535,
          9.840433120727539,
          3.204192876815796,
          -12.321706771850586,
          -12.297672271728516,
          -20.445240020751953,
          -0.4683108925819397,
          -21.652315139770508,
          -36.96848678588867,
          -18.746938705444336,
          -11.965780258178711,
          -38.33202362060547,
          3.1160409450531006,
          -13.554512977600098,
          3.2525641918182373,
          -8.80898666381836,
          -13.891716957092285,
          -15.871721267700195,
          -6.249982833862305,
          7.80708646774292,
          -15.457022666931152,
          -33.290836334228516,
          -17.17871856689453,
          -22.35915756225586,
          -14.474564552307129,
          -7.320132732391357,
          -13.605175971984863,
          -19.46275520324707,
          -14.52132511138916,
          -14.21399211883545,
          -22.17125701904297,
          -21.237211227416992,
          1.8301341533660889,
          -31.46564292907715,
          -22.190690994262695,
          -18.41638946533203,
          -17.768327713012695,
          -34.32065963745117,
          17.49489974975586,
          16.157329559326172,
          -12.016900062561035,
          -15.898715019226074,
          16.177621841430664,
          6.825930595397949,
          9.67727279663086,
          -14.106030464172363,
          -14.622129440307617,
          -26.57724380493164,
          -12.704997062683105,
          -40.142967224121094,
          -31.957950592041016,
          9.643576622009277,
          -25.645652770996094,
          -38.76564407348633,
          12.210723876953125,
          -17.635299682617188,
          -5.937565326690674,
          -23.28232765197754,
          -21.898910522460938,
          -21.592605590820312,
          -23.12234878540039,
          -24.878803253173828,
          41.12247085571289,
          -18.653749465942383,
          -21.077953338623047,
          -23.3172607421875,
          -33.853031158447266,
          -36.92738342285156,
          -27.0203857421875,
          -19.283632278442383,
          -37.16005325317383,
          0.06109154596924782,
          -50.021602630615234,
          -22.698427200317383,
          39.777679443359375,
          47.73775863647461,
          14.70530891418457,
          -21.00645637512207,
          0.5130136013031006,
          2.1112852096557617,
          -25.519149780273438,
          -24.767297744750977,
          -19.418289184570312,
          -4.588011264801025,
          -33.000160217285156,
          -16.251615524291992,
          -24.1104736328125,
          -22.355541229248047,
          -20.73992919921875,
          3.3302085399627686,
          -25.07456398010254,
          -21.58549690246582,
          -46.55082321166992,
          -46.552791595458984,
          -42.680606842041016,
          -20.818889617919922,
          -22.317947387695312,
          -17.025480270385742,
          17.656354904174805,
          -31.526439666748047,
          5.8726277351379395,
          16.735944747924805,
          -4.935249328613281,
          -29.58192253112793,
          -11.127326011657715,
          -27.121196746826172,
          -29.11408805847168,
          -51.9346923828125,
          -20.09088134765625,
          -33.725547790527344,
          -13.69482421875,
          -27.91785430908203,
          7.86011266708374,
          3.1578900814056396,
          -5.9424028396606445,
          18.040420532226562,
          -24.840087890625,
          -9.372978210449219,
          -12.505170822143555,
          16.443904876708984,
          17.385190963745117,
          -4.723145008087158,
          -17.868879318237305,
          -31.39034652709961,
          -26.941068649291992,
          -11.811324119567871,
          -12.414130210876465,
          -38.91134262084961,
          46.38357162475586,
          39.506046295166016,
          -34.85576629638672,
          -9.821675300598145,
          19.54306983947754,
          -30.953594207763672,
          -31.62636947631836,
          -36.65016174316406,
          -4.1973066329956055,
          -17.66768455505371,
          -13.323786735534668,
          -35.81671142578125,
          -24.700719833374023,
          -29.478517532348633,
          -3.5934271812438965,
          -38.274505615234375,
          -31.37682342529297,
          -37.458919525146484,
          -38.837890625,
          -30.713956832885742,
          -36.081016540527344,
          -38.289276123046875,
          -29.49249267578125,
          13.27258014678955,
          -29.50144386291504,
          47.68581008911133,
          -30.304794311523438
         ],
         "xaxis": "x",
         "y": [
          41.036163330078125,
          -13.4877290725708,
          -13.974407196044922,
          46.97792434692383,
          46.49612045288086,
          34.670711517333984,
          40.311317443847656,
          17.858718872070312,
          45.097286224365234,
          13.490799903869629,
          -20.489084243774414,
          49.16584777832031,
          -0.8306146860122681,
          51.98670959472656,
          35.63987731933594,
          -20.503494262695312,
          -8.678404808044434,
          -12.672422409057617,
          4.178738117218018,
          -21.24129295349121,
          -0.13251133263111115,
          -9.06120491027832,
          0.5854159593582153,
          36.60439682006836,
          39.17010498046875,
          42.99368667602539,
          26.210229873657227,
          31.502925872802734,
          28.07994842529297,
          31.912662506103516,
          32.03588104248047,
          -25.202896118164062,
          -45.89508819580078,
          -32.86217498779297,
          -13.454493522644043,
          -9.49908447265625,
          -0.3819786608219147,
          48.52460861206055,
          -4.9635844230651855,
          -20.642183303833008,
          0.058016832917928696,
          -24.924001693725586,
          1.9485509395599365,
          48.568485260009766,
          1.3006362915039062,
          30.75724220275879,
          6.670799732208252,
          -6.082178115844727,
          -6.019453525543213,
          44.37761688232422,
          -15.937478065490723,
          -7.641145706176758,
          40.726165771484375,
          -13.642104148864746,
          28.715078353881836,
          27.82097625732422,
          -19.701326370239258,
          16.637727737426758,
          -5.460581302642822,
          -29.018524169921875,
          9.669035911560059,
          6.679108142852783,
          22.049880981445312,
          17.476802825927734,
          40.97801971435547,
          -34.59412384033203,
          49.752845764160156,
          37.07326126098633,
          -19.806453704833984,
          40.77825927734375,
          -4.388570785522461,
          -4.21735143661499,
          29.687297821044922,
          -6.253917217254639,
          29.930376052856445,
          -20.03807258605957,
          -1.6111506223678589,
          19.38734245300293,
          -9.287851333618164,
          2.9575724601745605,
          -19.435279846191406,
          -20.4100399017334,
          0.5864840149879456,
          40.48615646362305,
          41.58400344848633,
          48.46226501464844,
          16.694238662719727,
          16.879552841186523,
          3.442695379257202,
          41.441123962402344,
          46.3934326171875,
          40.441036224365234,
          -1.7550294399261475,
          -25.090728759765625,
          -26.42617416381836,
          42.075965881347656,
          44.39386749267578,
          34.71256637573242,
          6.069221019744873,
          -17.010475158691406,
          39.250526428222656,
          44.59563064575195,
          6.061631202697754,
          -4.7583699226379395,
          44.400856018066406,
          -24.191829681396484,
          -3.0953855514526367,
          36.665283203125,
          -25.297584533691406,
          3.298607587814331,
          -22.556182861328125,
          31.09433364868164,
          -2.652487277984619,
          -5.353916168212891,
          -16.46031951904297,
          -1.5403581857681274,
          7.417356967926025,
          3.694365978240967,
          0.16849465668201447,
          0.231427863240242,
          26.187843322753906,
          -47.8993034362793,
          -50.722225189208984,
          -46.07578659057617,
          -4.71449089050293,
          -9.10053825378418,
          38.7591667175293,
          18.29348373413086,
          28.502601623535156,
          28.573055267333984,
          25.210542678833008,
          6.86175537109375,
          25.569608688354492,
          40.291385650634766,
          51.970947265625,
          48.000423431396484,
          4.334699630737305,
          -48.690895080566406,
          -15.100449562072754,
          -48.6776008605957,
          -41.120967864990234,
          -41.70209884643555,
          -40.30501937866211,
          19.047258377075195,
          -48.43467330932617,
          -23.31665802001953,
          44.66777038574219,
          35.543846130371094,
          0.7142003178596497,
          0.3446178734302521,
          -0.6706250309944153,
          42.57251739501953,
          27.31223487854004,
          31.30787467956543,
          18.994848251342773,
          16.812850952148438,
          0.4733266532421112,
          37.701271057128906,
          43.19117736816406,
          36.49160385131836,
          45.45243453979492,
          -18.087234497070312,
          20.815614700317383,
          31.647058486938477,
          12.56837272644043,
          45.50556564331055,
          -19.86115837097168,
          17.75752830505371,
          -21.293704986572266,
          -9.439712524414062,
          49.76360321044922,
          43.7783203125,
          36.23898696899414,
          -9.232178688049316,
          -9.501158714294434,
          -37.69071578979492,
          2.252434730529785,
          42.60689926147461,
          -4.909726142883301,
          -7.299199104309082,
          3.1370303630828857,
          2.524326801300049,
          -0.93422532081604,
          39.5825080871582,
          33.04383087158203,
          38.66455078125,
          -39.427818298339844,
          -47.08674621582031,
          -47.176883697509766,
          -48.86893844604492,
          -9.410759925842285,
          -9.365771293640137,
          -10.690027236938477,
          42.16839599609375,
          -2.6070265769958496,
          22.61454200744629,
          38.31098175048828,
          -5.2809062004089355,
          23.091814041137695,
          42.64249801635742,
          13.974186897277832,
          31.069793701171875,
          -16.139034271240234,
          -16.365053176879883,
          9.496125221252441,
          12.977749824523926,
          10.36980152130127,
          -14.171550750732422,
          15.924264907836914,
          17.42090606689453,
          1.9383093118667603,
          8.76836109161377,
          -0.9197087287902832,
          -4.9941205978393555,
          -23.77039337158203,
          31.816699981689453,
          38.82912826538086,
          -11.339183807373047,
          -21.2542667388916,
          -17.04970359802246,
          -18.485559463500977,
          33.6008415222168,
          27.146074295043945,
          46.212772369384766,
          -12.787675857543945,
          0.20607659220695496,
          -0.5656259059906006,
          -23.9769287109375,
          48.55805969238281,
          6.510322570800781,
          19.282913208007812,
          1.9846209287643433,
          -23.796274185180664,
          -24.182397842407227,
          42.92216873168945,
          -3.19128155708313,
          -25.519474029541016,
          -6.27471399307251,
          -6.268509387969971,
          26.013397216796875,
          -15.529939651489258,
          -23.189159393310547,
          -2.4697377681732178,
          39.47216796875,
          8.949702262878418,
          49.150657653808594,
          39.79082107543945,
          30.875654220581055,
          -12.021098136901855,
          -7.39335823059082,
          -25.713623046875,
          -22.408031463623047,
          -13.120800018310547,
          12.45673656463623,
          -20.050853729248047,
          21.013463973999023,
          -7.613785743713379,
          41.25623321533203,
          35.620880126953125,
          31.177438735961914,
          42.642242431640625,
          -0.5582166314125061,
          22.2429141998291,
          22.537771224975586,
          35.772003173828125,
          39.73115539550781,
          29.291879653930664,
          11.99303150177002,
          8.755976676940918,
          -2.975919008255005,
          24.218935012817383,
          48.04825973510742,
          19.54105567932129,
          -18.186153411865234,
          17.05828857421875,
          9.337617874145508,
          43.66740036010742,
          40.42673873901367,
          3.2503364086151123,
          3.8245692253112793,
          30.09580421447754,
          -41.16118240356445,
          43.36830520629883,
          43.6396484375,
          -2.9866831302642822,
          7.145792007446289,
          -8.128036499023438,
          29.60379409790039,
          -3.291248083114624,
          14.316527366638184,
          2.6853060722351074,
          19.710132598876953,
          4.492590427398682,
          3.9620282649993896,
          18.89738655090332,
          -8.147109985351562,
          44.721065521240234,
          -8.159269332885742,
          -18.4517879486084,
          10.828511238098145
         ],
         "yaxis": "y"
        }
       ],
       "layout": {
        "legend": {
         "tracegroupgap": 0
        },
        "margin": {
         "t": 60
        },
        "template": {
         "data": {
          "bar": [
           {
            "error_x": {
             "color": "#2a3f5f"
            },
            "error_y": {
             "color": "#2a3f5f"
            },
            "marker": {
             "line": {
              "color": "#E5ECF6",
              "width": 0.5
             }
            },
            "type": "bar"
           }
          ],
          "barpolar": [
           {
            "marker": {
             "line": {
              "color": "#E5ECF6",
              "width": 0.5
             }
            },
            "type": "barpolar"
           }
          ],
          "carpet": [
           {
            "aaxis": {
             "endlinecolor": "#2a3f5f",
             "gridcolor": "white",
             "linecolor": "white",
             "minorgridcolor": "white",
             "startlinecolor": "#2a3f5f"
            },
            "baxis": {
             "endlinecolor": "#2a3f5f",
             "gridcolor": "white",
             "linecolor": "white",
             "minorgridcolor": "white",
             "startlinecolor": "#2a3f5f"
            },
            "type": "carpet"
           }
          ],
          "choropleth": [
           {
            "colorbar": {
             "outlinewidth": 0,
             "ticks": ""
            },
            "type": "choropleth"
           }
          ],
          "contour": [
           {
            "colorbar": {
             "outlinewidth": 0,
             "ticks": ""
            },
            "colorscale": [
             [
              0,
              "#0d0887"
             ],
             [
              0.1111111111111111,
              "#46039f"
             ],
             [
              0.2222222222222222,
              "#7201a8"
             ],
             [
              0.3333333333333333,
              "#9c179e"
             ],
             [
              0.4444444444444444,
              "#bd3786"
             ],
             [
              0.5555555555555556,
              "#d8576b"
             ],
             [
              0.6666666666666666,
              "#ed7953"
             ],
             [
              0.7777777777777778,
              "#fb9f3a"
             ],
             [
              0.8888888888888888,
              "#fdca26"
             ],
             [
              1,
              "#f0f921"
             ]
            ],
            "type": "contour"
           }
          ],
          "contourcarpet": [
           {
            "colorbar": {
             "outlinewidth": 0,
             "ticks": ""
            },
            "type": "contourcarpet"
           }
          ],
          "heatmap": [
           {
            "colorbar": {
             "outlinewidth": 0,
             "ticks": ""
            },
            "colorscale": [
             [
              0,
              "#0d0887"
             ],
             [
              0.1111111111111111,
              "#46039f"
             ],
             [
              0.2222222222222222,
              "#7201a8"
             ],
             [
              0.3333333333333333,
              "#9c179e"
             ],
             [
              0.4444444444444444,
              "#bd3786"
             ],
             [
              0.5555555555555556,
              "#d8576b"
             ],
             [
              0.6666666666666666,
              "#ed7953"
             ],
             [
              0.7777777777777778,
              "#fb9f3a"
             ],
             [
              0.8888888888888888,
              "#fdca26"
             ],
             [
              1,
              "#f0f921"
             ]
            ],
            "type": "heatmap"
           }
          ],
          "heatmapgl": [
           {
            "colorbar": {
             "outlinewidth": 0,
             "ticks": ""
            },
            "colorscale": [
             [
              0,
              "#0d0887"
             ],
             [
              0.1111111111111111,
              "#46039f"
             ],
             [
              0.2222222222222222,
              "#7201a8"
             ],
             [
              0.3333333333333333,
              "#9c179e"
             ],
             [
              0.4444444444444444,
              "#bd3786"
             ],
             [
              0.5555555555555556,
              "#d8576b"
             ],
             [
              0.6666666666666666,
              "#ed7953"
             ],
             [
              0.7777777777777778,
              "#fb9f3a"
             ],
             [
              0.8888888888888888,
              "#fdca26"
             ],
             [
              1,
              "#f0f921"
             ]
            ],
            "type": "heatmapgl"
           }
          ],
          "histogram": [
           {
            "marker": {
             "colorbar": {
              "outlinewidth": 0,
              "ticks": ""
             }
            },
            "type": "histogram"
           }
          ],
          "histogram2d": [
           {
            "colorbar": {
             "outlinewidth": 0,
             "ticks": ""
            },
            "colorscale": [
             [
              0,
              "#0d0887"
             ],
             [
              0.1111111111111111,
              "#46039f"
             ],
             [
              0.2222222222222222,
              "#7201a8"
             ],
             [
              0.3333333333333333,
              "#9c179e"
             ],
             [
              0.4444444444444444,
              "#bd3786"
             ],
             [
              0.5555555555555556,
              "#d8576b"
             ],
             [
              0.6666666666666666,
              "#ed7953"
             ],
             [
              0.7777777777777778,
              "#fb9f3a"
             ],
             [
              0.8888888888888888,
              "#fdca26"
             ],
             [
              1,
              "#f0f921"
             ]
            ],
            "type": "histogram2d"
           }
          ],
          "histogram2dcontour": [
           {
            "colorbar": {
             "outlinewidth": 0,
             "ticks": ""
            },
            "colorscale": [
             [
              0,
              "#0d0887"
             ],
             [
              0.1111111111111111,
              "#46039f"
             ],
             [
              0.2222222222222222,
              "#7201a8"
             ],
             [
              0.3333333333333333,
              "#9c179e"
             ],
             [
              0.4444444444444444,
              "#bd3786"
             ],
             [
              0.5555555555555556,
              "#d8576b"
             ],
             [
              0.6666666666666666,
              "#ed7953"
             ],
             [
              0.7777777777777778,
              "#fb9f3a"
             ],
             [
              0.8888888888888888,
              "#fdca26"
             ],
             [
              1,
              "#f0f921"
             ]
            ],
            "type": "histogram2dcontour"
           }
          ],
          "mesh3d": [
           {
            "colorbar": {
             "outlinewidth": 0,
             "ticks": ""
            },
            "type": "mesh3d"
           }
          ],
          "parcoords": [
           {
            "line": {
             "colorbar": {
              "outlinewidth": 0,
              "ticks": ""
             }
            },
            "type": "parcoords"
           }
          ],
          "pie": [
           {
            "automargin": true,
            "type": "pie"
           }
          ],
          "scatter": [
           {
            "marker": {
             "colorbar": {
              "outlinewidth": 0,
              "ticks": ""
             }
            },
            "type": "scatter"
           }
          ],
          "scatter3d": [
           {
            "line": {
             "colorbar": {
              "outlinewidth": 0,
              "ticks": ""
             }
            },
            "marker": {
             "colorbar": {
              "outlinewidth": 0,
              "ticks": ""
             }
            },
            "type": "scatter3d"
           }
          ],
          "scattercarpet": [
           {
            "marker": {
             "colorbar": {
              "outlinewidth": 0,
              "ticks": ""
             }
            },
            "type": "scattercarpet"
           }
          ],
          "scattergeo": [
           {
            "marker": {
             "colorbar": {
              "outlinewidth": 0,
              "ticks": ""
             }
            },
            "type": "scattergeo"
           }
          ],
          "scattergl": [
           {
            "marker": {
             "colorbar": {
              "outlinewidth": 0,
              "ticks": ""
             }
            },
            "type": "scattergl"
           }
          ],
          "scattermapbox": [
           {
            "marker": {
             "colorbar": {
              "outlinewidth": 0,
              "ticks": ""
             }
            },
            "type": "scattermapbox"
           }
          ],
          "scatterpolar": [
           {
            "marker": {
             "colorbar": {
              "outlinewidth": 0,
              "ticks": ""
             }
            },
            "type": "scatterpolar"
           }
          ],
          "scatterpolargl": [
           {
            "marker": {
             "colorbar": {
              "outlinewidth": 0,
              "ticks": ""
             }
            },
            "type": "scatterpolargl"
           }
          ],
          "scatterternary": [
           {
            "marker": {
             "colorbar": {
              "outlinewidth": 0,
              "ticks": ""
             }
            },
            "type": "scatterternary"
           }
          ],
          "surface": [
           {
            "colorbar": {
             "outlinewidth": 0,
             "ticks": ""
            },
            "colorscale": [
             [
              0,
              "#0d0887"
             ],
             [
              0.1111111111111111,
              "#46039f"
             ],
             [
              0.2222222222222222,
              "#7201a8"
             ],
             [
              0.3333333333333333,
              "#9c179e"
             ],
             [
              0.4444444444444444,
              "#bd3786"
             ],
             [
              0.5555555555555556,
              "#d8576b"
             ],
             [
              0.6666666666666666,
              "#ed7953"
             ],
             [
              0.7777777777777778,
              "#fb9f3a"
             ],
             [
              0.8888888888888888,
              "#fdca26"
             ],
             [
              1,
              "#f0f921"
             ]
            ],
            "type": "surface"
           }
          ],
          "table": [
           {
            "cells": {
             "fill": {
              "color": "#EBF0F8"
             },
             "line": {
              "color": "white"
             }
            },
            "header": {
             "fill": {
              "color": "#C8D4E3"
             },
             "line": {
              "color": "white"
             }
            },
            "type": "table"
           }
          ]
         },
         "layout": {
          "annotationdefaults": {
           "arrowcolor": "#2a3f5f",
           "arrowhead": 0,
           "arrowwidth": 1
          },
          "coloraxis": {
           "colorbar": {
            "outlinewidth": 0,
            "ticks": ""
           }
          },
          "colorscale": {
           "diverging": [
            [
             0,
             "#8e0152"
            ],
            [
             0.1,
             "#c51b7d"
            ],
            [
             0.2,
             "#de77ae"
            ],
            [
             0.3,
             "#f1b6da"
            ],
            [
             0.4,
             "#fde0ef"
            ],
            [
             0.5,
             "#f7f7f7"
            ],
            [
             0.6,
             "#e6f5d0"
            ],
            [
             0.7,
             "#b8e186"
            ],
            [
             0.8,
             "#7fbc41"
            ],
            [
             0.9,
             "#4d9221"
            ],
            [
             1,
             "#276419"
            ]
           ],
           "sequential": [
            [
             0,
             "#0d0887"
            ],
            [
             0.1111111111111111,
             "#46039f"
            ],
            [
             0.2222222222222222,
             "#7201a8"
            ],
            [
             0.3333333333333333,
             "#9c179e"
            ],
            [
             0.4444444444444444,
             "#bd3786"
            ],
            [
             0.5555555555555556,
             "#d8576b"
            ],
            [
             0.6666666666666666,
             "#ed7953"
            ],
            [
             0.7777777777777778,
             "#fb9f3a"
            ],
            [
             0.8888888888888888,
             "#fdca26"
            ],
            [
             1,
             "#f0f921"
            ]
           ],
           "sequentialminus": [
            [
             0,
             "#0d0887"
            ],
            [
             0.1111111111111111,
             "#46039f"
            ],
            [
             0.2222222222222222,
             "#7201a8"
            ],
            [
             0.3333333333333333,
             "#9c179e"
            ],
            [
             0.4444444444444444,
             "#bd3786"
            ],
            [
             0.5555555555555556,
             "#d8576b"
            ],
            [
             0.6666666666666666,
             "#ed7953"
            ],
            [
             0.7777777777777778,
             "#fb9f3a"
            ],
            [
             0.8888888888888888,
             "#fdca26"
            ],
            [
             1,
             "#f0f921"
            ]
           ]
          },
          "colorway": [
           "#636efa",
           "#EF553B",
           "#00cc96",
           "#ab63fa",
           "#FFA15A",
           "#19d3f3",
           "#FF6692",
           "#B6E880",
           "#FF97FF",
           "#FECB52"
          ],
          "font": {
           "color": "#2a3f5f"
          },
          "geo": {
           "bgcolor": "white",
           "lakecolor": "white",
           "landcolor": "#E5ECF6",
           "showlakes": true,
           "showland": true,
           "subunitcolor": "white"
          },
          "hoverlabel": {
           "align": "left"
          },
          "hovermode": "closest",
          "mapbox": {
           "style": "light"
          },
          "paper_bgcolor": "white",
          "plot_bgcolor": "#E5ECF6",
          "polar": {
           "angularaxis": {
            "gridcolor": "white",
            "linecolor": "white",
            "ticks": ""
           },
           "bgcolor": "#E5ECF6",
           "radialaxis": {
            "gridcolor": "white",
            "linecolor": "white",
            "ticks": ""
           }
          },
          "scene": {
           "xaxis": {
            "backgroundcolor": "#E5ECF6",
            "gridcolor": "white",
            "gridwidth": 2,
            "linecolor": "white",
            "showbackground": true,
            "ticks": "",
            "zerolinecolor": "white"
           },
           "yaxis": {
            "backgroundcolor": "#E5ECF6",
            "gridcolor": "white",
            "gridwidth": 2,
            "linecolor": "white",
            "showbackground": true,
            "ticks": "",
            "zerolinecolor": "white"
           },
           "zaxis": {
            "backgroundcolor": "#E5ECF6",
            "gridcolor": "white",
            "gridwidth": 2,
            "linecolor": "white",
            "showbackground": true,
            "ticks": "",
            "zerolinecolor": "white"
           }
          },
          "shapedefaults": {
           "line": {
            "color": "#2a3f5f"
           }
          },
          "ternary": {
           "aaxis": {
            "gridcolor": "white",
            "linecolor": "white",
            "ticks": ""
           },
           "baxis": {
            "gridcolor": "white",
            "linecolor": "white",
            "ticks": ""
           },
           "bgcolor": "#E5ECF6",
           "caxis": {
            "gridcolor": "white",
            "linecolor": "white",
            "ticks": ""
           }
          },
          "title": {
           "x": 0.05
          },
          "xaxis": {
           "automargin": true,
           "gridcolor": "white",
           "linecolor": "white",
           "ticks": "",
           "title": {
            "standoff": 15
           },
           "zerolinecolor": "white",
           "zerolinewidth": 2
          },
          "yaxis": {
           "automargin": true,
           "gridcolor": "white",
           "linecolor": "white",
           "ticks": "",
           "title": {
            "standoff": 15
           },
           "zerolinecolor": "white",
           "zerolinewidth": 2
          }
         }
        },
        "xaxis": {
         "anchor": "y",
         "domain": [
          0,
          1
         ],
         "title": {
          "text": "x"
         }
        },
        "yaxis": {
         "anchor": "x",
         "domain": [
          0,
          1
         ],
         "title": {
          "text": "y"
         }
        }
       }
      },
      "text/html": [
       "<div>\n",
       "        \n",
       "        \n",
       "            <div id=\"30f0b4c8-0308-4c5c-aa8a-9eb546c1c2c2\" class=\"plotly-graph-div\" style=\"height:525px; width:100%;\"></div>\n",
       "            <script type=\"text/javascript\">\n",
       "                require([\"plotly\"], function(Plotly) {\n",
       "                    window.PLOTLYENV=window.PLOTLYENV || {};\n",
       "                    \n",
       "                if (document.getElementById(\"30f0b4c8-0308-4c5c-aa8a-9eb546c1c2c2\")) {\n",
       "                    Plotly.newPlot(\n",
       "                        '30f0b4c8-0308-4c5c-aa8a-9eb546c1c2c2',\n",
       "                        [{\"hoverlabel\": {\"namelength\": 0}, \"hovertemplate\": \"x=%{x}<br>y=%{y}<br>text=%{text}\", \"legendgroup\": \"\", \"marker\": {\"color\": \"#636efa\", \"symbol\": \"circle\"}, \"mode\": \"markers+text\", \"name\": \"\", \"showlegend\": false, \"text\": [\"\\u0e16\\u0e32\\u0e21\", \"\\u0e1a\\u0e49\\u0e32\\u0e07\", \"\\u0e1e\\u0e34\\u0e08\\u0e32\\u0e23\\u0e13\\u0e32\", \"\\u0e2d\\u0e33\\u0e19\\u0e32\\u0e08\", \"\\u2019\", \"\\u0e23\\u0e31\\u0e01\", \"\\u0e27\\u0e31\\u0e19\\u0e17\\u0e35\\u0e48\", \"\\u0e20\\u0e32\\u0e1e\", \"\\u0e15\\u0e32\", \"\\u0e04\\u0e48\\u0e32\", \"\\u0e1c\\u0e48\\u0e32\\u0e19\", \"\\u0e2b\\u0e49\\u0e2d\\u0e07\", \"\\u0e2b\\u0e19\\u0e31\\u0e07\\u0e2a\\u0e37\\u0e2d\", \"\\u0e53\", \"\\u0e02\\u0e49\\u0e2d\\u0e21\\u0e39\\u0e25\", \"\\u0e22\\u0e34\\u0e48\\u0e07\", \"\\u0e14\\u0e31\\u0e07\", \"\\u0e40\\u0e1e\\u0e34\\u0e48\\u0e21\", \"\\u0e17\\u0e23\\u0e07\", \"\\u0e15\\u0e31\\u0e49\\u0e07\\u0e41\\u0e15\\u0e48\", \"\\u0e1e\\u0e48\\u0e2d\", \"\\u0e15\\u0e48\\u0e2d\\u0e44\\u0e1b\", \"\\u0e2a\\u0e33\\u0e04\\u0e31\\u0e0d\", \"\\u0e40\\u0e28\\u0e23\\u0e29\\u0e10\\u0e01\\u0e34\\u0e08\", \"\\u0e40\\u0e1b\\u0e34\\u0e14\", \"\\u0e44\\u0e2b\\u0e19\", \"\\u0e01\\u0e23\\u0e30\\u0e17\\u0e33\", \"\\u0e15\\u0e31\\u0e49\\u0e07\", \"\\u0e40\\u0e02\\u0e49\\u0e32\\u0e43\\u0e08\", \"\\u0e0a\\u0e2d\\u0e1a\", \"\\u0e20\\u0e32\\u0e29\\u0e32\", \"\\u0e15\\u0e23\\u0e07\", \"\\u0e40\\u0e23\\u0e35\\u0e22\\u0e19\", \"\\u0e15\\u0e2d\\u0e19\", \"\\u2018\", \"\\u0e23\\u0e31\\u0e10\", \"\\u0e01\\u0e32\\u0e23\\u0e28\\u0e36\\u0e01\\u0e29\\u0e32\", \"\\u0e01\\u0e47\\u0e44\\u0e14\\u0e49\", \"\\u0e23\\u0e39\\u0e49\\u0e2a\\u0e36\\u0e01\", \"\\u0e02\\u0e19\\u0e32\\u0e14\", \"\\u0e40\\u0e17\\u0e48\\u0e32\\u0e19\\u0e31\\u0e49\\u0e19\", \"\\u0e19\\u0e31\\u0e48\\u0e07\", \"\\u0e40\\u0e14\\u0e37\\u0e2d\\u0e19\", \"\\u0e0a\\u0e37\\u0e48\\u0e2d\", \"\\u0e0a\\u0e32\\u0e15\\u0e34\", \"\\u0e1c\\u0e34\\u0e14\", \"\\u0e23\\u0e31\\u0e10\\u0e1a\\u0e32\\u0e25\", \"\\u0e2b\\u0e25\\u0e31\\u0e01\", \"\\u0e19\\u0e32\\u0e19\", \"\\u0e23\\u0e16\", \"\\u0e08\\u0e35\\u0e19\", \"\\u0e1f\\u0e31\\u0e07\", \"\\u0e40\\u0e25\\u0e47\\u0e01\", \"\\u0e20\\u0e32\\u0e22\\u0e43\\u0e19\", \"\\u0e41\\u0e15\\u0e48\\u0e25\\u0e30\", \"\\u0e25\\u0e30\", \"\\u0e15\\u0e49\\u0e2d\\u0e07\\u0e01\\u0e32\\u0e23\", \"\\u0e15\\u0e32\\u0e22\", \"\\u0e21\\u0e37\\u0e2d\", \"\\u0e2b\\u0e0d\\u0e34\\u0e07\", \"\\u0e40\\u0e23\\u0e35\\u0e22\\u0e01\", \"\\u0e23\\u0e39\\u0e1b\", \"\\u0e1a\\u0e32\\u0e17\", \"\\u0e1b\\u0e23\\u0e30\\u0e0a\\u0e32\\u0e0a\\u0e19\", \"\\u0e22\\u0e32\", \"\\u0e21\\u0e19\\u0e38\\u0e29\\u0e22\\u0e4c\", \"\\u0e2a\\u0e32\\u0e21\", \"\\u0e25\\u0e14\", \"\\u0e1c\\u0e25\\u0e34\\u0e15\", \"\\u0e0b\\u0e37\\u0e49\\u0e2d\", \"\\u0e40\\u0e25\\u0e48\\u0e19\", \"\\u0e2b\\u0e21\\u0e14\", \"\\u0e01\\u0e32\\u0e23\\u0e40\\u0e21\\u0e37\\u0e2d\\u0e07\", \"\\u0e02\\u0e32\\u0e22\", \"\\u0e40\\u0e2a\\u0e19\\u0e2d\", \"\\u0e1b\\u0e0f\\u0e34\\u0e1a\\u0e31\\u0e15\\u0e34\", \"\\u0e0a\\u0e32\\u0e27\", \"\\u0e1e\\u0e23\\u0e49\\u0e2d\\u0e21\", \"\\u0e21\\u0e31\\u0e01\", \"\\u0e23\\u0e31\\u0e01\\u0e29\\u0e32\", \"\\u0e40\\u0e25\\u0e37\\u0e2d\\u0e01\", \"\\u0e2d\\u0e48\\u0e32\\u0e19\", \"\\u0e2d\\u0e22\\u0e48\\u0e32\\u0e07\\u0e44\\u0e23\", \"\\u0e40\\u0e02\\u0e35\\u0e22\\u0e19\", \"\\u0e01\\u0e47\\u0e04\\u0e37\\u0e2d\", \"\\u0e25\\u0e48\\u0e30\", \"\\u0e23\\u0e30\\u0e22\\u0e30\", \"\\u0e04\\u0e48\\u0e30\", \"\\u0e15\\u0e25\\u0e2d\\u0e14\", \"\\u0e2a\\u0e39\\u0e48\", \"\\u0e04\\u0e27\\u0e32\\u0e21\\u0e04\\u0e34\\u0e14\", \"\\u0e2b\\u0e23\\u0e37\\u0e2d\\u0e44\\u0e21\\u0e48\", \"\\u0e2b\\u0e19\\u0e49\\u0e32\\u0e17\\u0e35\\u0e48\", \"\\u0e23\\u0e32\\u0e04\\u0e32\", \"\\u0e1b\\u0e23\\u0e30\\u0e0a\\u0e38\\u0e21\", \"\\u0e55\", \"\\u0e1c\\u0e39\\u0e49\\u0e2b\\u0e0d\\u0e34\\u0e07\", \"\\u0e15\\u0e34\\u0e14\", \"\\u0e43\\u0e2a\\u0e48\", \"\\u0e28\\u0e36\\u0e01\\u0e29\\u0e32\", \"\\u0e40\\u0e01\\u0e47\\u0e1a\", \"\\u0e0a\\u0e31\\u0e49\\u0e19\", \"\\u0e40\\u0e14\\u0e35\\u0e22\\u0e27\\u0e01\\u0e31\\u0e19\", \"\\u0e2a\\u0e34\\u0e17\\u0e18\\u0e34\", \"\\u0e1b\\u0e23\\u0e30\\u0e42\\u0e22\\u0e0a\\u0e19\\u0e4c\", \"\\u0e04\\u0e13\\u0e30\\u0e01\\u0e23\\u0e23\\u0e21\\u0e01\\u0e32\\u0e23\", \"\\u0e41\\u0e04\\u0e48\", \"\\u0e40\\u0e1b\\u0e25\\u0e35\\u0e48\\u0e22\\u0e19\", \"\\u0e1b\\u0e31\\u0e08\\u0e08\\u0e38\\u0e1a\\u0e31\\u0e19\", \"\\u0e40\\u0e08\\u0e49\\u0e32\", \"\\u0e04\\u0e30\", \"\\u0e1e\\u0e37\\u0e49\\u0e19\\u0e17\\u0e35\\u0e48\", \"\\u0e54\", \"\\u0e27\\u0e34\\u0e18\\u0e35\", \"\\u0e15\\u0e33\\u0e41\\u0e2b\\u0e19\\u0e48\\u0e07\", \"\\u0e17\\u0e33\\u0e44\\u0e21\", \"\\u0e1b\\u0e23\\u0e30\\u0e08\\u0e33\", \"\\u0e1e\\u0e22\\u0e32\\u0e22\\u0e32\\u0e21\", \"\\u0e40\\u0e19\\u0e37\\u0e48\\u0e2d\\u0e07\\u0e08\\u0e32\\u0e01\", \"\\u0e42\\u0e2d\\u0e01\\u0e32\\u0e2a\", \"\\u0e41\\u0e21\\u0e49\", \"\\u0e2a\\u0e21\\u0e31\\u0e22\", \"\\u0e2d\\u0e22\\u0e48\\u0e32\", \"\\u0e1b\\u0e23\\u0e30\\u0e40\\u0e20\\u0e17\", \"\\u0e2a\\u0e31\\u0e21\\u0e1e\\u0e31\\u0e19\\u0e18\\u0e4c\", \"\\u0e40\\u0e2b\\u0e15\\u0e38\", \"\\u0e15\\u0e2d\\u0e1a\", \"\\u0e27\\u0e31\\u0e12\\u0e19\\u0e18\\u0e23\\u0e23\\u0e21\", \"\\u0e15\\u0e19\\u0e40\\u0e2d\\u0e07\", \"\\u0e19\\u0e31\\u0e48\\u0e19\", \"\\u0e2a\\u0e31\\u0e01\", \"\\u0e2a\\u0e34\\u0e19\\u0e04\\u0e49\\u0e32\", \"\\u0e40\\u0e14\\u0e34\\u0e21\", \"\\u0e08\\u0e33\\u0e40\\u0e1b\\u0e47\\u0e19\", \"\\u0e40\\u0e1b\\u0e25\\u0e35\\u0e48\\u0e22\\u0e19\\u0e41\\u0e1b\\u0e25\\u0e07\", \"\\u0e16\\u0e37\\u0e2d\", \"\\u0e40\\u0e25\\u0e48\\u0e32\", \"\\u0e1b\\u0e23\\u0e30\\u0e01\\u0e2d\\u0e1a\", \"\\u0e0a\\u0e19\\u0e34\\u0e14\", \"\\u0e01\\u0e23\\u0e30\\u0e17\\u0e23\\u0e27\\u0e07\", \"\\u0e1b\\u0e23\\u0e32\\u0e01\\u0e0f\", \"\\u0e41\\u0e25\\u0e49\\u0e27\\u0e01\\u0e47\", \"\\u0e0a\\u0e32\\u0e22\", \"\\u0e14\\u0e33\\u0e40\\u0e19\\u0e34\\u0e19\\u0e01\\u0e32\\u0e23\", \"\\u0e23\\u0e2d\\u0e1a\", \"\\u0e1a\\u0e23\\u0e34\\u0e29\\u0e31\\u0e17\", \"\\u0e08\\u0e31\\u0e07\\u0e2b\\u0e27\\u0e31\\u0e14\", \"\\u0e43\\u0e1a\", \"\\u0e19\\u0e2d\\u0e19\", \"\\u0e17\\u0e31\\u0e49\\u0e07\\u0e2b\\u0e21\\u0e14\", \"\\u0e2a\\u0e38\\u0e02\", \"\\u0e40\\u0e01\\u0e34\\u0e19\", \"\\u0e04\\u0e23\\u0e39\", \"\\u0e23\\u0e39\\u0e49\\u0e08\\u0e31\\u0e01\", \"\\u0e42\\u0e14\\u0e22\\u0e40\\u0e09\\u0e1e\\u0e32\\u0e30\", \"\\u0e14\\u0e31\\u0e07\\u0e19\\u0e31\\u0e49\\u0e19\", \"\\u0e23\\u0e49\\u0e32\\u0e19\", \"\\u0e1a\\u0e23\\u0e34\\u0e01\\u0e32\\u0e23\", \"\\u0e17\\u0e23\\u0e32\\u0e1a\", \"\\u0e1b\\u0e23\\u0e30\\u0e21\\u0e32\\u0e13\", \"\\u0e08\\u0e38\\u0e14\", \"\\u0e07\\u0e48\\u0e32\\u0e22\", \"\\u0e42\\u0e04\\u0e23\\u0e07\\u0e01\\u0e32\\u0e23\", \"\\u0e15\\u0e31\\u0e27\\u0e2d\\u0e22\\u0e48\\u0e32\\u0e07\", \"\\u0e02\\u0e49\\u0e32\\u0e07\", \"\\u0e20\\u0e32\\u0e04\", \"\\u0e40\\u0e23\\u0e35\\u0e22\\u0e01\\u0e27\\u0e48\\u0e32\", \"\\u0e04\\u0e37\\u0e19\", \"\\u0e2b\\u0e23\\u0e2d\\u0e01\", \"\\u0e42\\u0e23\\u0e04\", \"\\u0e2d\\u0e32\\u0e01\\u0e32\\u0e23\", \"\\u0e2d\\u0e32\\u0e22\\u0e38\", \"\\u0e40\\u0e2b\\u0e25\\u0e48\\u0e32\\u0e19\\u0e35\\u0e49\", \"\\u0e1e\\u0e32\", \"\\u0e41\\u0e01\", \"\\u0e41\\u0e15\\u0e01\\u0e15\\u0e48\\u0e32\\u0e07\", \"\\u0e27\\u0e34\\u0e18\\u0e35\\u0e01\\u0e32\\u0e23\", \"\\u0e19\\u0e49\\u0e2d\\u0e07\", \"\\u0e2b\\u0e21\\u0e2d\", \"\\u0e04\\u0e27\\u0e32\\u0e21\\u0e23\\u0e39\\u0e49\\u0e2a\\u0e36\\u0e01\", \"\\u0e41\\u0e17\\u0e19\", \"\\u0e17\\u0e35\\u0e48\\u0e2d\\u0e22\\u0e39\\u0e48\", \"\\u0e40\\u0e0a\\u0e37\\u0e48\\u0e2d\", \"\\u0e25\\u0e49\\u0e32\\u0e19\", \"\\u0e22\\u0e32\\u0e27\", \"\\u0e23\\u0e32\\u0e0a\\u0e01\\u0e32\\u0e23\", \"\\u0e04\\u0e23\\u0e2d\\u0e1a\\u0e04\\u0e23\\u0e31\\u0e27\", \"\\u0e44\\u0e2b\\u0e21\", \"\\u0e19\\u0e32\", \"\\u0e40\\u0e14\\u0e34\\u0e19\\u0e17\\u0e32\\u0e07\", \"\\u0e42\\u0e23\\u0e07\\u0e40\\u0e23\\u0e35\\u0e22\\u0e19\", \"\\u0e04\\u0e13\\u0e30\", \"\\u0e2a\\u0e20\\u0e32\", \"\\u0e2a\\u0e20\\u0e32\\u0e1e\", \"\\u0e17\\u0e35\", \"\\u0e1e\\u0e23\\u0e23\\u0e04\", \"\\u0e27\\u0e31\\u0e14\", \"\\u0e1b\\u0e23\\u0e30\\u0e01\\u0e32\\u0e28\", \"\\u0e19\\u0e32\\u0e07\", \"\\u0e2b\\u0e31\\u0e27\", \"\\u0e01\\u0e25\\u0e32\\u0e07\", \"\\u0e41\\u0e23\\u0e07\", \"\\u0e04\\u0e39\\u0e48\", \"\\u0e15\\u0e25\\u0e32\\u0e14\", \"\\u0e01\\u0e25\\u0e32\\u0e22\\u0e40\\u0e1b\\u0e47\\u0e19\", \"\\u0e08\\u0e31\\u0e1a\", \"\\u0e27\\u0e34\\u0e08\\u0e31\\u0e22\", \"\\u0e41\\u0e19\\u0e27\", \"\\u0e02\\u0e49\\u0e32\\u0e27\", \"\\u0e2b\\u0e31\\u0e19\", \"\\u0e44\\u0e21\\u0e48\\u0e27\\u0e48\\u0e32\", \"\\u0e40\\u0e09\\u0e1e\\u0e32\\u0e30\", \"\\u0e22\\u0e01\", \"\\u0e2d\\u0e32\\u0e28\\u0e31\\u0e22\", \"\\u0e22\\u0e48\\u0e2d\\u0e21\", \"\\u0e0a\\u0e38\\u0e14\", \"\\u0e2b\\u0e19\\u0e39\", \"\\u0e19\\u0e42\\u0e22\\u0e1a\\u0e32\\u0e22\", \"/\", \"\\u0e19\\u0e48\\u0e30\", \"\\u0e04\\u0e27\\u0e32\\u0e21\\u0e23\\u0e39\\u0e49\", \"\\u0e40\\u0e17\\u0e48\\u0e32\", \"\\u0e22\\u0e2d\\u0e21\", \"\\u0e23\\u0e32\\u0e22\", \"\\u0e04\\u0e27\\u0e1a\\u0e04\\u0e38\\u0e21\", \"\\u0e18\\u0e23\\u0e23\\u0e21\\u0e0a\\u0e32\\u0e15\\u0e34\", \"\\u0e27\\u0e32\\u0e07\", \"\\u0e2a\\u0e48\\u0e27\\u0e19\\u0e43\\u0e2b\\u0e0d\\u0e48\", \"\\u0e1b\\u0e01\\u0e15\\u0e34\", \"\\u0e1a\\u0e23\\u0e34\\u0e2b\\u0e32\\u0e23\", \"\\u0e22\\u0e37\\u0e19\", \"\\u0e1b\\u0e23\\u0e30\\u0e01\\u0e32\\u0e23\", \"\\u0e2a\\u0e31\\u0e0d\\u0e0d\\u0e32\", \"\\u0e2a\\u0e21\\u0e32\\u0e0a\\u0e34\\u0e01\", \"\\u0e19\\u0e34\\u0e22\\u0e21\", \"\\u0e23\\u0e2d\", \"\\u0e2b\\u0e25\\u0e31\\u0e07\\u0e08\\u0e32\\u0e01\", \"\\u0e15\\u0e49\\u0e19\", \"\\u0e2a\\u0e34\", \"\\u0e2d\\u0e19\\u0e38\\u0e0d\\u0e32\\u0e15\", \"\\u0e23\\u0e48\\u0e32\\u0e07\", \"\\u0e2a\\u0e2d\\u0e19\", \"\\u0e0d\\u0e35\\u0e48\\u0e1b\\u0e38\\u0e48\\u0e19\", \"\\u0e17\\u0e32\\u0e07\\u0e01\\u0e32\\u0e23\", \"\\u0e40\\u0e1b\\u0e25\\u0e48\\u0e32\", \"\\u0e43\\u0e01\\u0e25\\u0e49\", \"\\u0e2a\\u0e34\\u0e1a\", \"\\u0e41\\u0e01\\u0e49\\u0e44\\u0e02\", \"\\u0e40\\u0e1e\\u0e25\\u0e07\", \"\\u0e1e\\u0e34\\u0e40\\u0e28\\u0e29\", \"\\u0e08\\u0e31\\u0e14\\u0e01\\u0e32\\u0e23\", \"\\u0e1b\\u0e32\\u0e01\", \"\\u0e40\\u0e1b\\u0e47\\u0e19\\u0e15\\u0e49\\u0e19\", \"\\u0e04\\u0e27\\u0e32\\u0e21\\u0e2b\\u0e21\\u0e32\\u0e22\", \"\\u0e1a\\u0e23\\u0e34\\u0e40\\u0e27\\u0e13\", \"\\u0e22\\u0e34\\u0e49\\u0e21\", \"\\u0e17\\u0e31\\u0e49\\u0e07\\u0e19\\u0e35\\u0e49\", \"\\u0e22\\u0e38\\u0e04\", \"\\u0e2a\\u0e31\\u0e15\\u0e27\\u0e4c\", \"\\u0e1a\\u0e17\", \"\\u0e23\\u0e27\\u0e21\\u0e17\\u0e31\\u0e49\\u0e07\", \"\\u0e40\\u0e02\\u0e15\", \"\\u0e19\\u0e2d\\u0e01\", \"\\u0e14\\u0e39\\u0e41\\u0e25\", \"\\u0e2b\\u0e32\\u0e22\", \"\\u0e44\\u0e21\\u0e49\", \"\\u0e1a\\u0e31\\u0e07\\u0e04\\u0e31\\u0e1a\", \"\\u0e22\\u0e32\\u0e01\", \"\\u0e2a\\u0e32\\u0e22\", \"\\u0e2d\\u0e31\\u0e15\\u0e23\\u0e32\", \"\\u0e44\\u0e14\\u0e49\\u0e41\\u0e01\\u0e48\", \"\\u0e40\\u0e0a\\u0e34\\u0e07\", \"\\u0e15\\u0e23\\u0e27\\u0e08\", \"\\u0e27\\u0e31\\u0e19\\u0e19\\u0e35\\u0e49\", \"\\u0e2a\\u0e33\\u0e19\\u0e31\\u0e01\\u0e07\\u0e32\\u0e19\", \"\\u0e2a\\u0e31\\u0e21\\u0e20\\u0e32\\u0e29\\u0e13\\u0e4c\", \"\\u0e08\\u0e1a\", \"\\u0e17\\u0e31\\u0e19\\u0e17\\u0e35\", \"\\u0e40\\u0e08\\u0e2d\", \"\\u0e22\\u0e2d\\u0e21\\u0e23\\u0e31\\u0e1a\", \"\\u0e40\\u0e08\\u0e49\\u0e32\\u0e02\\u0e2d\\u0e07\", \"\\u0e1c\\u0e39\\u0e49\\u0e0a\\u0e32\\u0e22\", \"\\u0e19\\u0e2d\\u0e01\\u0e08\\u0e32\\u0e01\", \"\\u0e0a\\u0e38\\u0e21\\u0e0a\\u0e19\", \"\\u0e02\\u0e32\\u0e14\", \"\\u0e17\\u0e31\\u0e48\\u0e27\", \"\\u0e22\\u0e31\\u0e07\\u0e44\\u0e07\", \"\\u0e2d\\u0e32\", \"\\u0e44\\u0e07\", \"\\u0e2a\\u0e27\\u0e22\", \"\\u0e40\\u0e08\\u0e49\\u0e32\\u0e2b\\u0e19\\u0e49\\u0e32\\u0e17\\u0e35\\u0e48\", \"\\u0e23\\u0e32\\u0e22\\u0e07\\u0e32\\u0e19\", \"\\u0e02\\u0e48\\u0e32\\u0e27\", \"\\u0e09\\u0e1a\\u0e31\\u0e1a\", \"\\u0e21\\u0e34\", \"\\u0e10\\u0e32\\u0e19\\u0e30\", \"\\u0e2a\\u0e16\\u0e32\\u0e1a\\u0e31\\u0e19\", \"\\u0e1b\\u0e23\\u0e30\\u0e18\\u0e32\\u0e19\", \"\\u0e1b\\u0e23\\u0e31\\u0e1a\", \"\\u0e42\\u0e15\"], \"type\": \"scatter\", \"x\": [8.763360023498535, -26.794153213500977, -49.44420623779297, 1.2928524017333984, -10.25096607208252, 1.7408154010772705, 16.358739852905273, -15.981894493103027, -23.034910202026367, -24.236190795898438, -47.78615951538086, 5.814393043518066, -19.38551902770996, 3.2568931579589844, 16.592294692993164, -47.71657943725586, -29.794795989990234, -51.75701141357422, -36.9753532409668, -13.734818458557129, -37.75021743774414, -35.975650787353516, -20.0120906829834, 1.6997644901275635, -15.682258605957031, -12.438044548034668, -8.409900665283203, 6.973441123962402, -4.366988182067871, -5.061403274536133, -5.114589214324951, -10.228529930114746, 17.31352996826172, 23.798173904418945, -23.771717071533203, -30.896268844604492, -27.80602264404297, -4.60415506362915, -27.040796279907227, -22.16888999938965, -32.378013610839844, -38.919010162353516, -23.35828971862793, -2.706547975540161, -23.875221252441406, -3.98661470413208, -37.10975646972656, -21.6052303314209, -50.702701568603516, 5.258954048156738, -22.15165901184082, -23.484106063842773, 6.713720321655273, -23.84475326538086, -5.7319722175598145, -6.981082916259766, -23.55617904663086, -16.772947311401367, -34.01045227050781, -20.28274154663086, -22.541189193725586, -37.094242095947266, -8.441023826599121, -22.426454544067383, 13.66195297241211, -14.060726165771484, -7.457376480102539, 15.242393493652344, -47.74229431152344, 7.160102367401123, -22.838106155395508, -23.070274353027344, -36.318294525146484, -23.949851989746094, 0.5386059284210205, -19.2227725982666, -26.96804428100586, -12.061164855957031, -32.665985107421875, -22.237579345703125, -31.257949829101562, -30.940887451171875, -19.567489624023438, 2.8812577724456787, -21.389938354492188, -2.7320358753204346, -20.514604568481445, -15.687280654907227, -29.764568328857422, 7.598056793212891, -7.525217056274414, 19.591594696044922, -32.532203674316406, -26.743526458740234, -26.87895393371582, 14.999857902526855, 14.914616584777832, 3.9155490398406982, -34.86279296875, -31.78310775756836, 7.717966079711914, 12.120267868041992, -34.936431884765625, -13.663856506347656, 9.714640617370605, -20.456314086914062, -26.253036499023438, -17.86043930053711, -25.42658042907715, -19.087600708007812, -16.948291778564453, -4.341126441955566, -38.23193359375, -11.346832275390625, -21.219440460205078, -38.728824615478516, -16.433794021606445, -34.096981048583984, -10.923089027404785, -22.336088180541992, -4.091999053955078, 18.30171012878418, 17.29513168334961, -4.701668739318848, -13.667532920837402, -35.77210998535156, 18.068330764770508, -39.629581451416016, -41.580142974853516, -29.055477142333984, -24.147642135620117, -27.090564727783203, -24.355106353759766, 17.057430267333984, 3.212913751602173, -3.0666656494140625, -33.22956466674805, 24.946462631225586, -48.16621398925781, 24.9398136138916, 2.4176135063171387, 17.42908477783203, 10.833611488342285, -40.81962203979492, 20.32337760925293, -7.5578789710998535, 9.840433120727539, 3.204192876815796, -12.321706771850586, -12.297672271728516, -20.445240020751953, -0.4683108925819397, -21.652315139770508, -36.96848678588867, -18.746938705444336, -11.965780258178711, -38.33202362060547, 3.1160409450531006, -13.554512977600098, 3.2525641918182373, -8.80898666381836, -13.891716957092285, -15.871721267700195, -6.249982833862305, 7.80708646774292, -15.457022666931152, -33.290836334228516, -17.17871856689453, -22.35915756225586, -14.474564552307129, -7.320132732391357, -13.605175971984863, -19.46275520324707, -14.52132511138916, -14.21399211883545, -22.17125701904297, -21.237211227416992, 1.8301341533660889, -31.46564292907715, -22.190690994262695, -18.41638946533203, -17.768327713012695, -34.32065963745117, 17.49489974975586, 16.157329559326172, -12.016900062561035, -15.898715019226074, 16.177621841430664, 6.825930595397949, 9.67727279663086, -14.106030464172363, -14.622129440307617, -26.57724380493164, -12.704997062683105, -40.142967224121094, -31.957950592041016, 9.643576622009277, -25.645652770996094, -38.76564407348633, 12.210723876953125, -17.635299682617188, -5.937565326690674, -23.28232765197754, -21.898910522460938, -21.592605590820312, -23.12234878540039, -24.878803253173828, 41.12247085571289, -18.653749465942383, -21.077953338623047, -23.3172607421875, -33.853031158447266, -36.92738342285156, -27.0203857421875, -19.283632278442383, -37.16005325317383, 0.06109154596924782, -50.021602630615234, -22.698427200317383, 39.777679443359375, 47.73775863647461, 14.70530891418457, -21.00645637512207, 0.5130136013031006, 2.1112852096557617, -25.519149780273438, -24.767297744750977, -19.418289184570312, -4.588011264801025, -33.000160217285156, -16.251615524291992, -24.1104736328125, -22.355541229248047, -20.73992919921875, 3.3302085399627686, -25.07456398010254, -21.58549690246582, -46.55082321166992, -46.552791595458984, -42.680606842041016, -20.818889617919922, -22.317947387695312, -17.025480270385742, 17.656354904174805, -31.526439666748047, 5.8726277351379395, 16.735944747924805, -4.935249328613281, -29.58192253112793, -11.127326011657715, -27.121196746826172, -29.11408805847168, -51.9346923828125, -20.09088134765625, -33.725547790527344, -13.69482421875, -27.91785430908203, 7.86011266708374, 3.1578900814056396, -5.9424028396606445, 18.040420532226562, -24.840087890625, -9.372978210449219, -12.505170822143555, 16.443904876708984, 17.385190963745117, -4.723145008087158, -17.868879318237305, -31.39034652709961, -26.941068649291992, -11.811324119567871, -12.414130210876465, -38.91134262084961, 46.38357162475586, 39.506046295166016, -34.85576629638672, -9.821675300598145, 19.54306983947754, -30.953594207763672, -31.62636947631836, -36.65016174316406, -4.1973066329956055, -17.66768455505371, -13.323786735534668, -35.81671142578125, -24.700719833374023, -29.478517532348633, -3.5934271812438965, -38.274505615234375, -31.37682342529297, -37.458919525146484, -38.837890625, -30.713956832885742, -36.081016540527344, -38.289276123046875, -29.49249267578125, 13.27258014678955, -29.50144386291504, 47.68581008911133, -30.304794311523438], \"xaxis\": \"x\", \"y\": [41.036163330078125, -13.4877290725708, -13.974407196044922, 46.97792434692383, 46.49612045288086, 34.670711517333984, 40.311317443847656, 17.858718872070312, 45.097286224365234, 13.490799903869629, -20.489084243774414, 49.16584777832031, -0.8306146860122681, 51.98670959472656, 35.63987731933594, -20.503494262695312, -8.678404808044434, -12.672422409057617, 4.178738117218018, -21.24129295349121, -0.13251133263111115, -9.06120491027832, 0.5854159593582153, 36.60439682006836, 39.17010498046875, 42.99368667602539, 26.210229873657227, 31.502925872802734, 28.07994842529297, 31.912662506103516, 32.03588104248047, -25.202896118164062, -45.89508819580078, -32.86217498779297, -13.454493522644043, -9.49908447265625, -0.3819786608219147, 48.52460861206055, -4.9635844230651855, -20.642183303833008, 0.058016832917928696, -24.924001693725586, 1.9485509395599365, 48.568485260009766, 1.3006362915039062, 30.75724220275879, 6.670799732208252, -6.082178115844727, -6.019453525543213, 44.37761688232422, -15.937478065490723, -7.641145706176758, 40.726165771484375, -13.642104148864746, 28.715078353881836, 27.82097625732422, -19.701326370239258, 16.637727737426758, -5.460581302642822, -29.018524169921875, 9.669035911560059, 6.679108142852783, 22.049880981445312, 17.476802825927734, 40.97801971435547, -34.59412384033203, 49.752845764160156, 37.07326126098633, -19.806453704833984, 40.77825927734375, -4.388570785522461, -4.21735143661499, 29.687297821044922, -6.253917217254639, 29.930376052856445, -20.03807258605957, -1.6111506223678589, 19.38734245300293, -9.287851333618164, 2.9575724601745605, -19.435279846191406, -20.4100399017334, 0.5864840149879456, 40.48615646362305, 41.58400344848633, 48.46226501464844, 16.694238662719727, 16.879552841186523, 3.442695379257202, 41.441123962402344, 46.3934326171875, 40.441036224365234, -1.7550294399261475, -25.090728759765625, -26.42617416381836, 42.075965881347656, 44.39386749267578, 34.71256637573242, 6.069221019744873, -17.010475158691406, 39.250526428222656, 44.59563064575195, 6.061631202697754, -4.7583699226379395, 44.400856018066406, -24.191829681396484, -3.0953855514526367, 36.665283203125, -25.297584533691406, 3.298607587814331, -22.556182861328125, 31.09433364868164, -2.652487277984619, -5.353916168212891, -16.46031951904297, -1.5403581857681274, 7.417356967926025, 3.694365978240967, 0.16849465668201447, 0.231427863240242, 26.187843322753906, -47.8993034362793, -50.722225189208984, -46.07578659057617, -4.71449089050293, -9.10053825378418, 38.7591667175293, 18.29348373413086, 28.502601623535156, 28.573055267333984, 25.210542678833008, 6.86175537109375, 25.569608688354492, 40.291385650634766, 51.970947265625, 48.000423431396484, 4.334699630737305, -48.690895080566406, -15.100449562072754, -48.6776008605957, -41.120967864990234, -41.70209884643555, -40.30501937866211, 19.047258377075195, -48.43467330932617, -23.31665802001953, 44.66777038574219, 35.543846130371094, 0.7142003178596497, 0.3446178734302521, -0.6706250309944153, 42.57251739501953, 27.31223487854004, 31.30787467956543, 18.994848251342773, 16.812850952148438, 0.4733266532421112, 37.701271057128906, 43.19117736816406, 36.49160385131836, 45.45243453979492, -18.087234497070312, 20.815614700317383, 31.647058486938477, 12.56837272644043, 45.50556564331055, -19.86115837097168, 17.75752830505371, -21.293704986572266, -9.439712524414062, 49.76360321044922, 43.7783203125, 36.23898696899414, -9.232178688049316, -9.501158714294434, -37.69071578979492, 2.252434730529785, 42.60689926147461, -4.909726142883301, -7.299199104309082, 3.1370303630828857, 2.524326801300049, -0.93422532081604, 39.5825080871582, 33.04383087158203, 38.66455078125, -39.427818298339844, -47.08674621582031, -47.176883697509766, -48.86893844604492, -9.410759925842285, -9.365771293640137, -10.690027236938477, 42.16839599609375, -2.6070265769958496, 22.61454200744629, 38.31098175048828, -5.2809062004089355, 23.091814041137695, 42.64249801635742, 13.974186897277832, 31.069793701171875, -16.139034271240234, -16.365053176879883, 9.496125221252441, 12.977749824523926, 10.36980152130127, -14.171550750732422, 15.924264907836914, 17.42090606689453, 1.9383093118667603, 8.76836109161377, -0.9197087287902832, -4.9941205978393555, -23.77039337158203, 31.816699981689453, 38.82912826538086, -11.339183807373047, -21.2542667388916, -17.04970359802246, -18.485559463500977, 33.6008415222168, 27.146074295043945, 46.212772369384766, -12.787675857543945, 0.20607659220695496, -0.5656259059906006, -23.9769287109375, 48.55805969238281, 6.510322570800781, 19.282913208007812, 1.9846209287643433, -23.796274185180664, -24.182397842407227, 42.92216873168945, -3.19128155708313, -25.519474029541016, -6.27471399307251, -6.268509387969971, 26.013397216796875, -15.529939651489258, -23.189159393310547, -2.4697377681732178, 39.47216796875, 8.949702262878418, 49.150657653808594, 39.79082107543945, 30.875654220581055, -12.021098136901855, -7.39335823059082, -25.713623046875, -22.408031463623047, -13.120800018310547, 12.45673656463623, -20.050853729248047, 21.013463973999023, -7.613785743713379, 41.25623321533203, 35.620880126953125, 31.177438735961914, 42.642242431640625, -0.5582166314125061, 22.2429141998291, 22.537771224975586, 35.772003173828125, 39.73115539550781, 29.291879653930664, 11.99303150177002, 8.755976676940918, -2.975919008255005, 24.218935012817383, 48.04825973510742, 19.54105567932129, -18.186153411865234, 17.05828857421875, 9.337617874145508, 43.66740036010742, 40.42673873901367, 3.2503364086151123, 3.8245692253112793, 30.09580421447754, -41.16118240356445, 43.36830520629883, 43.6396484375, -2.9866831302642822, 7.145792007446289, -8.128036499023438, 29.60379409790039, -3.291248083114624, 14.316527366638184, 2.6853060722351074, 19.710132598876953, 4.492590427398682, 3.9620282649993896, 18.89738655090332, -8.147109985351562, 44.721065521240234, -8.159269332885742, -18.4517879486084, 10.828511238098145], \"yaxis\": \"y\"}],\n",
       "                        {\"legend\": {\"tracegroupgap\": 0}, \"margin\": {\"t\": 60}, \"template\": {\"data\": {\"bar\": [{\"error_x\": {\"color\": \"#2a3f5f\"}, \"error_y\": {\"color\": \"#2a3f5f\"}, \"marker\": {\"line\": {\"color\": \"#E5ECF6\", \"width\": 0.5}}, \"type\": \"bar\"}], \"barpolar\": [{\"marker\": {\"line\": {\"color\": \"#E5ECF6\", \"width\": 0.5}}, \"type\": \"barpolar\"}], \"carpet\": [{\"aaxis\": {\"endlinecolor\": \"#2a3f5f\", \"gridcolor\": \"white\", \"linecolor\": \"white\", \"minorgridcolor\": \"white\", \"startlinecolor\": \"#2a3f5f\"}, \"baxis\": {\"endlinecolor\": \"#2a3f5f\", \"gridcolor\": \"white\", \"linecolor\": \"white\", \"minorgridcolor\": \"white\", \"startlinecolor\": \"#2a3f5f\"}, \"type\": \"carpet\"}], \"choropleth\": [{\"colorbar\": {\"outlinewidth\": 0, \"ticks\": \"\"}, \"type\": \"choropleth\"}], \"contour\": [{\"colorbar\": {\"outlinewidth\": 0, \"ticks\": \"\"}, \"colorscale\": [[0.0, \"#0d0887\"], [0.1111111111111111, \"#46039f\"], [0.2222222222222222, \"#7201a8\"], [0.3333333333333333, \"#9c179e\"], [0.4444444444444444, \"#bd3786\"], [0.5555555555555556, \"#d8576b\"], [0.6666666666666666, \"#ed7953\"], [0.7777777777777778, \"#fb9f3a\"], [0.8888888888888888, \"#fdca26\"], [1.0, \"#f0f921\"]], \"type\": \"contour\"}], \"contourcarpet\": [{\"colorbar\": {\"outlinewidth\": 0, \"ticks\": \"\"}, \"type\": \"contourcarpet\"}], \"heatmap\": [{\"colorbar\": {\"outlinewidth\": 0, \"ticks\": \"\"}, \"colorscale\": [[0.0, \"#0d0887\"], [0.1111111111111111, \"#46039f\"], [0.2222222222222222, \"#7201a8\"], [0.3333333333333333, \"#9c179e\"], [0.4444444444444444, \"#bd3786\"], [0.5555555555555556, \"#d8576b\"], [0.6666666666666666, \"#ed7953\"], [0.7777777777777778, \"#fb9f3a\"], [0.8888888888888888, \"#fdca26\"], [1.0, \"#f0f921\"]], \"type\": \"heatmap\"}], \"heatmapgl\": [{\"colorbar\": {\"outlinewidth\": 0, \"ticks\": \"\"}, \"colorscale\": [[0.0, \"#0d0887\"], [0.1111111111111111, \"#46039f\"], [0.2222222222222222, \"#7201a8\"], [0.3333333333333333, \"#9c179e\"], [0.4444444444444444, \"#bd3786\"], [0.5555555555555556, \"#d8576b\"], [0.6666666666666666, \"#ed7953\"], [0.7777777777777778, \"#fb9f3a\"], [0.8888888888888888, \"#fdca26\"], [1.0, \"#f0f921\"]], \"type\": \"heatmapgl\"}], \"histogram\": [{\"marker\": {\"colorbar\": {\"outlinewidth\": 0, \"ticks\": \"\"}}, \"type\": \"histogram\"}], \"histogram2d\": [{\"colorbar\": {\"outlinewidth\": 0, \"ticks\": \"\"}, \"colorscale\": [[0.0, \"#0d0887\"], [0.1111111111111111, \"#46039f\"], [0.2222222222222222, \"#7201a8\"], [0.3333333333333333, \"#9c179e\"], [0.4444444444444444, \"#bd3786\"], [0.5555555555555556, \"#d8576b\"], [0.6666666666666666, \"#ed7953\"], [0.7777777777777778, \"#fb9f3a\"], [0.8888888888888888, \"#fdca26\"], [1.0, \"#f0f921\"]], \"type\": \"histogram2d\"}], \"histogram2dcontour\": [{\"colorbar\": {\"outlinewidth\": 0, \"ticks\": \"\"}, \"colorscale\": [[0.0, \"#0d0887\"], [0.1111111111111111, \"#46039f\"], [0.2222222222222222, \"#7201a8\"], [0.3333333333333333, \"#9c179e\"], [0.4444444444444444, \"#bd3786\"], [0.5555555555555556, \"#d8576b\"], [0.6666666666666666, \"#ed7953\"], [0.7777777777777778, \"#fb9f3a\"], [0.8888888888888888, \"#fdca26\"], [1.0, \"#f0f921\"]], \"type\": \"histogram2dcontour\"}], \"mesh3d\": [{\"colorbar\": {\"outlinewidth\": 0, \"ticks\": \"\"}, \"type\": \"mesh3d\"}], \"parcoords\": [{\"line\": {\"colorbar\": {\"outlinewidth\": 0, \"ticks\": \"\"}}, \"type\": \"parcoords\"}], \"pie\": [{\"automargin\": true, \"type\": \"pie\"}], \"scatter\": [{\"marker\": {\"colorbar\": {\"outlinewidth\": 0, \"ticks\": \"\"}}, \"type\": \"scatter\"}], \"scatter3d\": [{\"line\": {\"colorbar\": {\"outlinewidth\": 0, \"ticks\": \"\"}}, \"marker\": {\"colorbar\": {\"outlinewidth\": 0, \"ticks\": \"\"}}, \"type\": \"scatter3d\"}], \"scattercarpet\": [{\"marker\": {\"colorbar\": {\"outlinewidth\": 0, \"ticks\": \"\"}}, \"type\": \"scattercarpet\"}], \"scattergeo\": [{\"marker\": {\"colorbar\": {\"outlinewidth\": 0, \"ticks\": \"\"}}, \"type\": \"scattergeo\"}], \"scattergl\": [{\"marker\": {\"colorbar\": {\"outlinewidth\": 0, \"ticks\": \"\"}}, \"type\": \"scattergl\"}], \"scattermapbox\": [{\"marker\": {\"colorbar\": {\"outlinewidth\": 0, \"ticks\": \"\"}}, \"type\": \"scattermapbox\"}], \"scatterpolar\": [{\"marker\": {\"colorbar\": {\"outlinewidth\": 0, \"ticks\": \"\"}}, \"type\": \"scatterpolar\"}], \"scatterpolargl\": [{\"marker\": {\"colorbar\": {\"outlinewidth\": 0, \"ticks\": \"\"}}, \"type\": \"scatterpolargl\"}], \"scatterternary\": [{\"marker\": {\"colorbar\": {\"outlinewidth\": 0, \"ticks\": \"\"}}, \"type\": \"scatterternary\"}], \"surface\": [{\"colorbar\": {\"outlinewidth\": 0, \"ticks\": \"\"}, \"colorscale\": [[0.0, \"#0d0887\"], [0.1111111111111111, \"#46039f\"], [0.2222222222222222, \"#7201a8\"], [0.3333333333333333, \"#9c179e\"], [0.4444444444444444, \"#bd3786\"], [0.5555555555555556, \"#d8576b\"], [0.6666666666666666, \"#ed7953\"], [0.7777777777777778, \"#fb9f3a\"], [0.8888888888888888, \"#fdca26\"], [1.0, \"#f0f921\"]], \"type\": \"surface\"}], \"table\": [{\"cells\": {\"fill\": {\"color\": \"#EBF0F8\"}, \"line\": {\"color\": \"white\"}}, \"header\": {\"fill\": {\"color\": \"#C8D4E3\"}, \"line\": {\"color\": \"white\"}}, \"type\": \"table\"}]}, \"layout\": {\"annotationdefaults\": {\"arrowcolor\": \"#2a3f5f\", \"arrowhead\": 0, \"arrowwidth\": 1}, \"coloraxis\": {\"colorbar\": {\"outlinewidth\": 0, \"ticks\": \"\"}}, \"colorscale\": {\"diverging\": [[0, \"#8e0152\"], [0.1, \"#c51b7d\"], [0.2, \"#de77ae\"], [0.3, \"#f1b6da\"], [0.4, \"#fde0ef\"], [0.5, \"#f7f7f7\"], [0.6, \"#e6f5d0\"], [0.7, \"#b8e186\"], [0.8, \"#7fbc41\"], [0.9, \"#4d9221\"], [1, \"#276419\"]], \"sequential\": [[0.0, \"#0d0887\"], [0.1111111111111111, \"#46039f\"], [0.2222222222222222, \"#7201a8\"], [0.3333333333333333, \"#9c179e\"], [0.4444444444444444, \"#bd3786\"], [0.5555555555555556, \"#d8576b\"], [0.6666666666666666, \"#ed7953\"], [0.7777777777777778, \"#fb9f3a\"], [0.8888888888888888, \"#fdca26\"], [1.0, \"#f0f921\"]], \"sequentialminus\": [[0.0, \"#0d0887\"], [0.1111111111111111, \"#46039f\"], [0.2222222222222222, \"#7201a8\"], [0.3333333333333333, \"#9c179e\"], [0.4444444444444444, \"#bd3786\"], [0.5555555555555556, \"#d8576b\"], [0.6666666666666666, \"#ed7953\"], [0.7777777777777778, \"#fb9f3a\"], [0.8888888888888888, \"#fdca26\"], [1.0, \"#f0f921\"]]}, \"colorway\": [\"#636efa\", \"#EF553B\", \"#00cc96\", \"#ab63fa\", \"#FFA15A\", \"#19d3f3\", \"#FF6692\", \"#B6E880\", \"#FF97FF\", \"#FECB52\"], \"font\": {\"color\": \"#2a3f5f\"}, \"geo\": {\"bgcolor\": \"white\", \"lakecolor\": \"white\", \"landcolor\": \"#E5ECF6\", \"showlakes\": true, \"showland\": true, \"subunitcolor\": \"white\"}, \"hoverlabel\": {\"align\": \"left\"}, \"hovermode\": \"closest\", \"mapbox\": {\"style\": \"light\"}, \"paper_bgcolor\": \"white\", \"plot_bgcolor\": \"#E5ECF6\", \"polar\": {\"angularaxis\": {\"gridcolor\": \"white\", \"linecolor\": \"white\", \"ticks\": \"\"}, \"bgcolor\": \"#E5ECF6\", \"radialaxis\": {\"gridcolor\": \"white\", \"linecolor\": \"white\", \"ticks\": \"\"}}, \"scene\": {\"xaxis\": {\"backgroundcolor\": \"#E5ECF6\", \"gridcolor\": \"white\", \"gridwidth\": 2, \"linecolor\": \"white\", \"showbackground\": true, \"ticks\": \"\", \"zerolinecolor\": \"white\"}, \"yaxis\": {\"backgroundcolor\": \"#E5ECF6\", \"gridcolor\": \"white\", \"gridwidth\": 2, \"linecolor\": \"white\", \"showbackground\": true, \"ticks\": \"\", \"zerolinecolor\": \"white\"}, \"zaxis\": {\"backgroundcolor\": \"#E5ECF6\", \"gridcolor\": \"white\", \"gridwidth\": 2, \"linecolor\": \"white\", \"showbackground\": true, \"ticks\": \"\", \"zerolinecolor\": \"white\"}}, \"shapedefaults\": {\"line\": {\"color\": \"#2a3f5f\"}}, \"ternary\": {\"aaxis\": {\"gridcolor\": \"white\", \"linecolor\": \"white\", \"ticks\": \"\"}, \"baxis\": {\"gridcolor\": \"white\", \"linecolor\": \"white\", \"ticks\": \"\"}, \"bgcolor\": \"#E5ECF6\", \"caxis\": {\"gridcolor\": \"white\", \"linecolor\": \"white\", \"ticks\": \"\"}}, \"title\": {\"x\": 0.05}, \"xaxis\": {\"automargin\": true, \"gridcolor\": \"white\", \"linecolor\": \"white\", \"ticks\": \"\", \"title\": {\"standoff\": 15}, \"zerolinecolor\": \"white\", \"zerolinewidth\": 2}, \"yaxis\": {\"automargin\": true, \"gridcolor\": \"white\", \"linecolor\": \"white\", \"ticks\": \"\", \"title\": {\"standoff\": 15}, \"zerolinecolor\": \"white\", \"zerolinewidth\": 2}}}, \"xaxis\": {\"anchor\": \"y\", \"domain\": [0.0, 1.0], \"title\": {\"text\": \"x\"}}, \"yaxis\": {\"anchor\": \"x\", \"domain\": [0.0, 1.0], \"title\": {\"text\": \"y\"}}},\n",
       "                        {\"responsive\": true}\n",
       "                    ).then(function(){\n",
       "                            \n",
       "var gd = document.getElementById('30f0b4c8-0308-4c5c-aa8a-9eb546c1c2c2');\n",
       "var x = new MutationObserver(function (mutations, observer) {{\n",
       "        var display = window.getComputedStyle(gd).display;\n",
       "        if (!display || display === 'none') {{\n",
       "            console.log([gd, 'removed!']);\n",
       "            Plotly.purge(gd);\n",
       "            observer.disconnect();\n",
       "        }}\n",
       "}});\n",
       "\n",
       "// Listen for the removal of the full notebook cells\n",
       "var notebookContainer = gd.closest('#notebook-container');\n",
       "if (notebookContainer) {{\n",
       "    x.observe(notebookContainer, {childList: true});\n",
       "}}\n",
       "\n",
       "// Listen for the clearing of the current output cell\n",
       "var outputEl = gd.closest('.output');\n",
       "if (outputEl) {{\n",
       "    x.observe(outputEl, {childList: true});\n",
       "}}\n",
       "\n",
       "                        })\n",
       "                };\n",
       "                });\n",
       "            </script>\n",
       "        </div>"
      ]
     },
     "metadata": {},
     "output_type": "display_data"
    }
   ],
   "source": [
    "import plotly.express as px\n",
    "fig = px.scatter(x = x, y = y, text= l, size_max=60)\n",
    "fig.show()"
   ]
  }
 ],
 "metadata": {
  "kernelspec": {
   "display_name": "Python 3",
   "language": "python",
   "name": "python3"
  },
  "language_info": {
   "codemirror_mode": {
    "name": "ipython",
    "version": 3
   },
   "file_extension": ".py",
   "mimetype": "text/x-python",
   "name": "python",
   "nbconvert_exporter": "python",
   "pygments_lexer": "ipython3",
   "version": "3.6.6"
  },
  "varInspector": {
   "cols": {
    "lenName": 16,
    "lenType": 16,
    "lenVar": 40
   },
   "kernels_config": {
    "python": {
     "delete_cmd_postfix": "",
     "delete_cmd_prefix": "del ",
     "library": "var_list.py",
     "varRefreshCmd": "print(var_dic_list())"
    },
    "r": {
     "delete_cmd_postfix": ") ",
     "delete_cmd_prefix": "rm(",
     "library": "var_list.r",
     "varRefreshCmd": "cat(var_dic_list()) "
    }
   },
   "types_to_exclude": [
    "module",
    "function",
    "builtin_function_or_method",
    "instance",
    "_Feature"
   ],
   "window_display": false
  }
 },
 "nbformat": 4,
 "nbformat_minor": 2
}
