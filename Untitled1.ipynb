{
 "cells": [
  {
   "cell_type": "code",
   "execution_count": 1,
   "metadata": {},
   "outputs": [],
   "source": [
    "import re\n",
    "from collections import Counter\n",
    "from requests import get\n",
    "from tltk import nlp, corpus\n",
    "import gensim"
   ]
  },
  {
   "cell_type": "code",
   "execution_count": 123,
   "metadata": {},
   "outputs": [],
   "source": [
    "text = (\n",
    "    \"สำนักเขตจตุจักรชี้แจงว่า ได้นำป้ายประกาศเตือนปลิงไปปักตามแหล่งน้ำ ในเขตอำเภอเมือง \"\n",
    "    \"จังหวัดอ่างทอง หลังจากนายสุกิจ อายุ 65 ปี ถูกปลิงกัดแล้วไม่ได้ไปพบแพทย์\")"
   ]
  },
  {
   "cell_type": "code",
   "execution_count": 3,
   "metadata": {},
   "outputs": [
    {
     "name": "stderr",
     "output_type": "stream",
     "text": [
      "/home/batprem/.local/lib/python3.6/site-packages/sklearn/base.py:253: UserWarning: Trying to unpickle estimator DictVectorizer from version 0.19.1 when using version 0.20.3. This might lead to breaking code or invalid results. Use at your own risk.\n",
      "  UserWarning)\n",
      "/home/batprem/.local/lib/python3.6/site-packages/sklearn/base.py:253: UserWarning: Trying to unpickle estimator DecisionTreeClassifier from version 0.19.1 when using version 0.20.3. This might lead to breaking code or invalid results. Use at your own risk.\n",
      "  UserWarning)\n",
      "/home/batprem/.local/lib/python3.6/site-packages/sklearn/base.py:253: UserWarning: Trying to unpickle estimator RandomForestClassifier from version 0.19.1 when using version 0.20.3. This might lead to breaking code or invalid results. Use at your own risk.\n",
      "  UserWarning)\n",
      "/home/batprem/.local/lib/python3.6/site-packages/sklearn/base.py:253: UserWarning: Trying to unpickle estimator Pipeline from version 0.19.1 when using version 0.20.3. This might lead to breaking code or invalid results. Use at your own risk.\n",
      "  UserWarning)\n"
     ]
    },
    {
     "data": {
      "text/plain": [
       "'<NEo>สำนัก/NOUN|เขต/NOUN|จตุจักร/PROPN|</NEo>ชี้แจง/VERB|ว่า/SCONJ|<s/>/PUNCT|ได้/AUX|นำ/VERB|ป้ายประกาศ/NOUN|เตือน/VERB|ปลิง/NOUN|ไป/VERB|ปัก/VERB|ตาม/ADP|แหล่งน้ำ/NOUN|<u/>ใน/ADP|<NEl>เขต/NOUN|อำเภอ/NOUN|เมือง/NOUN|<s/>/PUNCT|จังหวัด/NOUN|อ่างทอง/PROPN|</NEl><u/>หลังจาก/SCONJ|<NEp>นาย/NOUN|สุ/PROPN|กิจ/NOUN|</NEp><s/>/PUNCT|อายุ/NOUN|<u/>65/NUM|<s/>/PUNCT|ปี/NOUN|<u/>ถูก/AUX|ปลิง/VERB|กัด/VERB|แล้ว/ADV|ไม่ได้/AUX|ไป/VERB|พบ/VERB|แพทย์/NOUN|<u/>'"
      ]
     },
     "execution_count": 3,
     "metadata": {},
     "output_type": "execute_result"
    }
   ],
   "source": [
    "nlp.chunk(text)"
   ]
  },
  {
   "cell_type": "code",
   "execution_count": 4,
   "metadata": {},
   "outputs": [],
   "source": [
    "chunks = [('สำนัก', 'NOUN'), ('เขต', 'NOUN'), ('จตุจักร', 'PROPN'), ('ชี้แจง', 'VERB'), ('ว่า', 'SCONJ'), ('<s/>','PUNCT')]"
   ]
  },
  {
   "cell_type": "code",
   "execution_count": 5,
   "metadata": {},
   "outputs": [
    {
     "data": {
      "text/plain": [
       "[('สำนัก', 'NOUN', 'B-O'),\n",
       " ('เขต', 'NOUN', 'I-O'),\n",
       " ('จตุจักร', 'PROPN', 'I-O'),\n",
       " ('ชี้แจง', 'VERB', 'O'),\n",
       " ('ว่า', 'SCONJ', 'O'),\n",
       " ('<s/>', 'PUNCT', 'O')]"
      ]
     },
     "execution_count": 5,
     "metadata": {},
     "output_type": "execute_result"
    }
   ],
   "source": [
    "nlp.ner(chunks)  # O=Org, P=Person, L=Location"
   ]
  },
  {
   "cell_type": "code",
   "execution_count": 6,
   "metadata": {},
   "outputs": [
    {
     "data": {
      "text/plain": [
       "[[('โปรแกรม', 'NOUN'),\n",
       "  ('สำหรับ', 'ADP'),\n",
       "  ('ประมวลผล', 'NOUN'),\n",
       "  ('ภาษาไทย', 'PROPN'),\n",
       "  ('<s/>', 'PUNCT')],\n",
       " [('วันนี้', 'NOUN'),\n",
       "  ('ใช้งาน', 'VERB'),\n",
       "  ('ได้', 'ADV'),\n",
       "  ('แล้ว', 'ADV'),\n",
       "  ('<s/>', 'PUNCT')]]"
      ]
     },
     "execution_count": 6,
     "metadata": {},
     "output_type": "execute_result"
    }
   ],
   "source": [
    "nlp.pos_tag('โปรแกรมสำหรับประมวลผลภาษาไทย วันนี้ใช้งานได้แล้ว') "
   ]
  },
  {
   "cell_type": "code",
   "execution_count": 7,
   "metadata": {},
   "outputs": [
    {
     "data": {
      "text/plain": [
       "[('โปรแกรม', 'NOUN'),\n",
       " ('สำหรับ', 'ADP'),\n",
       " ('ประมวล', 'VERB'),\n",
       " ('ผล', 'NOUN'),\n",
       " ('ภาษา', 'NOUN'),\n",
       " ('ไทย', 'PROPN')]"
      ]
     },
     "execution_count": 7,
     "metadata": {},
     "output_type": "execute_result"
    }
   ],
   "source": [
    "# หรือรับ wordlist ที่ตัดมาแล้วก็ได้\n",
    "nlp.pos_tag_wordlist('โปรแกรม สำหรับ ประมวล ผล ภาษา ไทย'.split())"
   ]
  },
  {
   "cell_type": "code",
   "execution_count": 9,
   "metadata": {},
   "outputs": [
    {
     "data": {
      "text/plain": [
       "<nltk.tag.perceptron.PerceptronTagger at 0x7f0512f86940>"
      ]
     },
     "execution_count": 9,
     "metadata": {},
     "output_type": "execute_result"
    }
   ],
   "source": [
    "# อยากรู้ว่า ข้างใน มีเก็บข้อมูลอะไรไว้บ้าง\n",
    "tg = nlp.tagger\n",
    "tg"
   ]
  },
  {
   "cell_type": "code",
   "execution_count": 10,
   "metadata": {},
   "outputs": [
    {
     "data": {
      "text/plain": [
       "611"
      ]
     },
     "execution_count": 10,
     "metadata": {},
     "output_type": "execute_result"
    }
   ],
   "source": [
    "len(tg.tagdict)  "
   ]
  },
  {
   "cell_type": "code",
   "execution_count": 11,
   "metadata": {},
   "outputs": [
    {
     "data": {
      "text/plain": [
       "{'?',\n",
       " 'ADJ',\n",
       " 'ADP',\n",
       " 'ADV',\n",
       " 'AUX',\n",
       " 'CCONJ',\n",
       " 'DET',\n",
       " 'INTJ',\n",
       " 'NOUN',\n",
       " 'NUM',\n",
       " 'PART',\n",
       " 'PRON',\n",
       " 'PROPN',\n",
       " 'PUNCT',\n",
       " 'SCONJ',\n",
       " 'SYM',\n",
       " 'VERB',\n",
       " 'X'}"
      ]
     },
     "execution_count": 11,
     "metadata": {},
     "output_type": "execute_result"
    }
   ],
   "source": [
    "tg.classes"
   ]
  },
  {
   "cell_type": "code",
   "execution_count": 12,
   "metadata": {},
   "outputs": [
    {
     "data": {
      "text/plain": [
       "38121"
      ]
     },
     "execution_count": 12,
     "metadata": {},
     "output_type": "execute_result"
    }
   ],
   "source": [
    "w = tg.model.weights\n",
    "len(w) # ข้อมูลสำคัญอยู่ตรงนี้"
   ]
  },
  {
   "cell_type": "code",
   "execution_count": 13,
   "metadata": {},
   "outputs": [
    {
     "data": {
      "text/plain": [
       "['bias',\n",
       " 'i suffix สาว',\n",
       " 'i pref1 น',\n",
       " 'i-1 tag -START-',\n",
       " 'i-2 tag -START2-',\n",
       " 'i tag+i-2 tag -START- -START2-',\n",
       " 'i word นางสาว',\n",
       " 'i-1 tag+i word -START- นางสาว',\n",
       " 'i-1 word -START2-',\n",
       " 'i-1 suffix T2-',\n",
       " 'i-2 word -START-',\n",
       " 'i+1 word อรวรรยา',\n",
       " 'i+1 suffix รยา',\n",
       " 'i+2 word <s/>',\n",
       " 'i suffix รยา',\n",
       " 'i pref1 อ',\n",
       " 'i-1 tag X',\n",
       " 'i-2 tag -START-',\n",
       " 'i tag+i-2 tag X -START-',\n",
       " 'i word อรวรรยา']"
      ]
     },
     "execution_count": 13,
     "metadata": {},
     "output_type": "execute_result"
    }
   ],
   "source": [
    "fts = list(w.keys())\n",
    "fts[:20]  # ตัวอย่าง features"
   ]
  },
  {
   "cell_type": "code",
   "execution_count": 14,
   "metadata": {},
   "outputs": [
    {
     "name": "stdout",
     "output_type": "stream",
     "text": [
      "8439\n"
     ]
    },
    {
     "data": {
      "text/plain": [
       "[('ที่', 26),\n",
       " ('ได้', 23),\n",
       " ('ถึง', 23),\n",
       " ('แล้ว', 23),\n",
       " ('ทุก', 22),\n",
       " ('ให้', 22),\n",
       " ('มา', 22),\n",
       " ('ตาม', 22),\n",
       " ('ยัง', 22),\n",
       " ('มาก', 22),\n",
       " ('คือ', 21),\n",
       " ('แต่', 21),\n",
       " ('ไป', 21),\n",
       " ('ดี', 21),\n",
       " ('ทาง', 21),\n",
       " ('โดย', 21),\n",
       " ('ออก', 21),\n",
       " ('พอ', 21),\n",
       " ('ถูก', 20),\n",
       " ('บาง', 20)]"
      ]
     },
     "execution_count": 14,
     "metadata": {},
     "output_type": "execute_result"
    }
   ],
   "source": [
    "# นับคำที่เอาไปใช้ใน features\n",
    "cnt = Counter()\n",
    "for ft in fts:\n",
    "  word = ft.split()[-1] \n",
    "  if re.fullmatch(r'[ก-๙]+', word): # ถ้าเป็นคำไทย\n",
    "    cnt[word] += 1\n",
    "    \n",
    "print(len(cnt))\n",
    "cnt.most_common(20)"
   ]
  },
  {
   "cell_type": "code",
   "execution_count": 15,
   "metadata": {},
   "outputs": [
    {
     "data": {
      "text/plain": [
       "['แต่|อาจ|เพราะ|นกกินปลีอกเหลือง|เป็น|พ่อแม่|มือใหม่|<s',\n",
       " '|รัง|ที่|ทำ|จึง|ไม่ค่อย|แข็งแรง<u',\n",
       " 'วัน|หนึ่ง|รัง|ก็|ฉีก|เกือบ|ขาด|เป็น|สอง|ท่อน|ห้อย|ต่องแต่ง<u',\n",
       " 'ผม|พยายาม|หา|อุปกรณ์|มา|ยึด|รัง|กลับคืน|รูปทรง|เดิม<u',\n",
       " 'ขณะ|ที่|แม่|นกกินปลีอกเหลือง|ส่งเสียง|โวยวาย|อยู่|ใกล้|ๆ|<s',\n",
       " '|<u',\n",
       " 'แต่|สุดท้าย|ไม่|สำเร็จ<u',\n",
       " 'สอง|สาม|วัน|ต่อ|มา|รัง|ที่|ช่วย|ซ่อม|ก็|พัง|ไป<u',\n",
       " 'ไม่|เห็น|แม่|นก|บิน|กลับ|มา|อีก|เลย<u',\n",
       " '']"
      ]
     },
     "execution_count": 15,
     "metadata": {},
     "output_type": "execute_result"
    }
   ],
   "source": [
    "s = nlp.segment(\"แต่อาจเพราะนกกินปลีอกเหลืองเป็นพ่อแม่มือใหม่ รังที่ทำจึงไม่ค่อยแข็งแรง \"\n",
    "            \"วันหนึ่งรังก็ฉีกเกือบขาดเป็นสองท่อนห้อยต่องแต่ง ผมพยายามหาอุปกรณ์มายึดรังกลับคืนรูปทรงเดิม \"\n",
    "            \"ขณะที่แม่นกกินปลีอกเหลืองส่งเสียงโวยวายอยู่ใกล้ ๆ แต่สุดท้ายไม่สำเร็จ \"\n",
    "            \"สองสามวันต่อมารังที่ช่วยซ่อมก็พังไป ไม่เห็นแม่นกบินกลับมาอีกเลย\")\n",
    "s.split('/>')"
   ]
  },
  {
   "cell_type": "code",
   "execution_count": 16,
   "metadata": {},
   "outputs": [
    {
     "data": {
      "text/plain": [
       "'โปรแกรม|สำหรับ|ประมวลผล|ภาษาไทย|<s/>'"
      ]
     },
     "execution_count": 16,
     "metadata": {},
     "output_type": "execute_result"
    }
   ],
   "source": [
    "# ตัดคำอย่างเดียว\n",
    "text = 'โปรแกรมสำหรับประมวลผลภาษาไทย'\n",
    "nlp.word_segment(text) "
   ]
  },
  {
   "cell_type": "code",
   "execution_count": 20,
   "metadata": {},
   "outputs": [
    {
     "data": {
      "text/plain": [
       "'ผู้สื่อข่าว|รายงาน|ว่า|นายก|รัฐมนตรี|ไม่|มา|ทำงาน|ที่|ทำเนียบรัฐบาล|<s/>'"
      ]
     },
     "execution_count": 20,
     "metadata": {},
     "output_type": "execute_result"
    }
   ],
   "source": [
    "# เลือก method ได้ 3 แบบ: colloc, mm, ngram\n",
    "# กรณีใช้ ngram จะทำ spell check ได้ด้วย\n",
    "\n",
    "nlp.word_segment('ผู้สือข่าวรายงานว่านายกรัฐนตรีไม่มาทำงานที่ทำเนียบรัฐบาล', \n",
    "                 method='ngram', spellchk='yes')"
   ]
  },
  {
   "cell_type": "code",
   "execution_count": 21,
   "metadata": {},
   "outputs": [
    {
     "data": {
      "text/plain": [
       "'โปรแกรม|สำหรับ|ประมวลผล|ภาษาไทย|<s/>'"
      ]
     },
     "execution_count": 21,
     "metadata": {},
     "output_type": "execute_result"
    }
   ],
   "source": [
    "# maximal matching\n",
    "nlp.word_segment_mm(text)  "
   ]
  },
  {
   "cell_type": "code",
   "execution_count": 22,
   "metadata": {},
   "outputs": [
    {
     "name": "stdout",
     "output_type": "stream",
     "text": [
      "Will not apply HSTS. The HSTS database must be a regular and non-world-writable file.\n",
      "ERROR: could not open HSTS store at '/home/batprem/.wget-hsts'. HSTS will be disabled.\n",
      "--2020-03-04 14:57:20--  http://www.arts.chula.ac.th/ling/wp-content/uploads/tnc201705_3gram.zip\n",
      "Resolving www.arts.chula.ac.th (www.arts.chula.ac.th)... 161.200.48.9\n",
      "Connecting to www.arts.chula.ac.th (www.arts.chula.ac.th)|161.200.48.9|:80... connected.\n",
      "HTTP request sent, awaiting response... 200 OK\n",
      "Length: 30896988 (29M) [application/zip]\n",
      "Saving to: ‘tnc201705_3gram.zip’\n",
      "\n",
      "tnc201705_3gram.zip 100%[===================>]  29.46M  2.57MB/s    in 8.7s    \n",
      "\n",
      "2020-03-04 14:57:29 (3.38 MB/s) - ‘tnc201705_3gram.zip’ saved [30896988/30896988]\n",
      "\n"
     ]
    }
   ],
   "source": [
    "!wget http://www.arts.chula.ac.th/ling/wp-content/uploads/tnc201705_3gram.zip"
   ]
  },
  {
   "cell_type": "code",
   "execution_count": 37,
   "metadata": {},
   "outputs": [],
   "source": [
    "from zipfile import ZipFile\n",
    "with ZipFile('tnc201705_3gram.zip', 'r') as zipObj:\n",
    "   # Extract all the contents of zip file in current directory\n",
    "   zipObj.extractall()"
   ]
  },
  {
   "cell_type": "code",
   "execution_count": 40,
   "metadata": {},
   "outputs": [
    {
     "name": "stdout",
     "output_type": "stream",
     "text": [
      "Will not apply HSTS. The HSTS database must be a regular and non-world-writable file.\n",
      "ERROR: could not open HSTS store at '/home/batprem/.wget-hsts'. HSTS will be disabled.\n",
      "--2020-03-04 15:01:58--  http://www.arts.chula.ac.th/ling/wp-content/uploads/TNC.3g.zip\n",
      "Resolving www.arts.chula.ac.th (www.arts.chula.ac.th)... 161.200.48.9\n",
      "Connecting to www.arts.chula.ac.th (www.arts.chula.ac.th)|161.200.48.9|:80... connected.\n",
      "HTTP request sent, awaiting response... 200 OK\n",
      "Length: 101809038 (97M) [application/zip]\n",
      "Saving to: ‘TNC.3g.zip’\n",
      "\n",
      "TNC.3g.zip          100%[===================>]  97.09M  2.61MB/s    in 34s     \n",
      "\n",
      "2020-03-04 15:02:32 (2.84 MB/s) - ‘TNC.3g.zip’ saved [101809038/101809038]\n",
      "\n"
     ]
    }
   ],
   "source": [
    "!wget http://www.arts.chula.ac.th/ling/wp-content/uploads/TNC.3g.zip"
   ]
  },
  {
   "cell_type": "code",
   "execution_count": 41,
   "metadata": {},
   "outputs": [],
   "source": [
    "with ZipFile('TNC.3g.zip', 'r') as zipObj:\n",
    "   # Extract all the contents of zip file in current directory\n",
    "   zipObj.extractall()"
   ]
  },
  {
   "cell_type": "code",
   "execution_count": 10,
   "metadata": {},
   "outputs": [
    {
     "data": {
      "text/plain": [
       "1"
      ]
     },
     "execution_count": 10,
     "metadata": {},
     "output_type": "execute_result"
    }
   ],
   "source": [
    "corpus.trigram_load('201705_3gram.txt')\n",
    "corpus.TNC_load()"
   ]
  },
  {
   "cell_type": "code",
   "execution_count": 43,
   "metadata": {},
   "outputs": [
    {
     "data": {
      "text/plain": [
       "141.86488203001073"
      ]
     },
     "execution_count": 43,
     "metadata": {},
     "output_type": "execute_result"
    }
   ],
   "source": [
    "corpus.unigram('นก')   # frequency/million"
   ]
  },
  {
   "cell_type": "code",
   "execution_count": 52,
   "metadata": {},
   "outputs": [
    {
     "data": {
      "text/plain": [
       "11.395348937845295"
      ]
     },
     "execution_count": 52,
     "metadata": {},
     "output_type": "execute_result"
    }
   ],
   "source": [
    "corpus.bigram('ผม', 'ให้')  "
   ]
  },
  {
   "cell_type": "code",
   "execution_count": 11,
   "metadata": {},
   "outputs": [
    {
     "data": {
      "text/plain": [
       "0"
      ]
     },
     "execution_count": 11,
     "metadata": {},
     "output_type": "execute_result"
    }
   ],
   "source": [
    "corpus.bigram('ผี','เสื้อ')  "
   ]
  },
  {
   "cell_type": "code",
   "execution_count": 9,
   "metadata": {},
   "outputs": [
    {
     "ename": "NameError",
     "evalue": "name 'BiCount' is not defined",
     "output_type": "error",
     "traceback": [
      "\u001b[0;31m---------------------------------------------------------------------------\u001b[0m",
      "\u001b[0;31mNameError\u001b[0m                                 Traceback (most recent call last)",
      "\u001b[0;32m<ipython-input-9-7123061752f9>\u001b[0m in \u001b[0;36m<module>\u001b[0;34m\u001b[0m\n\u001b[0;32m----> 1\u001b[0;31m \u001b[0mcorpus\u001b[0m\u001b[0;34m.\u001b[0m\u001b[0mcollocates\u001b[0m\u001b[0;34m(\u001b[0m\u001b[0;34m'ผี'\u001b[0m\u001b[0;34m,\u001b[0m \u001b[0mstat\u001b[0m\u001b[0;34m=\u001b[0m\u001b[0;34m'freq'\u001b[0m\u001b[0;34m,\u001b[0m \u001b[0mdirect\u001b[0m\u001b[0;34m=\u001b[0m\u001b[0;34m'right'\u001b[0m\u001b[0;34m,\u001b[0m \u001b[0mspan\u001b[0m\u001b[0;34m=\u001b[0m\u001b[0;36m2\u001b[0m\u001b[0;34m,\u001b[0m \u001b[0mlimit\u001b[0m\u001b[0;34m=\u001b[0m\u001b[0;36m10\u001b[0m\u001b[0;34m,\u001b[0m \u001b[0mminfq\u001b[0m\u001b[0;34m=\u001b[0m\u001b[0;36m5\u001b[0m\u001b[0;34m)\u001b[0m\u001b[0;34m\u001b[0m\u001b[0m\n\u001b[0m",
      "\u001b[0;32m~/anaconda3/envs/DataSci/lib/python3.6/site-packages/tltk/corpus.py\u001b[0m in \u001b[0;36mcollocates\u001b[0;34m(w, stat, direct, span, limit, minfq)\u001b[0m\n\u001b[1;32m    180\u001b[0m     \u001b[0;32melif\u001b[0m \u001b[0mspan\u001b[0m \u001b[0;34m==\u001b[0m \u001b[0;36m2\u001b[0m\u001b[0;34m:\u001b[0m\u001b[0;34m\u001b[0m\u001b[0m\n\u001b[1;32m    181\u001b[0m         \u001b[0;32mif\u001b[0m \u001b[0mdirect\u001b[0m \u001b[0;34m==\u001b[0m \u001b[0;34m'right'\u001b[0m \u001b[0;32mor\u001b[0m \u001b[0mdirect\u001b[0m \u001b[0;34m==\u001b[0m \u001b[0;34m'both'\u001b[0m\u001b[0;34m:\u001b[0m\u001b[0;34m\u001b[0m\u001b[0m\n\u001b[0;32m--> 182\u001b[0;31m             \u001b[0;32mfor\u001b[0m \u001b[0mw2\u001b[0m \u001b[0;32min\u001b[0m \u001b[0;34m[\u001b[0m \u001b[0mkey\u001b[0m\u001b[0;34m[\u001b[0m\u001b[0;36m1\u001b[0m\u001b[0;34m]\u001b[0m \u001b[0;32mfor\u001b[0m \u001b[0mkey\u001b[0m \u001b[0;32min\u001b[0m \u001b[0mBiCount\u001b[0m\u001b[0;34m.\u001b[0m\u001b[0mkeys\u001b[0m\u001b[0;34m(\u001b[0m\u001b[0;34m)\u001b[0m \u001b[0;32mif\u001b[0m \u001b[0mkey\u001b[0m\u001b[0;34m[\u001b[0m\u001b[0;36m0\u001b[0m\u001b[0;34m]\u001b[0m \u001b[0;34m==\u001b[0m \u001b[0mw\u001b[0m\u001b[0;34m]\u001b[0m\u001b[0;34m:\u001b[0m\u001b[0;34m\u001b[0m\u001b[0m\n\u001b[0m\u001b[1;32m    183\u001b[0m                 \u001b[0;32mif\u001b[0m \u001b[0mBiCount\u001b[0m\u001b[0;34m[\u001b[0m\u001b[0;34m(\u001b[0m\u001b[0mw\u001b[0m\u001b[0;34m,\u001b[0m\u001b[0mw2\u001b[0m\u001b[0;34m)\u001b[0m\u001b[0;34m]\u001b[0m \u001b[0;34m>=\u001b[0m \u001b[0mminfq\u001b[0m\u001b[0;34m:\u001b[0m\u001b[0;34m\u001b[0m\u001b[0m\n\u001b[1;32m    184\u001b[0m                     \u001b[0mcolloc\u001b[0m\u001b[0;34m[\u001b[0m\u001b[0;34m(\u001b[0m\u001b[0mw\u001b[0m\u001b[0;34m,\u001b[0m\u001b[0mw2\u001b[0m\u001b[0;34m)\u001b[0m\u001b[0;34m]\u001b[0m \u001b[0;34m=\u001b[0m \u001b[0mcompute_colloc\u001b[0m\u001b[0;34m(\u001b[0m\u001b[0mstat\u001b[0m\u001b[0;34m,\u001b[0m\u001b[0mw\u001b[0m\u001b[0;34m,\u001b[0m\u001b[0mw2\u001b[0m\u001b[0;34m)\u001b[0m\u001b[0;34m\u001b[0m\u001b[0m\n",
      "\u001b[0;31mNameError\u001b[0m: name 'BiCount' is not defined"
     ]
    }
   ],
   "source": [
    "corpus.collocates('ผี', stat='freq', direct='right', span=2, limit=10, minfq=5)"
   ]
  },
  {
   "cell_type": "code",
   "execution_count": 136,
   "metadata": {},
   "outputs": [
    {
     "data": {
      "text/plain": [
       "[(('<s>', 'อาหาร'), 62.33784767053344),\n",
       " (('การ', 'อาหาร'), 35.58041440508658),\n",
       " (('ที่', 'อาหาร'), 17.694043920367378),\n",
       " (('ไป', 'อาหาร'), 15.16975776324975),\n",
       " (('ใน', 'อาหาร'), 14.61681889073827),\n",
       " (('<p>', 'อาหาร'), 13.198410478643602),\n",
       " (('จะ', 'อาหาร'), 12.645471606132121),\n",
       " (('และ', 'อาหาร'), 10.746246783157906),\n",
       " (('มา', 'อาหาร'), 9.85673642303074),\n",
       " (('เป็น', 'อาหาร'), 8.534491293111984)]"
      ]
     },
     "execution_count": 136,
     "metadata": {},
     "output_type": "execute_result"
    }
   ],
   "source": [
    "corpus.collocates('อาหาร', stat='freq', direct='left', span=2, limit=10, minfq=5)"
   ]
  },
  {
   "cell_type": "code",
   "execution_count": 138,
   "metadata": {},
   "outputs": [
    {
     "data": {
      "text/plain": [
       "[(('อาหาร', '<s>'), 76.49789097093614),\n",
       " (('อาหาร', 'ที่'), 15.362084327601568),\n",
       " (('อาหาร', 'มี'), 13.919635094962924),\n",
       " (('อาหาร', 'และ'), 11.948287810356776),\n",
       " (('อาหาร', 'กิน'), 10.842410065333814),\n",
       " (('อาหาร', 'ๆ'), 9.351879191607216),\n",
       " (('อาหาร', 'ยา'), 8.053674882232434),\n",
       " (('อาหาร', 'เป็น'), 7.068001239929361),\n",
       " (('อาหาร', 'ให้'), 6.851633855033564),\n",
       " (('อาหาร', 'ไม่'), 6.731429752313677),\n",
       " (('อาหาร', 'ใน'), 6.731429752313677),\n",
       " (('อาหาร', 'นี้'), 5.8659602127304895),\n",
       " (('อาหาร', 'ของ'), 5.048572314235257),\n",
       " (('อาหาร', '<p>'), 5.048572314235257),\n",
       " (('อาหาร', 'จะ'), 5.0004906731473024),\n",
       " (('อาหาร', 'การ'), 4.9043273909713925),\n",
       " (('อาหาร', 'อย่าง'), 4.495633441723776),\n",
       " (('อาหาร', 'ได้'), 4.27926605682798),\n",
       " (('อาหาร', 'ก็'), 3.9426945692122963),\n",
       " (('อาหาร', 'ไป'), 3.8946129281243413),\n",
       " (('อาหาร', 'กับ'), 3.8946129281243413),\n",
       " (('อาหาร', 'แล้ว'), 3.846531287036387),\n",
       " (('อาหาร', 'หรือ'), 3.846531287036387),\n",
       " (('อาหาร', 'กัน'), 3.7744088254044543),\n",
       " (('อาหาร', 'เสริม'), 3.7263271843164993),\n",
       " (('อาหาร', 'มา'), 3.6542047226845673),\n",
       " (('อาหาร', 'ด้วย'), 3.0772250296291093),\n",
       " (('อาหาร', 'นั้น'), 3.0772250296291093),\n",
       " (('อาหาร', 'เครื่องดื่ม'), 3.0051025679971772),\n",
       " (('อาหาร', 'ดี'), 2.9329801063652448),\n",
       " (('อาหาร', 'เกาหลี'), 2.8848984652772898),\n",
       " (('อาหาร', 'คน'), 2.8608576447333127),\n",
       " (('อาหาร', 'ร้าน'), 2.8368168241893352),\n",
       " (('อาหาร', 'แต่'), 2.7406535420134253),\n",
       " (('อาหาร', 'จาก'), 2.5723677982055837),\n",
       " (('อาหาร', 'มาก'), 2.548326977661606),\n",
       " (('อาหาร', 'อยู่'), 2.5242861571176287),\n",
       " (('อาหาร', 'เรา'), 2.5242861571176287),\n",
       " (('อาหาร', 'น้ำ'), 2.4762045160296737),\n",
       " (('อาหาร', 'เขา'), 2.4521636954856962),\n",
       " (('อาหาร', 'ชนิด'), 2.3560004133097867),\n",
       " (('อาหาร', 'มื้อ'), 2.2357963105898997),\n",
       " (('อาหาร', 'ซึ่ง'), 2.1155922078700127),\n",
       " (('อาหาร', 'อร่อย'), 2.091551387326035),\n",
       " (('อาหาร', 'หนึ่ง'), 1.9713472846061482),\n",
       " (('อาหาร', 'เพื่อ'), 1.8751840024302384),\n",
       " (('อาหาร', 'ทำ'), 1.8751840024302384),\n",
       " (('อาหาร', 'ทุก'), 1.8271023613422837),\n",
       " (('อาหาร', 'จัด'), 1.779020720254329),\n",
       " (('อาหาร', 'วัน'), 1.7549798997103514)]"
      ]
     },
     "execution_count": 138,
     "metadata": {},
     "output_type": "execute_result"
    }
   ],
   "source": [
    "corpus.collocates('อาหาร', stat='freq', direct='right', span=2, limit=50, minfq=5)"
   ]
  },
  {
   "cell_type": "markdown",
   "metadata": {},
   "source": [
    "# Word vector"
   ]
  },
  {
   "cell_type": "code",
   "execution_count": 54,
   "metadata": {},
   "outputs": [],
   "source": [
    "!wget -q http://www.arts.chula.ac.th/ling/wp-content/uploads/TNCc5model.bin"
   ]
  },
  {
   "cell_type": "code",
   "execution_count": 12,
   "metadata": {},
   "outputs": [
    {
     "data": {
      "text/plain": [
       "True"
      ]
     },
     "execution_count": 12,
     "metadata": {},
     "output_type": "execute_result"
    }
   ],
   "source": [
    "corpus.w2v_exist('ผีเสื้อ')"
   ]
  },
  {
   "cell_type": "code",
   "execution_count": 3,
   "metadata": {},
   "outputs": [
    {
     "data": {
      "text/plain": [
       "array([ 4.3417077e+00,  2.7017918e+00,  2.4149504e+00, -1.3729613e+00,\n",
       "        1.2849796e+00, -3.1696767e-01,  1.6111651e-01, -8.4592506e-02,\n",
       "       -1.3102694e+00,  2.1613088e+00, -4.5822494e-02,  9.2299187e-01,\n",
       "        4.8927337e-01, -2.7081797e+00, -1.5683790e+00, -3.5793822e+00,\n",
       "        1.1854382e+00,  1.2072237e+00, -2.8199282e+00,  8.1384224e-01,\n",
       "       -9.5724291e-01, -8.4144580e-01,  3.6350479e-03, -1.4165610e+00,\n",
       "       -1.3814044e+00, -1.5249868e-01, -7.6264876e-01,  1.1604714e+00,\n",
       "       -1.7034299e+00,  7.1920228e-01, -7.7075046e-01,  1.6867928e-01,\n",
       "        7.8255266e-01,  1.4846981e-01, -4.5913595e-01,  1.5470924e+00,\n",
       "        1.2224985e+00, -3.0264008e-01,  1.4823226e+00, -3.9652774e+00,\n",
       "        4.1482028e-01, -2.5117238e+00, -3.3764346e+00,  1.6185311e+00,\n",
       "       -3.0816844e-01,  6.2843096e-01,  1.4276540e+00, -2.1361227e+00,\n",
       "       -1.6863720e+00, -4.9999332e-01, -2.9121704e+00, -1.1751316e+00,\n",
       "        1.3813881e+00, -6.7971396e-01, -4.7005069e-01,  7.0379263e-01,\n",
       "       -2.5676668e+00,  2.0066826e+00,  2.1951535e+00, -2.4967481e-01,\n",
       "        2.9371526e+00,  3.1974855e-01, -1.1167825e+00,  2.4619203e+00,\n",
       "        5.7074370e+00,  2.6490037e+00,  6.3457257e-01, -5.5030054e-01,\n",
       "       -2.1223004e+00,  3.0241759e+00,  5.0534570e-01, -1.9811098e-01,\n",
       "        1.9266390e+00,  1.2086208e+00, -1.9692454e+00,  1.7822068e+00,\n",
       "        2.1649783e+00, -7.6464576e-01,  1.5524454e+00,  4.8831753e-02,\n",
       "       -2.7157364e+00,  3.0496805e+00, -4.0100858e-01, -1.3411735e-01,\n",
       "        1.0090605e+00, -1.5810804e+00,  1.9433684e+00, -1.4536141e+00,\n",
       "       -3.2374492e-01,  9.7367394e-01,  3.1406291e+00, -1.7739613e-01,\n",
       "        6.0097158e-01, -1.8989509e+00,  1.1133108e+00, -1.6805365e+00,\n",
       "        2.7923937e+00, -2.2459819e+00,  3.5241194e-02, -9.8198241e-01],\n",
       "      dtype=float32)"
      ]
     },
     "execution_count": 3,
     "metadata": {},
     "output_type": "execute_result"
    }
   ],
   "source": [
    "corpus.w2v('อาหาร')"
   ]
  },
  {
   "cell_type": "code",
   "execution_count": 57,
   "metadata": {},
   "outputs": [
    {
     "data": {
      "text/plain": [
       "0.7835518"
      ]
     },
     "execution_count": 57,
     "metadata": {},
     "output_type": "execute_result"
    }
   ],
   "source": [
    "corpus.similarity(\"อาหาร\",\"อาหารว่าง\")"
   ]
  },
  {
   "cell_type": "code",
   "execution_count": 8,
   "metadata": {},
   "outputs": [
    {
     "data": {
      "text/plain": [
       "[('คนขาย', 0.7788515090942383),\n",
       " ('พ่อค้า', 0.7537973523139954),\n",
       " ('หาบเร่', 0.6890770196914673),\n",
       " ('เจ๊ก', 0.6786867380142212),\n",
       " ('เร่', 0.6554803848266602),\n",
       " ('ข้าวแกง', 0.6534641981124878),\n",
       " ('ปาท่องโก๋', 0.646577775478363),\n",
       " ('หาบ', 0.6448596119880676),\n",
       " ('ลำไย', 0.6419936418533325),\n",
       " ('ข้าวสาร', 0.630463719367981)]"
      ]
     },
     "execution_count": 8,
     "metadata": {},
     "output_type": "execute_result"
    }
   ],
   "source": [
    "corpus.similar_words(\"แม่ค้า\", n=10, score=\"y\")"
   ]
  },
  {
   "cell_type": "code",
   "execution_count": 59,
   "metadata": {},
   "outputs": [
    {
     "name": "stderr",
     "output_type": "stream",
     "text": [
      "/home/batprem/anaconda3/envs/DataSci/lib/python3.6/site-packages/gensim/models/keyedvectors.py:877: FutureWarning: arrays to stack must be passed as a \"sequence\" type such as list or tuple. Support for non-sequence iterables such as generators is deprecated as of NumPy 1.16 and will raise an error in the future.\n",
      "  vectors = vstack(self.word_vec(word, use_norm=True) for word in used_words).astype(REAL)\n"
     ]
    },
    {
     "data": {
      "text/plain": [
       "'รถยนต์'"
      ]
     },
     "execution_count": 59,
     "metadata": {},
     "output_type": "execute_result"
    }
   ],
   "source": [
    "corpus.outofgroup([\"น้ำ\",\"อาหาร\",\"ข้าว\",\"รถยนต์\",\"ผัก\"]) #diffent word"
   ]
  },
  {
   "cell_type": "code",
   "execution_count": 60,
   "metadata": {},
   "outputs": [
    {
     "name": "stderr",
     "output_type": "stream",
     "text": [
      "/home/batprem/.local/lib/python3.6/site-packages/matplotlib/font_manager.py:1241: UserWarning: findfont: Font family ['TH Sarabun New'] not found. Falling back to DejaVu Sans.\n",
      "  (prop.get_family(), self.defaultFamily[fontext]))\n"
     ]
    },
    {
     "data": {
      "image/png": "[encoded data removed]",
      "text/plain": [
       "<Figure size 432x288 with 1 Axes>"
      ]
     },
     "metadata": {
      "needs_background": "light"
     },
     "output_type": "display_data"
    },
    {
     "data": {
      "text/plain": [
       "1"
      ]
     },
     "execution_count": 60,
     "metadata": {},
     "output_type": "execute_result"
    }
   ],
   "source": [
    "words = \"ผู้ชาย พ่อ แม่ ผู้หญิง ปู่ ย่า ตา ยาย\".split()\n",
    "corpus.w2v_plot(words)  # ตา มี 2 ความหมาย"
   ]
  },
  {
   "cell_type": "code",
   "execution_count": 70,
   "metadata": {},
   "outputs": [
    {
     "data": {
      "text/plain": [
       "<gensim.models.word2vec.Word2Vec at 0x7f03797705c0>"
      ]
     },
     "execution_count": 70,
     "metadata": {},
     "output_type": "execute_result"
    }
   ],
   "source": [
    "model = corpus.w2v_model\n",
    "model"
   ]
  },
  {
   "cell_type": "code",
   "execution_count": 71,
   "metadata": {},
   "outputs": [],
   "source": [
    "wv = model.wv   # newer interface us wv instead of just model"
   ]
  },
  {
   "cell_type": "code",
   "execution_count": 72,
   "metadata": {
    "scrolled": true
   },
   "outputs": [
    {
     "name": "stdout",
     "output_type": "stream",
     "text": [
      "31078\n"
     ]
    },
    {
     "data": {
      "text/plain": [
       "True"
      ]
     },
     "execution_count": 72,
     "metadata": {},
     "output_type": "execute_result"
    }
   ],
   "source": [
    "vocab = wv.vocab  # a dict\n",
    "print(len(vocab))\n",
    "'อาหาร' in vocab"
   ]
  },
  {
   "cell_type": "code",
   "execution_count": 73,
   "metadata": {},
   "outputs": [
    {
     "data": {
      "text/plain": [
       "['ที่', 'การ', 'เป็น', 'ใน', 'ของ', 'มี', 'จะ', 'และ', 'ไม่', 'ได้']"
      ]
     },
     "execution_count": 73,
     "metadata": {},
     "output_type": "execute_result"
    }
   ],
   "source": [
    "wordlist = wv.index2word \n",
    "wordlist[:10]"
   ]
  },
  {
   "cell_type": "code",
   "execution_count": 74,
   "metadata": {},
   "outputs": [
    {
     "data": {
      "text/plain": [
       "0.7835518"
      ]
     },
     "execution_count": 74,
     "metadata": {},
     "output_type": "execute_result"
    }
   ],
   "source": [
    "wv.similarity('อาหาร','อาหารว่าง')"
   ]
  },
  {
   "cell_type": "code",
   "execution_count": 134,
   "metadata": {},
   "outputs": [
    {
     "data": {
      "text/plain": [
       "[('อาหารว่าง', 0.7835519313812256),\n",
       " ('ของว่าง', 0.7366501092910767),\n",
       " ('ของหวาน', 0.703102707862854),\n",
       " ('เนื้อสัตว์', 0.6960341930389404),\n",
       " ('ผลไม้', 0.6641998291015625),\n",
       " ('เครื่องดื่ม', 0.6563372611999512),\n",
       " ('กาแฟ', 0.6466985940933228),\n",
       " ('กับข้าว', 0.641933798789978),\n",
       " ('ข้าวกล้อง', 0.6367597579956055),\n",
       " ('ผัก', 0.6347238421440125)]"
      ]
     },
     "execution_count": 134,
     "metadata": {},
     "output_type": "execute_result"
    }
   ],
   "source": [
    "wv.most_similar('อาหาร')"
   ]
  },
  {
   "cell_type": "code",
   "execution_count": 125,
   "metadata": {},
   "outputs": [
    {
     "name": "stderr",
     "output_type": "stream",
     "text": [
      "/home/batprem/anaconda3/envs/DataSci/lib/python3.6/site-packages/gensim/models/keyedvectors.py:877: FutureWarning: arrays to stack must be passed as a \"sequence\" type such as list or tuple. Support for non-sequence iterables such as generators is deprecated as of NumPy 1.16 and will raise an error in the future.\n",
      "  vectors = vstack(self.word_vec(word, use_norm=True) for word in used_words).astype(REAL)\n"
     ]
    },
    {
     "data": {
      "text/plain": [
       "'รถยนต์'"
      ]
     },
     "execution_count": 125,
     "metadata": {},
     "output_type": "execute_result"
    }
   ],
   "source": [
    "wv.doesnt_match([\"น้ำ\",\"อาหาร\",\"ข้าว\",\"รถยนต์\",\"ผัก\"])"
   ]
  },
  {
   "cell_type": "code",
   "execution_count": 77,
   "metadata": {},
   "outputs": [],
   "source": [
    "# export เพื่อแสดงบน Embedding Projector\n",
    "ft = open('tensor.tsv', 'w')\n",
    "fm = open('metadata.tsv', 'w')"
   ]
  },
  {
   "cell_type": "code",
   "execution_count": 78,
   "metadata": {},
   "outputs": [
    {
     "data": {
      "text/plain": [
       "31078"
      ]
     },
     "execution_count": 78,
     "metadata": {},
     "output_type": "execute_result"
    }
   ],
   "source": [
    "len(wv.index2word) # a list"
   ]
  },
  {
   "cell_type": "code",
   "execution_count": 79,
   "metadata": {},
   "outputs": [
    {
     "data": {
      "text/plain": [
       "['ที่', 'การ', 'เป็น', 'ใน', 'ของ', 'มี', 'จะ', 'และ', 'ไม่', 'ได้']"
      ]
     },
     "execution_count": 79,
     "metadata": {},
     "output_type": "execute_result"
    }
   ],
   "source": [
    "wv.index2word[:10]"
   ]
  },
  {
   "cell_type": "code",
   "execution_count": 80,
   "metadata": {},
   "outputs": [
    {
     "data": {
      "text/plain": [
       "100"
      ]
     },
     "execution_count": 80,
     "metadata": {},
     "output_type": "execute_result"
    }
   ],
   "source": [
    "len(wv['ที่']) "
   ]
  },
  {
   "cell_type": "code",
   "execution_count": 81,
   "metadata": {},
   "outputs": [],
   "source": [
    "# ย่อจาก https://github.com/RaRe-Technologies/gensim/blob/develop/gensim/scripts/word2vec2tensor.py\n",
    "\n",
    "for word in wv.index2word:\n",
    "  fm.write(word + '\\n')  # a word on each line\n",
    "  vector_row = '\\t'.join('%.3f' % x for x in wv[word])\n",
    "  ft.write(vector_row + '\\n')"
   ]
  },
  {
   "cell_type": "code",
   "execution_count": 82,
   "metadata": {},
   "outputs": [],
   "source": [
    "fm.close()\n",
    "ft.close()"
   ]
  },
  {
   "cell_type": "code",
   "execution_count": 139,
   "metadata": {},
   "outputs": [
    {
     "data": {
      "text/plain": [
       "[('แม่', 0.7233476638793945),\n",
       " ('น้อง', 0.7223608493804932),\n",
       " ('พี่', 0.6957412958145142),\n",
       " ('คุณแม่', 0.694896399974823),\n",
       " ('พ่อ', 0.6777190566062927),\n",
       " ('หลาน', 0.6367466449737549),\n",
       " ('น้า', 0.6118521690368652),\n",
       " ('พ่อแม่', 0.593849241733551),\n",
       " ('คุณย่า', 0.5768788456916809),\n",
       " ('คุณ', 0.5759153962135315)]"
      ]
     },
     "execution_count": 139,
     "metadata": {},
     "output_type": "execute_result"
    }
   ],
   "source": [
    "output = wv['พ่อ'] -  wv['ชาย'] + wv['หญิง']\n",
    "wv.similar_by_vector(output)"
   ]
  },
  {
   "cell_type": "code",
   "execution_count": 127,
   "metadata": {},
   "outputs": [
    {
     "data": {
      "text/plain": [
       "[('แม่', 0.7233476638793945),\n",
       " ('น้อง', 0.7223608493804932),\n",
       " ('พี่', 0.6957412958145142),\n",
       " ('คุณแม่', 0.694896399974823),\n",
       " ('พ่อ', 0.6777190566062927),\n",
       " ('หลาน', 0.6367466449737549),\n",
       " ('น้า', 0.6118521690368652),\n",
       " ('พ่อแม่', 0.593849241733551),\n",
       " ('คุณย่า', 0.5768788456916809),\n",
       " ('คุณ', 0.5759153962135315)]"
      ]
     },
     "execution_count": 127,
     "metadata": {},
     "output_type": "execute_result"
    }
   ],
   "source": [
    "wv.similar_by_vector(output)"
   ]
  },
  {
   "cell_type": "code",
   "execution_count": 121,
   "metadata": {},
   "outputs": [],
   "source": [
    "text = 'นี่คือภาพบรรยากาศตามเมืองสำคัญในประเทศต่างๆ หลังโรคโควิด-19 แพร่ระบาดมานานกว่า 2 เดือน นับตั้งแต่มีรายงานพบผู้ติดเชื้อไวรัสโคโรนาสายพันธ์ุใหม่รายแรกเมื่อวันที่ 31 ธันวาคม 2019 ที่ผ่านมา หลายพื้นที่ในเมืองใหญ่ยังคงปกคลุมไปด้วยความเงียบเหงา หน้ากากอนามัยกลายเป็นไอเท็มสำคัญในช่วงเวลานี้ ผู้คนส่วนใหญ่ยังคงหลีกเลี่ยงการทำกิจกรรมภายนอกและใช้เวลาส่วนใหญ่อยู่แต่ภายในที่พักอาศัย'"
   ]
  },
  {
   "cell_type": "code",
   "execution_count": 129,
   "metadata": {},
   "outputs": [
    {
     "data": {
      "text/plain": [
       "[('พืชพันธุ์', 0.7262371182441711),\n",
       " ('สิ่งมีชีวิต', 0.6554182767868042),\n",
       " ('แพลงก์ตอน', 0.6502318978309631),\n",
       " ('ต้นยาง', 0.6499524116516113),\n",
       " ('ธัญญาหาร', 0.6421450972557068),\n",
       " ('แมลง', 0.616450846195221),\n",
       " ('เนื้อสัตว์', 0.6091098189353943),\n",
       " ('จุลินทรีย์', 0.604485273361206),\n",
       " ('แร่ธาตุ', 0.6021089553833008),\n",
       " ('ธัญพืช', 0.5939781665802002)]"
      ]
     },
     "execution_count": 129,
     "metadata": {},
     "output_type": "execute_result"
    }
   ],
   "source": [
    "wv.most_similar_cosmul(['สัตว์','พืช'])"
   ]
  },
  {
   "cell_type": "code",
   "execution_count": 131,
   "metadata": {},
   "outputs": [
    {
     "data": {
      "text/plain": [
       "[('พระราชินี', 0.9523870348930359),\n",
       " ('พระนาง', 0.9233537912368774),\n",
       " ('พระนางเจ้า', 0.9218846559524536),\n",
       " ('พระบาทสมเด็จพระเจ้าอยู่หัว', 0.9216647744178772),\n",
       " ('สาส์น', 0.9212436676025391),\n",
       " ('พระเทวทัต', 0.9141473770141602),\n",
       " ('ราชา', 0.9105772972106934),\n",
       " ('พระเจ้าอยู่หัว', 0.9088192582130432),\n",
       " ('ทรง', 0.9083362221717834),\n",
       " ('สมเด็จพระสังฆราช', 0.9058513641357422)]"
      ]
     },
     "execution_count": 131,
     "metadata": {},
     "output_type": "execute_result"
    }
   ],
   "source": [
    "wv.most_similar_cosmul(positive=['พระราชา','หญิง'], negative=['ชาย'])"
   ]
  },
  {
   "cell_type": "code",
   "execution_count": 146,
   "metadata": {},
   "outputs": [
    {
     "data": {
      "text/plain": [
       "[('เจือจาง', 0.5410377383232117),\n",
       " ('เละ', 0.520462155342102),\n",
       " ('เน่า', 0.5151365399360657),\n",
       " ('เปื่อย', 0.5115385055541992),\n",
       " ('ละลาย', 0.5104888677597046),\n",
       " ('ร่อยหรอ', 0.5044137835502625),\n",
       " ('ฝ่อ', 0.49538058042526245),\n",
       " ('เผ็ด', 0.49453482031822205),\n",
       " ('พร่อง', 0.4944094121456146),\n",
       " ('เค็ม', 0.4939129650592804)]"
      ]
     },
     "execution_count": 146,
     "metadata": {},
     "output_type": "execute_result"
    }
   ],
   "source": [
    "wv.most_similar_cosmul(['กาก','แย่'])"
   ]
  },
  {
   "cell_type": "code",
   "execution_count": null,
   "metadata": {},
   "outputs": [],
   "source": []
  }
 ],
 "metadata": {
  "kernelspec": {
   "display_name": "Python 3",
   "language": "python",
   "name": "python3"
  },
  "language_info": {
   "codemirror_mode": {
    "name": "ipython",
    "version": 3
   },
   "file_extension": ".py",
   "mimetype": "text/x-python",
   "name": "python",
   "nbconvert_exporter": "python",
   "pygments_lexer": "ipython3",
   "version": "3.6.6"
  },
  "varInspector": {
   "cols": {
    "lenName": 16,
    "lenType": 16,
    "lenVar": 40
   },
   "kernels_config": {
    "python": {
     "delete_cmd_postfix": "",
     "delete_cmd_prefix": "del ",
     "library": "var_list.py",
     "varRefreshCmd": "print(var_dic_list())"
    },
    "r": {
     "delete_cmd_postfix": ") ",
     "delete_cmd_prefix": "rm(",
     "library": "var_list.r",
     "varRefreshCmd": "cat(var_dic_list()) "
    }
   },
   "types_to_exclude": [
    "module",
    "function",
    "builtin_function_or_method",
    "instance",
    "_Feature"
   ],
   "window_display": false
  }
 },
 "nbformat": 4,
 "nbformat_minor": 2
}
