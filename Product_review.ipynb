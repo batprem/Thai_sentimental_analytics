{
 "cells": [
  {
   "cell_type": "code",
   "execution_count": 1,
   "metadata": {},
   "outputs": [],
   "source": [
    "from tltk import nlp, corpus"
   ]
  },
  {
   "cell_type": "code",
   "execution_count": 2,
   "metadata": {},
   "outputs": [
    {
     "name": "stdout",
     "output_type": "stream",
     "text": [
      "/bin/sh: 1: response-content-disposition=attachment%3B+filename%3Dthai-sentiment-analysis-toolkit.zip: not found\r\n"
     ]
    }
   ],
   "source": [
    "!wget https://storage.googleapis.com/kaggle-data-sets/2370/3979/bundle/archive.zip?GoogleAccessId=web-data@kaggle-161607.iam.gserviceaccount.com&Expires=1583737501&Signature=Kq1RVWmN0HMoMXCnSzoL22jYJr0MjAZhrrybWRobi1NgR4NZtgcltAQZvEuL9TuabGf8uB%2BK8N8auMJajWVSt%2BR9cxY6nHYShFLoRHr%2FBgyGO5H39yuhJ%2Fo%2BPIjGbp4XWvO1iosMtpVbcWQMeEP3LJL3Dis33F70EY8awDf6KG3cRYqH4FvPOmPH9ARD5YxF7Z%2Fu3kB0JV7B30l2d%2F%2B%2FkvDw6Q20TQDYxJUgKajjAx4yrwnHFELagOAM145iJ%2Fo0xyFCWc9zeqMgo0NPeghfvLyucVFyvc40jJ0ZWbApbLjcjKqBUvihdunPjTFML1VouKJKK1GGzuahMe9Kifyrdg%3D%3D&response-content-disposition=attachment%3B+filename%3Dthai-sentiment-analysis-toolkit.zip"
   ]
  }
 ],
 "metadata": {
  "kernelspec": {
   "display_name": "Python 3",
   "language": "python",
   "name": "python3"
  },
  "language_info": {
   "codemirror_mode": {
    "name": "ipython",
    "version": 3
   },
   "file_extension": ".py",
   "mimetype": "text/x-python",
   "name": "python",
   "nbconvert_exporter": "python",
   "pygments_lexer": "ipython3",
   "version": "3.6.6"
  },
  "varInspector": {
   "cols": {
    "lenName": 16,
    "lenType": 16,
    "lenVar": 40
   },
   "kernels_config": {
    "python": {
     "delete_cmd_postfix": "",
     "delete_cmd_prefix": "del ",
     "library": "var_list.py",
     "varRefreshCmd": "print(var_dic_list())"
    },
    "r": {
     "delete_cmd_postfix": ") ",
     "delete_cmd_prefix": "rm(",
     "library": "var_list.r",
     "varRefreshCmd": "cat(var_dic_list()) "
    }
   },
   "types_to_exclude": [
    "module",
    "function",
    "builtin_function_or_method",
    "instance",
    "_Feature"
   ],
   "window_display": false
  }
 },
 "nbformat": 4,
 "nbformat_minor": 2
}
